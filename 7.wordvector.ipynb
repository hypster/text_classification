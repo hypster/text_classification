{
 "cells": [
  {
   "cell_type": "code",
   "execution_count": 2,
   "metadata": {},
   "outputs": [
    {
     "name": "stderr",
     "output_type": "stream",
     "text": [
      "Using TensorFlow backend.\n",
      "/Users/septem/anaconda3/lib/python3.6/site-packages/tensorflow/python/framework/dtypes.py:523: FutureWarning: Passing (type, 1) or '1type' as a synonym of type is deprecated; in a future version of numpy, it will be understood as (type, (1,)) / '(1,)type'.\n",
      "  _np_qint8 = np.dtype([(\"qint8\", np.int8, 1)])\n",
      "/Users/septem/anaconda3/lib/python3.6/site-packages/tensorflow/python/framework/dtypes.py:524: FutureWarning: Passing (type, 1) or '1type' as a synonym of type is deprecated; in a future version of numpy, it will be understood as (type, (1,)) / '(1,)type'.\n",
      "  _np_quint8 = np.dtype([(\"quint8\", np.uint8, 1)])\n",
      "/Users/septem/anaconda3/lib/python3.6/site-packages/tensorflow/python/framework/dtypes.py:525: FutureWarning: Passing (type, 1) or '1type' as a synonym of type is deprecated; in a future version of numpy, it will be understood as (type, (1,)) / '(1,)type'.\n",
      "  _np_qint16 = np.dtype([(\"qint16\", np.int16, 1)])\n",
      "/Users/septem/anaconda3/lib/python3.6/site-packages/tensorflow/python/framework/dtypes.py:526: FutureWarning: Passing (type, 1) or '1type' as a synonym of type is deprecated; in a future version of numpy, it will be understood as (type, (1,)) / '(1,)type'.\n",
      "  _np_quint16 = np.dtype([(\"quint16\", np.uint16, 1)])\n",
      "/Users/septem/anaconda3/lib/python3.6/site-packages/tensorflow/python/framework/dtypes.py:527: FutureWarning: Passing (type, 1) or '1type' as a synonym of type is deprecated; in a future version of numpy, it will be understood as (type, (1,)) / '(1,)type'.\n",
      "  _np_qint32 = np.dtype([(\"qint32\", np.int32, 1)])\n",
      "/Users/septem/anaconda3/lib/python3.6/site-packages/tensorflow/python/framework/dtypes.py:532: FutureWarning: Passing (type, 1) or '1type' as a synonym of type is deprecated; in a future version of numpy, it will be understood as (type, (1,)) / '(1,)type'.\n",
      "  np_resource = np.dtype([(\"resource\", np.ubyte, 1)])\n"
     ]
    }
   ],
   "source": [
    "from gensim.models import Word2Vec\n",
    "import gensim.downloader as api\n",
    "from nltk.corpus import CategorizedPlaintextCorpusReader\n",
    "import pandas as pd\n",
    "import numpy as np\n",
    "from util import corpus_to_df\n",
    "from sklearn.decomposition import PCA\n",
    "from sklearn.preprocessing import StandardScaler\n",
    "from sklearn.manifold import TSNE\n",
    "from sklearn.feature_extraction.text import TfidfVectorizer\n",
    "from sklearn.feature_extraction.text import CountVectorizer\n",
    "from sklearn.metrics import classification_report\n",
    "from sklearn.decomposition import TruncatedSVD\n",
    "from sklearn import utils\n",
    "from sklearn.model_selection import train_test_split\n",
    "from sklearn.linear_model import LogisticRegression\n",
    "\n",
    "from scipy.sparse import hstack\n",
    "\n",
    "\n",
    "from keras.models import Sequential\n",
    "from keras import layers\n",
    "\n",
    "import time\n",
    "import matplotlib.pyplot as plt\n",
    "import matplotlib.patheffects as PathEffects\n",
    "%matplotlib inline\n",
    "\n",
    "from tqdm import tqdm\n",
    "tqdm.pandas(desc=\"progress-bar\")\n",
    "from gensim.models import Doc2Vec\n",
    "import gensim\n",
    "\n",
    "from gensim.models.doc2vec import TaggedDocument\n",
    "import re\n",
    "from util import read_corpus\n",
    "from util import split_data\n",
    "\n",
    "import seaborn as sns\n",
    "sns.set_style('darkgrid')\n",
    "sns.set_palette('muted')\n",
    "sns.set_context(\"notebook\", font_scale=1.5,\n",
    "                rc={\"lines.linewidth\": 2.5})\n",
    "RS = 42"
   ]
  },
  {
   "cell_type": "code",
   "execution_count": 3,
   "metadata": {},
   "outputs": [],
   "source": [
    "corpus_en_cleaned, corpus_nl_cleaned, corpus_cleaned = read_corpus('/Users/septem/Downloads/companies_cleaned/')"
   ]
  },
  {
   "cell_type": "code",
   "execution_count": 4,
   "metadata": {},
   "outputs": [],
   "source": [
    "df = corpus_to_df(corpus_cleaned)"
   ]
  },
  {
   "cell_type": "code",
   "execution_count": 6,
   "metadata": {},
   "outputs": [],
   "source": [
    "df_en = corpus_to_df(corpus_cleaned,lang='en')"
   ]
  },
  {
   "cell_type": "code",
   "execution_count": 24,
   "metadata": {},
   "outputs": [],
   "source": [
    "model = Word2Vec([corpus_en_cleaned.words(id) for id in corpus_en_cleaned.fileids()],\n",
    "                 size=32,      # embedding vector size\n",
    "                 min_count=5,  # consider words that occured at least 5 times\n",
    "                 window=5).wv  # define context as a 5-word window around the target word"
   ]
  },
  {
   "cell_type": "code",
   "execution_count": 12,
   "metadata": {},
   "outputs": [
    {
     "name": "stdout",
     "output_type": "stream",
     "text": [
      "/Users/septem/gensim-data/glove-wiki-gigaword-100/glove-wiki-gigaword-100.gz\n"
     ]
    }
   ],
   "source": [
    "# print(api.load('glove-wiki-gigaword-100', return_path=True))"
   ]
  },
  {
   "cell_type": "code",
   "execution_count": 201,
   "metadata": {},
   "outputs": [
    {
     "data": {
      "text/plain": [
       "[('innovation', 0.823898434638977),\n",
       " ('develop', 0.78158038854599),\n",
       " ('creativ', 0.7659180164337158),\n",
       " ('tomorrow', 0.7540677189826965),\n",
       " ('innovations', 0.7514084577560425),\n",
       " ('solutions', 0.7481990456581116),\n",
       " ('centric', 0.7413930892944336),\n",
       " ('pioneer', 0.7408238649368286),\n",
       " ('forefront', 0.7349944710731506),\n",
       " ('transform', 0.7328420877456665)]"
      ]
     },
     "execution_count": 201,
     "metadata": {},
     "output_type": "execute_result"
    }
   ],
   "source": [
    "model.most_similar('innov')"
   ]
  },
  {
   "cell_type": "code",
   "execution_count": 27,
   "metadata": {},
   "outputs": [
    {
     "data": {
      "text/plain": [
       "array([-0.6923239 ,  0.09054793,  0.70645565,  2.1132605 ,  2.5056994 ,\n",
       "        2.8179712 ,  0.30747154, -1.0248929 ,  0.4417699 ,  0.16380109,\n",
       "        1.5619235 ,  2.2814832 , -2.069246  , -1.9675705 , -6.80373   ,\n",
       "        0.48478338,  0.13308588, -1.5050983 ,  2.0396683 , -0.24057171,\n",
       "        1.0387337 , -0.37793085,  1.0940773 ,  1.1091944 ,  0.65006703,\n",
       "        3.218774  ,  3.0125523 , -2.2331395 , -1.6542906 ,  0.3736558 ,\n",
       "       -3.8481858 , -0.61232626], dtype=float32)"
      ]
     },
     "execution_count": 27,
     "metadata": {},
     "output_type": "execute_result"
    }
   ],
   "source": [
    "model.get_vector('innov')"
   ]
  },
  {
   "cell_type": "code",
   "execution_count": 197,
   "metadata": {},
   "outputs": [
    {
     "data": {
      "text/plain": [
       "[('today', 0.715315580368042),\n",
       " ('market', 0.6962562203407288),\n",
       " ('product', 0.6818262338638306),\n",
       " ('oem', 0.6814472079277039),\n",
       " ('sales', 0.674994707107544),\n",
       " ('flexibl', 0.6695233583450317),\n",
       " ('centrica', 0.6604280471801758),\n",
       " ('solutions', 0.651424765586853),\n",
       " ('custom', 0.6478621959686279),\n",
       " ('competit', 0.6276135444641113)]"
      ]
     },
     "execution_count": 197,
     "metadata": {},
     "output_type": "execute_result"
    }
   ],
   "source": [
    "model.most_similar(positive=['sale','innov'])"
   ]
  },
  {
   "cell_type": "code",
   "execution_count": 30,
   "metadata": {},
   "outputs": [
    {
     "data": {
      "text/plain": [
       "[('cisg', 0.6819796562194824),\n",
       " ('representative', 0.6522023677825928),\n",
       " ('liais', 0.6447930335998535),\n",
       " ('credit', 0.6350514888763428),\n",
       " ('rep', 0.6234813928604126),\n",
       " ('enquiry', 0.6127030849456787),\n",
       " ('psh', 0.6110679507255554),\n",
       " ('extras', 0.6028674840927124),\n",
       " ('loan', 0.5703408718109131),\n",
       " ('dulimex', 0.5598212480545044)]"
      ]
     },
     "execution_count": 30,
     "metadata": {},
     "output_type": "execute_result"
    }
   ],
   "source": [
    "model.most_similar(positive=['sale'],negative=['innov'])"
   ]
  },
  {
   "cell_type": "code",
   "execution_count": 32,
   "metadata": {},
   "outputs": [
    {
     "data": {
      "text/plain": [
       "6004"
      ]
     },
     "execution_count": 32,
     "metadata": {},
     "output_type": "execute_result"
    }
   ],
   "source": [
    "model.vocab['innov'].count"
   ]
  },
  {
   "cell_type": "code",
   "execution_count": 33,
   "metadata": {},
   "outputs": [
    {
     "name": "stdout",
     "output_type": "stream",
     "text": [
      "[',', 'learn', 'effect', 'video', 'amsterdam', 'real', 'medic', 'heavi', 'competit', 'organis']\n"
     ]
    }
   ],
   "source": [
    "words = sorted(model.vocab.keys(), \n",
    "               key=lambda word: model.vocab[word].count,\n",
    "               reverse=True)[:1000]\n",
    "\n",
    "print(words[::100])"
   ]
  },
  {
   "cell_type": "code",
   "execution_count": 34,
   "metadata": {},
   "outputs": [],
   "source": [
    "# for each word, compute it's vector with model\n",
    "word_vectors = []\n",
    "\n",
    "for i in words:\n",
    "    word_vectors.append(model.get_vector(i))"
   ]
  },
  {
   "cell_type": "code",
   "execution_count": 38,
   "metadata": {},
   "outputs": [],
   "source": [
    "word_vectors = np.array(word_vectors)"
   ]
  },
  {
   "cell_type": "code",
   "execution_count": 40,
   "metadata": {},
   "outputs": [],
   "source": [
    "pca = PCA(n_components=2, random_state=42)\n",
    "scaler = StandardScaler()\n",
    "word_vectors_pca = pca.fit_transform(word_vectors)\n",
    "word_vectors_pca = scaler.fit_transform(word_vectors_pca)"
   ]
  },
  {
   "cell_type": "code",
   "execution_count": 41,
   "metadata": {},
   "outputs": [
    {
     "data": {
      "text/html": [
       "\n",
       "    <div class=\"bk-root\">\n",
       "        <a href=\"https://bokeh.org\" target=\"_blank\" class=\"bk-logo bk-logo-small bk-logo-notebook\"></a>\n",
       "        <span id=\"1001\">Loading BokehJS ...</span>\n",
       "    </div>"
      ]
     },
     "metadata": {},
     "output_type": "display_data"
    },
    {
     "data": {
      "application/javascript": [
       "\n",
       "(function(root) {\n",
       "  function now() {\n",
       "    return new Date();\n",
       "  }\n",
       "\n",
       "  var force = true;\n",
       "\n",
       "  if (typeof root._bokeh_onload_callbacks === \"undefined\" || force === true) {\n",
       "    root._bokeh_onload_callbacks = [];\n",
       "    root._bokeh_is_loading = undefined;\n",
       "  }\n",
       "\n",
       "  var JS_MIME_TYPE = 'application/javascript';\n",
       "  var HTML_MIME_TYPE = 'text/html';\n",
       "  var EXEC_MIME_TYPE = 'application/vnd.bokehjs_exec.v0+json';\n",
       "  var CLASS_NAME = 'output_bokeh rendered_html';\n",
       "\n",
       "  /**\n",
       "   * Render data to the DOM node\n",
       "   */\n",
       "  function render(props, node) {\n",
       "    var script = document.createElement(\"script\");\n",
       "    node.appendChild(script);\n",
       "  }\n",
       "\n",
       "  /**\n",
       "   * Handle when an output is cleared or removed\n",
       "   */\n",
       "  function handleClearOutput(event, handle) {\n",
       "    var cell = handle.cell;\n",
       "\n",
       "    var id = cell.output_area._bokeh_element_id;\n",
       "    var server_id = cell.output_area._bokeh_server_id;\n",
       "    // Clean up Bokeh references\n",
       "    if (id != null && id in Bokeh.index) {\n",
       "      Bokeh.index[id].model.document.clear();\n",
       "      delete Bokeh.index[id];\n",
       "    }\n",
       "\n",
       "    if (server_id !== undefined) {\n",
       "      // Clean up Bokeh references\n",
       "      var cmd = \"from bokeh.io.state import curstate; print(curstate().uuid_to_server['\" + server_id + \"'].get_sessions()[0].document.roots[0]._id)\";\n",
       "      cell.notebook.kernel.execute(cmd, {\n",
       "        iopub: {\n",
       "          output: function(msg) {\n",
       "            var id = msg.content.text.trim();\n",
       "            if (id in Bokeh.index) {\n",
       "              Bokeh.index[id].model.document.clear();\n",
       "              delete Bokeh.index[id];\n",
       "            }\n",
       "          }\n",
       "        }\n",
       "      });\n",
       "      // Destroy server and session\n",
       "      var cmd = \"import bokeh.io.notebook as ion; ion.destroy_server('\" + server_id + \"')\";\n",
       "      cell.notebook.kernel.execute(cmd);\n",
       "    }\n",
       "  }\n",
       "\n",
       "  /**\n",
       "   * Handle when a new output is added\n",
       "   */\n",
       "  function handleAddOutput(event, handle) {\n",
       "    var output_area = handle.output_area;\n",
       "    var output = handle.output;\n",
       "\n",
       "    // limit handleAddOutput to display_data with EXEC_MIME_TYPE content only\n",
       "    if ((output.output_type != \"display_data\") || (!output.data.hasOwnProperty(EXEC_MIME_TYPE))) {\n",
       "      return\n",
       "    }\n",
       "\n",
       "    var toinsert = output_area.element.find(\".\" + CLASS_NAME.split(' ')[0]);\n",
       "\n",
       "    if (output.metadata[EXEC_MIME_TYPE][\"id\"] !== undefined) {\n",
       "      toinsert[toinsert.length - 1].firstChild.textContent = output.data[JS_MIME_TYPE];\n",
       "      // store reference to embed id on output_area\n",
       "      output_area._bokeh_element_id = output.metadata[EXEC_MIME_TYPE][\"id\"];\n",
       "    }\n",
       "    if (output.metadata[EXEC_MIME_TYPE][\"server_id\"] !== undefined) {\n",
       "      var bk_div = document.createElement(\"div\");\n",
       "      bk_div.innerHTML = output.data[HTML_MIME_TYPE];\n",
       "      var script_attrs = bk_div.children[0].attributes;\n",
       "      for (var i = 0; i < script_attrs.length; i++) {\n",
       "        toinsert[toinsert.length - 1].firstChild.setAttribute(script_attrs[i].name, script_attrs[i].value);\n",
       "      }\n",
       "      // store reference to server id on output_area\n",
       "      output_area._bokeh_server_id = output.metadata[EXEC_MIME_TYPE][\"server_id\"];\n",
       "    }\n",
       "  }\n",
       "\n",
       "  function register_renderer(events, OutputArea) {\n",
       "\n",
       "    function append_mime(data, metadata, element) {\n",
       "      // create a DOM node to render to\n",
       "      var toinsert = this.create_output_subarea(\n",
       "        metadata,\n",
       "        CLASS_NAME,\n",
       "        EXEC_MIME_TYPE\n",
       "      );\n",
       "      this.keyboard_manager.register_events(toinsert);\n",
       "      // Render to node\n",
       "      var props = {data: data, metadata: metadata[EXEC_MIME_TYPE]};\n",
       "      render(props, toinsert[toinsert.length - 1]);\n",
       "      element.append(toinsert);\n",
       "      return toinsert\n",
       "    }\n",
       "\n",
       "    /* Handle when an output is cleared or removed */\n",
       "    events.on('clear_output.CodeCell', handleClearOutput);\n",
       "    events.on('delete.Cell', handleClearOutput);\n",
       "\n",
       "    /* Handle when a new output is added */\n",
       "    events.on('output_added.OutputArea', handleAddOutput);\n",
       "\n",
       "    /**\n",
       "     * Register the mime type and append_mime function with output_area\n",
       "     */\n",
       "    OutputArea.prototype.register_mime_type(EXEC_MIME_TYPE, append_mime, {\n",
       "      /* Is output safe? */\n",
       "      safe: true,\n",
       "      /* Index of renderer in `output_area.display_order` */\n",
       "      index: 0\n",
       "    });\n",
       "  }\n",
       "\n",
       "  // register the mime type if in Jupyter Notebook environment and previously unregistered\n",
       "  if (root.Jupyter !== undefined) {\n",
       "    var events = require('base/js/events');\n",
       "    var OutputArea = require('notebook/js/outputarea').OutputArea;\n",
       "\n",
       "    if (OutputArea.prototype.mime_types().indexOf(EXEC_MIME_TYPE) == -1) {\n",
       "      register_renderer(events, OutputArea);\n",
       "    }\n",
       "  }\n",
       "\n",
       "  \n",
       "  if (typeof (root._bokeh_timeout) === \"undefined\" || force === true) {\n",
       "    root._bokeh_timeout = Date.now() + 5000;\n",
       "    root._bokeh_failed_load = false;\n",
       "  }\n",
       "\n",
       "  var NB_LOAD_WARNING = {'data': {'text/html':\n",
       "     \"<div style='background-color: #fdd'>\\n\"+\n",
       "     \"<p>\\n\"+\n",
       "     \"BokehJS does not appear to have successfully loaded. If loading BokehJS from CDN, this \\n\"+\n",
       "     \"may be due to a slow or bad network connection. Possible fixes:\\n\"+\n",
       "     \"</p>\\n\"+\n",
       "     \"<ul>\\n\"+\n",
       "     \"<li>re-rerun `output_notebook()` to attempt to load from CDN again, or</li>\\n\"+\n",
       "     \"<li>use INLINE resources instead, as so:</li>\\n\"+\n",
       "     \"</ul>\\n\"+\n",
       "     \"<code>\\n\"+\n",
       "     \"from bokeh.resources import INLINE\\n\"+\n",
       "     \"output_notebook(resources=INLINE)\\n\"+\n",
       "     \"</code>\\n\"+\n",
       "     \"</div>\"}};\n",
       "\n",
       "  function display_loaded() {\n",
       "    var el = document.getElementById(\"1001\");\n",
       "    if (el != null) {\n",
       "      el.textContent = \"BokehJS is loading...\";\n",
       "    }\n",
       "    if (root.Bokeh !== undefined) {\n",
       "      if (el != null) {\n",
       "        el.textContent = \"BokehJS \" + root.Bokeh.version + \" successfully loaded.\";\n",
       "      }\n",
       "    } else if (Date.now() < root._bokeh_timeout) {\n",
       "      setTimeout(display_loaded, 100)\n",
       "    }\n",
       "  }\n",
       "\n",
       "\n",
       "  function run_callbacks() {\n",
       "    try {\n",
       "      root._bokeh_onload_callbacks.forEach(function(callback) {\n",
       "        if (callback != null)\n",
       "          callback();\n",
       "      });\n",
       "    } finally {\n",
       "      delete root._bokeh_onload_callbacks\n",
       "    }\n",
       "    console.debug(\"Bokeh: all callbacks have finished\");\n",
       "  }\n",
       "\n",
       "  function load_libs(css_urls, js_urls, callback) {\n",
       "    if (css_urls == null) css_urls = [];\n",
       "    if (js_urls == null) js_urls = [];\n",
       "\n",
       "    root._bokeh_onload_callbacks.push(callback);\n",
       "    if (root._bokeh_is_loading > 0) {\n",
       "      console.debug(\"Bokeh: BokehJS is being loaded, scheduling callback at\", now());\n",
       "      return null;\n",
       "    }\n",
       "    if (js_urls == null || js_urls.length === 0) {\n",
       "      run_callbacks();\n",
       "      return null;\n",
       "    }\n",
       "    console.debug(\"Bokeh: BokehJS not loaded, scheduling load and callback at\", now());\n",
       "    root._bokeh_is_loading = css_urls.length + js_urls.length;\n",
       "\n",
       "    function on_load() {\n",
       "      root._bokeh_is_loading--;\n",
       "      if (root._bokeh_is_loading === 0) {\n",
       "        console.debug(\"Bokeh: all BokehJS libraries/stylesheets loaded\");\n",
       "        run_callbacks()\n",
       "      }\n",
       "    }\n",
       "\n",
       "    function on_error() {\n",
       "      console.error(\"failed to load \" + url);\n",
       "    }\n",
       "\n",
       "    for (var i = 0; i < css_urls.length; i++) {\n",
       "      var url = css_urls[i];\n",
       "      const element = document.createElement(\"link\");\n",
       "      element.onload = on_load;\n",
       "      element.onerror = on_error;\n",
       "      element.rel = \"stylesheet\";\n",
       "      element.type = \"text/css\";\n",
       "      element.href = url;\n",
       "      console.debug(\"Bokeh: injecting link tag for BokehJS stylesheet: \", url);\n",
       "      document.body.appendChild(element);\n",
       "    }\n",
       "\n",
       "    for (var i = 0; i < js_urls.length; i++) {\n",
       "      var url = js_urls[i];\n",
       "      var element = document.createElement('script');\n",
       "      element.onload = on_load;\n",
       "      element.onerror = on_error;\n",
       "      element.async = false;\n",
       "      element.src = url;\n",
       "      console.debug(\"Bokeh: injecting script tag for BokehJS library: \", url);\n",
       "      document.head.appendChild(element);\n",
       "    }\n",
       "  };var element = document.getElementById(\"1001\");\n",
       "  if (element == null) {\n",
       "    console.error(\"Bokeh: ERROR: autoload.js configured with elementid '1001' but no matching script tag was found. \")\n",
       "    return false;\n",
       "  }\n",
       "\n",
       "  function inject_raw_css(css) {\n",
       "    const element = document.createElement(\"style\");\n",
       "    element.appendChild(document.createTextNode(css));\n",
       "    document.body.appendChild(element);\n",
       "  }\n",
       "\n",
       "  \n",
       "  var js_urls = [\"https://cdn.pydata.org/bokeh/release/bokeh-1.4.0.min.js\", \"https://cdn.pydata.org/bokeh/release/bokeh-widgets-1.4.0.min.js\", \"https://cdn.pydata.org/bokeh/release/bokeh-tables-1.4.0.min.js\", \"https://cdn.pydata.org/bokeh/release/bokeh-gl-1.4.0.min.js\"];\n",
       "  var css_urls = [];\n",
       "  \n",
       "\n",
       "  var inline_js = [\n",
       "    function(Bokeh) {\n",
       "      Bokeh.set_log_level(\"info\");\n",
       "    },\n",
       "    function(Bokeh) {\n",
       "    \n",
       "    \n",
       "    }\n",
       "  ];\n",
       "\n",
       "  function run_inline_js() {\n",
       "    \n",
       "    if (root.Bokeh !== undefined || force === true) {\n",
       "      \n",
       "    for (var i = 0; i < inline_js.length; i++) {\n",
       "      inline_js[i].call(root, root.Bokeh);\n",
       "    }\n",
       "    if (force === true) {\n",
       "        display_loaded();\n",
       "      }} else if (Date.now() < root._bokeh_timeout) {\n",
       "      setTimeout(run_inline_js, 100);\n",
       "    } else if (!root._bokeh_failed_load) {\n",
       "      console.log(\"Bokeh: BokehJS failed to load within specified timeout.\");\n",
       "      root._bokeh_failed_load = true;\n",
       "    } else if (force !== true) {\n",
       "      var cell = $(document.getElementById(\"1001\")).parents('.cell').data().cell;\n",
       "      cell.output_area.append_execute_result(NB_LOAD_WARNING)\n",
       "    }\n",
       "\n",
       "  }\n",
       "\n",
       "  if (root._bokeh_is_loading === 0) {\n",
       "    console.debug(\"Bokeh: BokehJS loaded, going straight to plotting\");\n",
       "    run_inline_js();\n",
       "  } else {\n",
       "    load_libs(css_urls, js_urls, function() {\n",
       "      console.debug(\"Bokeh: BokehJS plotting callback run at\", now());\n",
       "      run_inline_js();\n",
       "    });\n",
       "  }\n",
       "}(window));"
      ],
      "application/vnd.bokehjs_load.v0+json": "\n(function(root) {\n  function now() {\n    return new Date();\n  }\n\n  var force = true;\n\n  if (typeof root._bokeh_onload_callbacks === \"undefined\" || force === true) {\n    root._bokeh_onload_callbacks = [];\n    root._bokeh_is_loading = undefined;\n  }\n\n  \n\n  \n  if (typeof (root._bokeh_timeout) === \"undefined\" || force === true) {\n    root._bokeh_timeout = Date.now() + 5000;\n    root._bokeh_failed_load = false;\n  }\n\n  var NB_LOAD_WARNING = {'data': {'text/html':\n     \"<div style='background-color: #fdd'>\\n\"+\n     \"<p>\\n\"+\n     \"BokehJS does not appear to have successfully loaded. If loading BokehJS from CDN, this \\n\"+\n     \"may be due to a slow or bad network connection. Possible fixes:\\n\"+\n     \"</p>\\n\"+\n     \"<ul>\\n\"+\n     \"<li>re-rerun `output_notebook()` to attempt to load from CDN again, or</li>\\n\"+\n     \"<li>use INLINE resources instead, as so:</li>\\n\"+\n     \"</ul>\\n\"+\n     \"<code>\\n\"+\n     \"from bokeh.resources import INLINE\\n\"+\n     \"output_notebook(resources=INLINE)\\n\"+\n     \"</code>\\n\"+\n     \"</div>\"}};\n\n  function display_loaded() {\n    var el = document.getElementById(\"1001\");\n    if (el != null) {\n      el.textContent = \"BokehJS is loading...\";\n    }\n    if (root.Bokeh !== undefined) {\n      if (el != null) {\n        el.textContent = \"BokehJS \" + root.Bokeh.version + \" successfully loaded.\";\n      }\n    } else if (Date.now() < root._bokeh_timeout) {\n      setTimeout(display_loaded, 100)\n    }\n  }\n\n\n  function run_callbacks() {\n    try {\n      root._bokeh_onload_callbacks.forEach(function(callback) {\n        if (callback != null)\n          callback();\n      });\n    } finally {\n      delete root._bokeh_onload_callbacks\n    }\n    console.debug(\"Bokeh: all callbacks have finished\");\n  }\n\n  function load_libs(css_urls, js_urls, callback) {\n    if (css_urls == null) css_urls = [];\n    if (js_urls == null) js_urls = [];\n\n    root._bokeh_onload_callbacks.push(callback);\n    if (root._bokeh_is_loading > 0) {\n      console.debug(\"Bokeh: BokehJS is being loaded, scheduling callback at\", now());\n      return null;\n    }\n    if (js_urls == null || js_urls.length === 0) {\n      run_callbacks();\n      return null;\n    }\n    console.debug(\"Bokeh: BokehJS not loaded, scheduling load and callback at\", now());\n    root._bokeh_is_loading = css_urls.length + js_urls.length;\n\n    function on_load() {\n      root._bokeh_is_loading--;\n      if (root._bokeh_is_loading === 0) {\n        console.debug(\"Bokeh: all BokehJS libraries/stylesheets loaded\");\n        run_callbacks()\n      }\n    }\n\n    function on_error() {\n      console.error(\"failed to load \" + url);\n    }\n\n    for (var i = 0; i < css_urls.length; i++) {\n      var url = css_urls[i];\n      const element = document.createElement(\"link\");\n      element.onload = on_load;\n      element.onerror = on_error;\n      element.rel = \"stylesheet\";\n      element.type = \"text/css\";\n      element.href = url;\n      console.debug(\"Bokeh: injecting link tag for BokehJS stylesheet: \", url);\n      document.body.appendChild(element);\n    }\n\n    for (var i = 0; i < js_urls.length; i++) {\n      var url = js_urls[i];\n      var element = document.createElement('script');\n      element.onload = on_load;\n      element.onerror = on_error;\n      element.async = false;\n      element.src = url;\n      console.debug(\"Bokeh: injecting script tag for BokehJS library: \", url);\n      document.head.appendChild(element);\n    }\n  };var element = document.getElementById(\"1001\");\n  if (element == null) {\n    console.error(\"Bokeh: ERROR: autoload.js configured with elementid '1001' but no matching script tag was found. \")\n    return false;\n  }\n\n  function inject_raw_css(css) {\n    const element = document.createElement(\"style\");\n    element.appendChild(document.createTextNode(css));\n    document.body.appendChild(element);\n  }\n\n  \n  var js_urls = [\"https://cdn.pydata.org/bokeh/release/bokeh-1.4.0.min.js\", \"https://cdn.pydata.org/bokeh/release/bokeh-widgets-1.4.0.min.js\", \"https://cdn.pydata.org/bokeh/release/bokeh-tables-1.4.0.min.js\", \"https://cdn.pydata.org/bokeh/release/bokeh-gl-1.4.0.min.js\"];\n  var css_urls = [];\n  \n\n  var inline_js = [\n    function(Bokeh) {\n      Bokeh.set_log_level(\"info\");\n    },\n    function(Bokeh) {\n    \n    \n    }\n  ];\n\n  function run_inline_js() {\n    \n    if (root.Bokeh !== undefined || force === true) {\n      \n    for (var i = 0; i < inline_js.length; i++) {\n      inline_js[i].call(root, root.Bokeh);\n    }\n    if (force === true) {\n        display_loaded();\n      }} else if (Date.now() < root._bokeh_timeout) {\n      setTimeout(run_inline_js, 100);\n    } else if (!root._bokeh_failed_load) {\n      console.log(\"Bokeh: BokehJS failed to load within specified timeout.\");\n      root._bokeh_failed_load = true;\n    } else if (force !== true) {\n      var cell = $(document.getElementById(\"1001\")).parents('.cell').data().cell;\n      cell.output_area.append_execute_result(NB_LOAD_WARNING)\n    }\n\n  }\n\n  if (root._bokeh_is_loading === 0) {\n    console.debug(\"Bokeh: BokehJS loaded, going straight to plotting\");\n    run_inline_js();\n  } else {\n    load_libs(css_urls, js_urls, function() {\n      console.debug(\"Bokeh: BokehJS plotting callback run at\", now());\n      run_inline_js();\n    });\n  }\n}(window));"
     },
     "metadata": {},
     "output_type": "display_data"
    }
   ],
   "source": [
    "import bokeh.models as bm, bokeh.plotting as pl\n",
    "from bokeh.io import output_notebook\n",
    "output_notebook()\n",
    "\n",
    "def draw_vectors(x, y, radius=10, alpha=0.25, color='blue',\n",
    "                 width=600, height=400, show=True, **kwargs):\n",
    "    \"\"\" draws an interactive plot for data points with auxilirary info on hover \"\"\"\n",
    "    if isinstance(color, str): color = [color] * len(x)\n",
    "    data_source = bm.ColumnDataSource({ 'x' : x, 'y' : y, 'color': color, **kwargs })\n",
    "\n",
    "    fig = pl.figure(active_scroll='wheel_zoom', width=width, height=height)\n",
    "    fig.scatter('x', 'y', size=radius, color='color', alpha=alpha, source=data_source)\n",
    "\n",
    "    fig.add_tools(bm.HoverTool(tooltips=[(key, \"@\" + key) for key in kwargs.keys()]))\n",
    "    if show: pl.show(fig)\n",
    "    return fig"
   ]
  },
  {
   "cell_type": "code",
   "execution_count": 42,
   "metadata": {},
   "outputs": [
    {
     "data": {
      "text/html": [
       "\n",
       "\n",
       "\n",
       "\n",
       "\n",
       "\n",
       "  <div class=\"bk-root\" id=\"fdadf9fe-2c28-4523-9c1b-51e771b3f9af\" data-root-id=\"1003\"></div>\n"
      ]
     },
     "metadata": {},
     "output_type": "display_data"
    },
    {
     "data": {
      "application/javascript": [
       "(function(root) {\n",
       "  function embed_document(root) {\n",
       "    \n",
       "  var docs_json = {\"62670148-926d-4e6f-a43e-384609ce1061\":{\"roots\":{\"references\":[{\"attributes\":{\"below\":[{\"id\":\"1012\",\"type\":\"LinearAxis\"}],\"center\":[{\"id\":\"1016\",\"type\":\"Grid\"},{\"id\":\"1021\",\"type\":\"Grid\"}],\"left\":[{\"id\":\"1017\",\"type\":\"LinearAxis\"}],\"plot_height\":400,\"renderers\":[{\"id\":\"1038\",\"type\":\"GlyphRenderer\"}],\"title\":{\"id\":\"1043\",\"type\":\"Title\"},\"toolbar\":{\"id\":\"1028\",\"type\":\"Toolbar\"},\"x_range\":{\"id\":\"1004\",\"type\":\"DataRange1d\"},\"x_scale\":{\"id\":\"1008\",\"type\":\"LinearScale\"},\"y_range\":{\"id\":\"1006\",\"type\":\"DataRange1d\"},\"y_scale\":{\"id\":\"1010\",\"type\":\"LinearScale\"}},\"id\":\"1003\",\"subtype\":\"Figure\",\"type\":\"Plot\"},{\"attributes\":{},\"id\":\"1026\",\"type\":\"ResetTool\"},{\"attributes\":{},\"id\":\"1010\",\"type\":\"LinearScale\"},{\"attributes\":{},\"id\":\"1022\",\"type\":\"PanTool\"},{\"attributes\":{\"callback\":null},\"id\":\"1006\",\"type\":\"DataRange1d\"},{\"attributes\":{\"dimension\":1,\"ticker\":{\"id\":\"1018\",\"type\":\"BasicTicker\"}},\"id\":\"1021\",\"type\":\"Grid\"},{\"attributes\":{\"callback\":null,\"tooltips\":[[\"token\",\"@token\"]]},\"id\":\"1040\",\"type\":\"HoverTool\"},{\"attributes\":{\"fill_alpha\":{\"value\":0.1},\"fill_color\":{\"value\":\"#1f77b4\"},\"line_alpha\":{\"value\":0.1},\"line_color\":{\"value\":\"#1f77b4\"},\"size\":{\"units\":\"screen\",\"value\":10},\"x\":{\"field\":\"x\"},\"y\":{\"field\":\"y\"}},\"id\":\"1037\",\"type\":\"Scatter\"},{\"attributes\":{},\"id\":\"1047\",\"type\":\"BasicTickFormatter\"},{\"attributes\":{\"callback\":null},\"id\":\"1004\",\"type\":\"DataRange1d\"},{\"attributes\":{\"formatter\":{\"id\":\"1047\",\"type\":\"BasicTickFormatter\"},\"ticker\":{\"id\":\"1013\",\"type\":\"BasicTicker\"}},\"id\":\"1012\",\"type\":\"LinearAxis\"},{\"attributes\":{},\"id\":\"1027\",\"type\":\"HelpTool\"},{\"attributes\":{},\"id\":\"1008\",\"type\":\"LinearScale\"},{\"attributes\":{},\"id\":\"1048\",\"type\":\"Selection\"},{\"attributes\":{\"callback\":null,\"data\":{\"color\":[\"blue\",\"blue\",\"blue\",\"blue\",\"blue\",\"blue\",\"blue\",\"blue\",\"blue\",\"blue\",\"blue\",\"blue\",\"blue\",\"blue\",\"blue\",\"blue\",\"blue\",\"blue\",\"blue\",\"blue\",\"blue\",\"blue\",\"blue\",\"blue\",\"blue\",\"blue\",\"blue\",\"blue\",\"blue\",\"blue\",\"blue\",\"blue\",\"blue\",\"blue\",\"blue\",\"blue\",\"blue\",\"blue\",\"blue\",\"blue\",\"blue\",\"blue\",\"blue\",\"blue\",\"blue\",\"blue\",\"blue\",\"blue\",\"blue\",\"blue\",\"blue\",\"blue\",\"blue\",\"blue\",\"blue\",\"blue\",\"blue\",\"blue\",\"blue\",\"blue\",\"blue\",\"blue\",\"blue\",\"blue\",\"blue\",\"blue\",\"blue\",\"blue\",\"blue\",\"blue\",\"blue\",\"blue\",\"blue\",\"blue\",\"blue\",\"blue\",\"blue\",\"blue\",\"blue\",\"blue\",\"blue\",\"blue\",\"blue\",\"blue\",\"blue\",\"blue\",\"blue\",\"blue\",\"blue\",\"blue\",\"blue\",\"blue\",\"blue\",\"blue\",\"blue\",\"blue\",\"blue\",\"blue\",\"blue\",\"blue\",\"blue\",\"blue\",\"blue\",\"blue\",\"blue\",\"blue\",\"blue\",\"blue\",\"blue\",\"blue\",\"blue\",\"blue\",\"blue\",\"blue\",\"blue\",\"blue\",\"blue\",\"blue\",\"blue\",\"blue\",\"blue\",\"blue\",\"blue\",\"blue\",\"blue\",\"blue\",\"blue\",\"blue\",\"blue\",\"blue\",\"blue\",\"blue\",\"blue\",\"blue\",\"blue\",\"blue\",\"blue\",\"blue\",\"blue\",\"blue\",\"blue\",\"blue\",\"blue\",\"blue\",\"blue\",\"blue\",\"blue\",\"blue\",\"blue\",\"blue\",\"blue\",\"blue\",\"blue\",\"blue\",\"blue\",\"blue\",\"blue\",\"blue\",\"blue\",\"blue\",\"blue\",\"blue\",\"blue\",\"blue\",\"blue\",\"blue\",\"blue\",\"blue\",\"blue\",\"blue\",\"blue\",\"blue\",\"blue\",\"blue\",\"blue\",\"blue\",\"blue\",\"blue\",\"blue\",\"blue\",\"blue\",\"blue\",\"blue\",\"blue\",\"blue\",\"blue\",\"blue\",\"blue\",\"blue\",\"blue\",\"blue\",\"blue\",\"blue\",\"blue\",\"blue\",\"blue\",\"blue\",\"blue\",\"blue\",\"blue\",\"blue\",\"blue\",\"blue\",\"blue\",\"blue\",\"blue\",\"blue\",\"blue\",\"blue\",\"blue\",\"blue\",\"blue\",\"blue\",\"blue\",\"blue\",\"blue\",\"blue\",\"blue\",\"blue\",\"blue\",\"blue\",\"blue\",\"blue\",\"blue\",\"blue\",\"blue\",\"blue\",\"blue\",\"blue\",\"blue\",\"blue\",\"blue\",\"blue\",\"blue\",\"blue\",\"blue\",\"blue\",\"blue\",\"blue\",\"blue\",\"blue\",\"blue\",\"blue\",\"blue\",\"blue\",\"blue\",\"blue\",\"blue\",\"blue\",\"blue\",\"blue\",\"blue\",\"blue\",\"blue\",\"blue\",\"blue\",\"blue\",\"blue\",\"blue\",\"blue\",\"blue\",\"blue\",\"blue\",\"blue\",\"blue\",\"blue\",\"blue\",\"blue\",\"blue\",\"blue\",\"blue\",\"blue\",\"blue\",\"blue\",\"blue\",\"blue\",\"blue\",\"blue\",\"blue\",\"blue\",\"blue\",\"blue\",\"blue\",\"blue\",\"blue\",\"blue\",\"blue\",\"blue\",\"blue\",\"blue\",\"blue\",\"blue\",\"blue\",\"blue\",\"blue\",\"blue\",\"blue\",\"blue\",\"blue\",\"blue\",\"blue\",\"blue\",\"blue\",\"blue\",\"blue\",\"blue\",\"blue\",\"blue\",\"blue\",\"blue\",\"blue\",\"blue\",\"blue\",\"blue\",\"blue\",\"blue\",\"blue\",\"blue\",\"blue\",\"blue\",\"blue\",\"blue\",\"blue\",\"blue\",\"blue\",\"blue\",\"blue\",\"blue\",\"blue\",\"blue\",\"blue\",\"blue\",\"blue\",\"blue\",\"blue\",\"blue\",\"blue\",\"blue\",\"blue\",\"blue\",\"blue\",\"blue\",\"blue\",\"blue\",\"blue\",\"blue\",\"blue\",\"blue\",\"blue\",\"blue\",\"blue\",\"blue\",\"blue\",\"blue\",\"blue\",\"blue\",\"blue\",\"blue\",\"blue\",\"blue\",\"blue\",\"blue\",\"blue\",\"blue\",\"blue\",\"blue\",\"blue\",\"blue\",\"blue\",\"blue\",\"blue\",\"blue\",\"blue\",\"blue\",\"blue\",\"blue\",\"blue\",\"blue\",\"blue\",\"blue\",\"blue\",\"blue\",\"blue\",\"blue\",\"blue\",\"blue\",\"blue\",\"blue\",\"blue\",\"blue\",\"blue\",\"blue\",\"blue\",\"blue\",\"blue\",\"blue\",\"blue\",\"blue\",\"blue\",\"blue\",\"blue\",\"blue\",\"blue\",\"blue\",\"blue\",\"blue\",\"blue\",\"blue\",\"blue\",\"blue\",\"blue\",\"blue\",\"blue\",\"blue\",\"blue\",\"blue\",\"blue\",\"blue\",\"blue\",\"blue\",\"blue\",\"blue\",\"blue\",\"blue\",\"blue\",\"blue\",\"blue\",\"blue\",\"blue\",\"blue\",\"blue\",\"blue\",\"blue\",\"blue\",\"blue\",\"blue\",\"blue\",\"blue\",\"blue\",\"blue\",\"blue\",\"blue\",\"blue\",\"blue\",\"blue\",\"blue\",\"blue\",\"blue\",\"blue\",\"blue\",\"blue\",\"blue\",\"blue\",\"blue\",\"blue\",\"blue\",\"blue\",\"blue\",\"blue\",\"blue\",\"blue\",\"blue\",\"blue\",\"blue\",\"blue\",\"blue\",\"blue\",\"blue\",\"blue\",\"blue\",\"blue\",\"blue\",\"blue\",\"blue\",\"blue\",\"blue\",\"blue\",\"blue\",\"blue\",\"blue\",\"blue\",\"blue\",\"blue\",\"blue\",\"blue\",\"blue\",\"blue\",\"blue\",\"blue\",\"blue\",\"blue\",\"blue\",\"blue\",\"blue\",\"blue\",\"blue\",\"blue\",\"blue\",\"blue\",\"blue\",\"blue\",\"blue\",\"blue\",\"blue\",\"blue\",\"blue\",\"blue\",\"blue\",\"blue\",\"blue\",\"blue\",\"blue\",\"blue\",\"blue\",\"blue\",\"blue\",\"blue\",\"blue\",\"blue\",\"blue\",\"blue\",\"blue\",\"blue\",\"blue\",\"blue\",\"blue\",\"blue\",\"blue\",\"blue\",\"blue\",\"blue\",\"blue\",\"blue\",\"blue\",\"blue\",\"blue\",\"blue\",\"blue\",\"blue\",\"blue\",\"blue\",\"blue\",\"blue\",\"blue\",\"blue\",\"blue\",\"blue\",\"blue\",\"blue\",\"blue\",\"blue\",\"blue\",\"blue\",\"blue\",\"blue\",\"blue\",\"blue\",\"blue\",\"blue\",\"blue\",\"blue\",\"blue\",\"blue\",\"blue\",\"blue\",\"blue\",\"blue\",\"blue\",\"blue\",\"blue\",\"blue\",\"blue\",\"blue\",\"blue\",\"blue\",\"blue\",\"blue\",\"blue\",\"blue\",\"blue\",\"blue\",\"blue\",\"blue\",\"blue\",\"blue\",\"blue\",\"blue\",\"blue\",\"blue\",\"blue\",\"blue\",\"blue\",\"blue\",\"blue\",\"blue\",\"blue\",\"blue\",\"blue\",\"blue\",\"blue\",\"blue\",\"blue\",\"blue\",\"blue\",\"blue\",\"blue\",\"blue\",\"blue\",\"blue\",\"blue\",\"blue\",\"blue\",\"blue\",\"blue\",\"blue\",\"blue\",\"blue\",\"blue\",\"blue\",\"blue\",\"blue\",\"blue\",\"blue\",\"blue\",\"blue\",\"blue\",\"blue\",\"blue\",\"blue\",\"blue\",\"blue\",\"blue\",\"blue\",\"blue\",\"blue\",\"blue\",\"blue\",\"blue\",\"blue\",\"blue\",\"blue\",\"blue\",\"blue\",\"blue\",\"blue\",\"blue\",\"blue\",\"blue\",\"blue\",\"blue\",\"blue\",\"blue\",\"blue\",\"blue\",\"blue\",\"blue\",\"blue\",\"blue\",\"blue\",\"blue\",\"blue\",\"blue\",\"blue\",\"blue\",\"blue\",\"blue\",\"blue\",\"blue\",\"blue\",\"blue\",\"blue\",\"blue\",\"blue\",\"blue\",\"blue\",\"blue\",\"blue\",\"blue\",\"blue\",\"blue\",\"blue\",\"blue\",\"blue\",\"blue\",\"blue\",\"blue\",\"blue\",\"blue\",\"blue\",\"blue\",\"blue\",\"blue\",\"blue\",\"blue\",\"blue\",\"blue\",\"blue\",\"blue\",\"blue\",\"blue\",\"blue\",\"blue\",\"blue\",\"blue\",\"blue\",\"blue\",\"blue\",\"blue\",\"blue\",\"blue\",\"blue\",\"blue\",\"blue\",\"blue\",\"blue\",\"blue\",\"blue\",\"blue\",\"blue\",\"blue\",\"blue\",\"blue\",\"blue\",\"blue\",\"blue\",\"blue\",\"blue\",\"blue\",\"blue\",\"blue\",\"blue\",\"blue\",\"blue\",\"blue\",\"blue\",\"blue\",\"blue\",\"blue\",\"blue\",\"blue\",\"blue\",\"blue\",\"blue\",\"blue\",\"blue\",\"blue\",\"blue\",\"blue\",\"blue\",\"blue\",\"blue\",\"blue\",\"blue\",\"blue\",\"blue\",\"blue\",\"blue\",\"blue\",\"blue\",\"blue\",\"blue\",\"blue\",\"blue\",\"blue\",\"blue\",\"blue\",\"blue\",\"blue\",\"blue\",\"blue\",\"blue\",\"blue\",\"blue\",\"blue\",\"blue\",\"blue\",\"blue\",\"blue\",\"blue\",\"blue\",\"blue\",\"blue\",\"blue\",\"blue\",\"blue\",\"blue\",\"blue\",\"blue\",\"blue\",\"blue\",\"blue\",\"blue\",\"blue\",\"blue\",\"blue\",\"blue\",\"blue\",\"blue\",\"blue\",\"blue\",\"blue\",\"blue\",\"blue\",\"blue\",\"blue\",\"blue\",\"blue\",\"blue\",\"blue\",\"blue\",\"blue\",\"blue\",\"blue\",\"blue\",\"blue\",\"blue\",\"blue\",\"blue\",\"blue\",\"blue\",\"blue\",\"blue\",\"blue\",\"blue\",\"blue\",\"blue\",\"blue\",\"blue\",\"blue\",\"blue\",\"blue\",\"blue\",\"blue\",\"blue\",\"blue\",\"blue\",\"blue\",\"blue\",\"blue\",\"blue\",\"blue\",\"blue\",\"blue\",\"blue\",\"blue\",\"blue\",\"blue\",\"blue\",\"blue\",\"blue\",\"blue\",\"blue\",\"blue\",\"blue\",\"blue\",\"blue\",\"blue\",\"blue\",\"blue\",\"blue\",\"blue\",\"blue\",\"blue\",\"blue\",\"blue\",\"blue\",\"blue\",\"blue\",\"blue\",\"blue\",\"blue\",\"blue\",\"blue\",\"blue\",\"blue\",\"blue\",\"blue\",\"blue\",\"blue\",\"blue\",\"blue\",\"blue\",\"blue\",\"blue\",\"blue\",\"blue\",\"blue\",\"blue\",\"blue\",\"blue\",\"blue\",\"blue\",\"blue\",\"blue\",\"blue\",\"blue\",\"blue\",\"blue\",\"blue\",\"blue\",\"blue\",\"blue\",\"blue\",\"blue\",\"blue\",\"blue\",\"blue\",\"blue\",\"blue\",\"blue\",\"blue\",\"blue\",\"blue\",\"blue\",\"blue\",\"blue\",\"blue\",\"blue\",\"blue\",\"blue\",\"blue\",\"blue\",\"blue\",\"blue\",\"blue\",\"blue\",\"blue\",\"blue\",\"blue\",\"blue\",\"blue\",\"blue\",\"blue\",\"blue\",\"blue\",\"blue\",\"blue\",\"blue\",\"blue\",\"blue\",\"blue\",\"blue\",\"blue\",\"blue\",\"blue\",\"blue\",\"blue\",\"blue\",\"blue\",\"blue\",\"blue\",\"blue\",\"blue\",\"blue\",\"blue\",\"blue\",\"blue\",\"blue\",\"blue\",\"blue\",\"blue\",\"blue\",\"blue\",\"blue\",\"blue\",\"blue\",\"blue\",\"blue\",\"blue\",\"blue\",\"blue\",\"blue\",\"blue\",\"blue\",\"blue\",\"blue\",\"blue\",\"blue\",\"blue\",\"blue\",\"blue\",\"blue\",\"blue\",\"blue\",\"blue\",\"blue\",\"blue\",\"blue\",\"blue\",\"blue\",\"blue\",\"blue\",\"blue\",\"blue\",\"blue\",\"blue\",\"blue\",\"blue\",\"blue\",\"blue\"],\"token\":[\",\",\".\",\"-\",\":\",\"product\",\"use\",\"servic\",\"us\",\"data\",\"contact\",\"inform\",\"provid\",\"cooki\",\"solut\",\"custom\",\"new\",\"manag\",\"?\",\"websit\",\"person\",\"work\",\"process\",\"busi\",\"develop\",\"system\",\"compani\",\"design\",\"offer\",\"help\",\"\\\"\",\"technolog\",\"high\",\"market\",\"support\",\"industri\",\"site\",\";\",\"may\",\"also\",\"world\",\"right\",\"make\",\"privaci\",\"oper\",\"global\",\"group\",\"\\u2013\",\"time\",\"pleas\",\"e\",\"need\",\"one\",\"'\",\"includ\",\"applic\",\"innov\",\"!\",\"experi\",\"term\",\"intern\",\"year\",\"project\",\"\\u201c\",\"sale\",\"rang\",\"well\",\"read\",\"qualiti\",\"improv\",\"find\",\"best\",\"requir\",\"part\",\"control\",\"perform\",\"team\",\"continu\",\"website\",\"food\",\"deliv\",\"sustain\",\"materi\",\"suppli\",\"netherland\",\"\\u00a9\",\"protect\",\"research\",\"engin\",\"access\",\"partner\",\"meet\",\"manufactur\",\"follow\",\"packag\",\"chang\",\"get\",\"ensur\",\"set\",\"damen\",\"secur\",\"learn\",\"share\",\"news\",\"you\",\"visit\",\"unit\",\"lead\",\"offic\",\"take\",\"condit\",\"function\",\"first\",\"download\",\"avail\",\"power\",\"result\",\"user\",\"\\u00ae\",\"order\",\"career\",\"digit\",\"report\",\"equip\",\"supplier\",\"way\",\"respons\",\"specif\",\"collect\",\"polici\",\"address\",\"creat\",\"link\",\"offshor\",\"parti\",\"connect\",\"integr\",\"third\",\"relat\",\"transport\",\"build\",\"safeti\",\"b\",\"complet\",\"latest\",\"base\",\"enabl\",\"r\",\"network\",\"water\",\"cookies\",\"form\",\"brand\",\"general\",\"look\",\"without\",\"locat\",\"like\",\"cost\",\"everi\",\"c\",\"peopl\",\"standard\",\"products\",\"life\",\"allow\",\"valu\",\"in\",\"success\",\"increas\",\"test\",\"activ\",\"information\",\"type\",\"within\",\"direct\",\"corpor\",\"social\",\"content\",\"day\",\"...\",\"effici\",\"environment\",\"view\",\"softwar\",\"vessel\",\"email\",\"key\",\"differ\",\"ship\",\"special\",\"see\",\"focus\",\"industry\",\"energi\",\"media\",\"full\",\"it\",\"care\",\"page\",\"client\",\"effect\",\"statement\",\"detail\",\"produc\",\"d\",\"to\",\"browser\",\"services\",\"receiv\",\"good\",\"event\",\"place\",\"state\",\"end\",\"technic\",\"mail\",\"jobe\",\"select\",\"number\",\"advanc\",\"\\u201d\",\"gas\",\"logist\",\"oil\",\"train\",\"addit\",\"know\",\"mani\",\"click\",\"request\",\"we\",\"law\",\"financi\",\"job\",\"made\",\"tool\",\"today\",\"start\",\"countri\",\"interest\",\"chain\",\"reduc\",\"give\",\"t\",\"risk\",\"post\",\"agre\",\"import\",\"challeng\",\"search\",\"open\",\"f\",\"instal\",\"possibl\",\"level\",\"a\",\"resourc\",\"around\",\"shall\",\"program\",\"area\",\"contain\",\"long\",\"europ\",\"better\",\"deliveri\",\"organ\",\"case\",\"across\",\"copyright\",\"mean\",\"employe\",\"local\",\"understand\",\"legal\",\"consum\",\"commit\",\"uniqu\",\"keep\",\"combin\",\"line\",\"invest\",\"light\",\"wide\",\"chemic\",\"appli\",\"accord\",\"name\",\"two\",\"go\",\"optim\",\"field\",\"platform\",\"public\",\"center\",\"knowledg\",\"health\",\"box\",\"limit\",\"flexibl\",\"video\",\"track\",\"store\",\"solutions\",\"achiev\",\"futur\",\"onz\",\"contract\",\"natur\",\"\\u2122\",\"drive\",\"america\",\"featur\",\"accept\",\"top\",\"electr\",\"on\",\"&#\",\"would\",\"purpos\",\"trade\",\"becom\",\"opportun\",\"region\",\"valv\",\"demand\",\"plant\",\"current\",\"reliabl\",\"discov\",\"european\",\"s\",\"by\",\"account\",\"necessari\",\"togeth\",\"posit\",\"board\",\"policy\",\"expertis\",\"newslett\",\"impact\",\"document\",\"free\",\"execut\",\"award\",\"dredg\",\"leader\",\"&\",\"back\",\"expert\",\"port\",\"communic\",\"agreement\",\"regist\",\"measur\",\"autom\",\"abl\",\"profession\",\"paper\",\"safe\",\"come\",\"portfolio\",\"call\",\"navig\",\"marin\",\"present\",\"print\",\"via\",\"serv\",\"insight\",\"home\",\"experience\",\"growth\",\"imag\",\"alway\",\"analyt\",\"air\",\"machin\",\"consent\",\"choos\",\"updat\",\"dutch\",\"low\",\"enhanc\",\"environ\",\"#\",\"googl\",\"handl\",\"mobil\",\"stay\",\"ad\",\"extens\",\"systems\",\"question\",\"wagenborg\",\"monitor\",\"found\",\"vion\",\"main\",\"amsterdam\",\"mainten\",\"non\",\"fast\",\"customers\",\"date\",\"excel\",\"transform\",\"close\",\"even\",\"director\",\"web\",\"save\",\"business\",\"\\u20ac\",\"annual\",\"north\",\"facil\",\"benefit\",\"tel\",\"sinc\",\"worldwid\",\"x\",\"onlin\",\"larg\",\"commerci\",\"g\",\"built\",\"company\",\"applications\",\"approach\",\"size\",\"steel\",\"check\",\"various\",\"capabl\",\"join\",\"v\",\"option\",\"govern\",\"generat\",\"+\",\"\\u2026\",\"bv\",\"complex\",\"\\u2022\",\"vdl\",\"sign\",\"quick\",\"construct\",\"small\",\"regard\",\"next\",\"dedic\",\"head\",\"price\",\"must\",\"per\",\"up\",\"list\",\"investor\",\"send\",\"sea\",\"subject\",\"fill\",\"transfer\",\"compon\",\"devic\",\"human\",\"maintain\",\"perfect\",\"live\",\"feed\",\"fulli\",\"termin\",\"reserved\",\"smart\",\"grow\",\"co\",\"practic\",\"model\",\"structur\",\"class\",\"th\",\"member\",\"bring\",\"associ\",\"automot\",\"recycl\",\"seri\",\"technology\",\"great\",\"role\",\"here\",\"file\",\"code\",\"due\",\"cargo\",\"strategi\",\"respect\",\"real\",\"institut\",\"consult\",\"netherlands\",\"inc\",\"color\",\"last\",\"fabric\",\"=\\\"\",\"cloud\",\"whether\",\"visitor\",\"vehicl\",\"return\",\"quality\",\"plan\",\"out\",\"implement\",\"phone\",\"thank\",\"relev\",\"l\",\"total\",\"service\",\"p\",\"clean\",\"novemb\",\"recent\",\"i\",\"electron\",\"shipyard\",\"regul\",\"suit\",\"purchas\",\"refer\",\"asia\",\"million\",\"period\",\"individu\",\"strong\",\"guarante\",\"clinic\",\"collabor\",\"issu\",\"act\",\"performance\",\"ask\",\"coat\",\"studi\",\"ingredi\",\"travel\",\"multi\",\"hold\",\"identifi\",\"repres\",\"major\",\"properti\",\"prevent\",\"la\",\"section\",\"announc\",\"distribut\",\".,\",\"explor\",\"retail\",\"certif\",\"years\",\"varieti\",\"contribut\",\"the\",\"notic\",\"led\",\"three\",\"show\",\"\\u2014\",\"step\",\"aerospac\",\"touch\",\"pdf\",\"releas\",\"enter\",\"consist\",\"charg\",\"specialist\",\"submit\",\"largest\",\"road\",\"usa\",\"reach\",\"assist\",\"sector\",\"leadership\",\"eu\",\"reason\",\"sever\",\"anim\",\"trust\",\"south\",\"of\",\"plastic\",\"medic\",\"point\",\"fit\",\"central\",\"univers\",\"articl\",\"overview\",\"record\",\"uk\",\"china\",\"brows\",\"menu\",\"conduct\",\"scienc\",\"fuel\",\"bus\",\"categori\",\"flowserv\",\"heat\",\"bas\",\"treatment\",\"javascript\",\"wind\",\"sourc\",\"cover\",\".\\u201d\",\"meat\",\"more\",\"reserv\",\"core\",\"essenti\",\"storag\",\"all\",\"app\",\"requirements\",\"concept\",\"nl\",\"play\",\"art\",\"aim\",\"repair\",\"iso\",\"prefer\",\"tailor\",\"europe\",\"below\",\"m\",\"flow\",\"sure\",\"move\",\"east\",\"establish\",\"compli\",\"complianc\",\"particular\",\"guid\",\"cut\",\"communiti\",\"highest\",\"partnership\",\"needs\",\"analysi\",\"lift\",\"divers\",\"=\\\"\\\"\",\"expect\",\"easi\",\"turn\",\"vision\",\"nation\",\"potenti\",\"initi\",\"let\",\"goal\",\"target\",\"that\",\"famili\",\"asset\",\"exist\",\"item\",\"modern\",\"map\",\"short\",\"english\",\"stock\",\"fokker\",\"util\",\"comput\",\"run\",\"no\",\"patient\",\"certain\",\"maritim\",\"crane\",\"coach\",\"origin\",\"nutrit\",\"space\",\"throughout\",\"readi\",\"heavi\",\"engag\",\"ihc\",\"fax\",\"var\",\"however\",\"pressur\",\"subscrib\",\"centr\",\"holland\",\"den\",\"month\",\"for\",\"believ\",\"wij\",\"singl\",\"action\",\"press\",\"disclaim\",\"composit\",\"could\",\"future\",\"wast\",\"econom\",\"stand\",\"ip\",\"promot\",\"expand\",\"cooper\",\"employ\",\"dri\",\"comfort\",\"basic\",\"shape\",\"africa\",\"author\",\"k\",\"trademark\",\"nieuw\",\"ltd\",\"metal\",\"involv\",\"multipl\",\"raw\",\"educ\",\"replac\",\"operations\",\"interact\",\"carri\",\"strateg\",\"critic\",\"conditions\",\"gkn\",\"und\",\"disabl\",\"specialti\",\"review\",\"pump\",\"depart\",\"royal\",\"women\",\"people\",\"equipment\",\"launch\",\"internet\",\"forward\",\"tug\",\"foundat\",\"rotterdam\",\"payment\",\"damag\",\"development\",\"park\",\"signific\",\"hous\",\"worldwide\",\"materials\",\"entir\",\"week\",\"skill\",\"industries\",\"rate\",\"background\",\"choic\",\"display\",\"maximum\",\"oblig\",\"concern\",\"healthcar\",\"clear\",\"n\",\"independ\",\"alreadi\",\"four\",\"mm\",\"remov\",\"linkedin\",\"teijin\",\"publish\",\"filter\",\"competit\",\"login\",\"lower\",\"wds_contain\",\"technologies\",\"speed\",\"px\",\"quarter\",\"capac\",\"infrastructur\",\"intellig\",\"label\",\"septemb\",\"automat\",\"relationship\",\"possible\",\"suitabl\",\"mallinckrodt\",\"hand\",\"decis\",\"detect\",\"management\",\"toward\",\"buyer\",\"octob\",\"screen\",\"surfac\",\"much\",\"welcom\",\"remain\",\"decemb\",\"comprehens\",\"anoth\",\"safety\",\"employees\",\"ceo\",\"sheet\",\"think\",\"obtain\",\"big\",\"consid\",\"wish\",\"h\",\"determin\",\"stori\",\"and\",\"shop\",\"feel\",\"exclus\",\"object\",\"basi\",\"shiprepair\",\"convers\",\"=\",\"watch\",\"customer\",\"germani\",\"forc\",\"loss\",\"thing\",\"advantag\",\"recommend\",\"profil\",\"enterpris\",\"citi\",\"regular\",\"proud\",\"particip\",\"middl\",\"websites\",\"histori\",\"instrument\",\"server\",\"glass\",\"senior\",\"path\",\"put\",\"precis\",\"fleet\",\"white\",\"dose\",\"colour\",\"profit\",\"fresh\",\"nederland\",\"longer\",\"except\",\"mission\",\"method\",\"assess\",\"bank\",\"camera\",\"problem\",\"load\",\"rsa\",\"acquir\",\"vest\",\"example\",\"owner\",\"mechan\",\"organis\",\"transpar\",\"win\",\"advertis\",\"less\",\"premium\",\"prepar\",\"broad\",\"this\",\"note\",\"hydraul\",\"own\",\"traffic\",\"abil\",\"prior\",\"constant\",\"extend\",\"cannot\",\"gmbh\",\"ever\",\"brochur\",\"green\",\"mark\",\"car\",\"modul\",\"still\",\"liquid\",\"add\",\"ll\",\"matter\",\"https\",\"upon\",\"depend\",\"separ\",\"amount\",\"footer\",\"cultur\",\"q\",\"headquart\",\"fund\",\"languag\",\"et\",\"gain\",\"cours\",\"scale\",\"hard\",\"known\",\"june\",\"higher\",\"second\",\"pharmaceut\",\"scala\",\"mr\",\"protein\",\"proven\",\"confer\",\"efficiency\",\"provis\",\"temperatur\",\"farm\",\"version\",\"everyth\",\"w\",\"',\",\"sit\",\"indic\",\"energy\",\"agent\",\"therefor\",\"march\",\"projects\",\"now\",\"happi\",\"tech\",\"correct\",\"mill\",\"strength\",\"warranti\",\"off\",\"block\",\"friend\",\"driven\",\"idea\",\"popular\",\"programm\",\"april\",\"yard\",\"scientif\",\"climat\",\"mine\",\"regulatori\",\"red\",\"settings\",\"certifi\",\"common\",\"caus\",\"markets\",\"valley\",\"explain\",\"india\"],\"x\":{\"__ndarray__\":\"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\",\"dtype\":\"float32\",\"shape\":[1000]},\"y\":{\"__ndarray__\":\"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\",\"dtype\":\"float32\",\"shape\":[1000]}},\"selected\":{\"id\":\"1048\",\"type\":\"Selection\"},\"selection_policy\":{\"id\":\"1049\",\"type\":\"UnionRenderers\"}},\"id\":\"1002\",\"type\":\"ColumnDataSource\"},{\"attributes\":{\"overlay\":{\"id\":\"1050\",\"type\":\"BoxAnnotation\"}},\"id\":\"1024\",\"type\":\"BoxZoomTool\"},{\"attributes\":{},\"id\":\"1025\",\"type\":\"SaveTool\"},{\"attributes\":{\"ticker\":{\"id\":\"1013\",\"type\":\"BasicTicker\"}},\"id\":\"1016\",\"type\":\"Grid\"},{\"attributes\":{\"text\":\"\"},\"id\":\"1043\",\"type\":\"Title\"},{\"attributes\":{},\"id\":\"1018\",\"type\":\"BasicTicker\"},{\"attributes\":{\"active_drag\":\"auto\",\"active_inspect\":\"auto\",\"active_multi\":null,\"active_scroll\":{\"id\":\"1023\",\"type\":\"WheelZoomTool\"},\"active_tap\":\"auto\",\"tools\":[{\"id\":\"1022\",\"type\":\"PanTool\"},{\"id\":\"1023\",\"type\":\"WheelZoomTool\"},{\"id\":\"1024\",\"type\":\"BoxZoomTool\"},{\"id\":\"1025\",\"type\":\"SaveTool\"},{\"id\":\"1026\",\"type\":\"ResetTool\"},{\"id\":\"1027\",\"type\":\"HelpTool\"},{\"id\":\"1040\",\"type\":\"HoverTool\"}]},\"id\":\"1028\",\"type\":\"Toolbar\"},{\"attributes\":{\"data_source\":{\"id\":\"1002\",\"type\":\"ColumnDataSource\"},\"glyph\":{\"id\":\"1036\",\"type\":\"Scatter\"},\"hover_glyph\":null,\"muted_glyph\":null,\"nonselection_glyph\":{\"id\":\"1037\",\"type\":\"Scatter\"},\"selection_glyph\":null,\"view\":{\"id\":\"1039\",\"type\":\"CDSView\"}},\"id\":\"1038\",\"type\":\"GlyphRenderer\"},{\"attributes\":{\"source\":{\"id\":\"1002\",\"type\":\"ColumnDataSource\"}},\"id\":\"1039\",\"type\":\"CDSView\"},{\"attributes\":{},\"id\":\"1049\",\"type\":\"UnionRenderers\"},{\"attributes\":{\"formatter\":{\"id\":\"1045\",\"type\":\"BasicTickFormatter\"},\"ticker\":{\"id\":\"1018\",\"type\":\"BasicTicker\"}},\"id\":\"1017\",\"type\":\"LinearAxis\"},{\"attributes\":{},\"id\":\"1045\",\"type\":\"BasicTickFormatter\"},{\"attributes\":{\"bottom_units\":\"screen\",\"fill_alpha\":{\"value\":0.5},\"fill_color\":{\"value\":\"lightgrey\"},\"left_units\":\"screen\",\"level\":\"overlay\",\"line_alpha\":{\"value\":1.0},\"line_color\":{\"value\":\"black\"},\"line_dash\":[4,4],\"line_width\":{\"value\":2},\"render_mode\":\"css\",\"right_units\":\"screen\",\"top_units\":\"screen\"},\"id\":\"1050\",\"type\":\"BoxAnnotation\"},{\"attributes\":{},\"id\":\"1013\",\"type\":\"BasicTicker\"},{\"attributes\":{},\"id\":\"1023\",\"type\":\"WheelZoomTool\"},{\"attributes\":{\"fill_alpha\":{\"value\":0.25},\"fill_color\":{\"field\":\"color\"},\"line_alpha\":{\"value\":0.25},\"line_color\":{\"field\":\"color\"},\"size\":{\"units\":\"screen\",\"value\":10},\"x\":{\"field\":\"x\"},\"y\":{\"field\":\"y\"}},\"id\":\"1036\",\"type\":\"Scatter\"}],\"root_ids\":[\"1003\"]},\"title\":\"Bokeh Application\",\"version\":\"1.4.0\"}};\n",
       "  var render_items = [{\"docid\":\"62670148-926d-4e6f-a43e-384609ce1061\",\"roots\":{\"1003\":\"fdadf9fe-2c28-4523-9c1b-51e771b3f9af\"}}];\n",
       "  root.Bokeh.embed.embed_items_notebook(docs_json, render_items);\n",
       "\n",
       "  }\n",
       "  if (root.Bokeh !== undefined) {\n",
       "    embed_document(root);\n",
       "  } else {\n",
       "    var attempts = 0;\n",
       "    var timer = setInterval(function(root) {\n",
       "      if (root.Bokeh !== undefined) {\n",
       "        clearInterval(timer);\n",
       "        embed_document(root);\n",
       "      } else {\n",
       "        attempts++;\n",
       "        if (attempts > 100) {\n",
       "          clearInterval(timer);\n",
       "          console.log(\"Bokeh: ERROR: Unable to run BokehJS code because BokehJS library is missing\");\n",
       "        }\n",
       "      }\n",
       "    }, 10, root)\n",
       "  }\n",
       "})(window);"
      ],
      "application/vnd.bokehjs_exec.v0+json": ""
     },
     "metadata": {
      "application/vnd.bokehjs_exec.v0+json": {
       "id": "1003"
      }
     },
     "output_type": "display_data"
    },
    {
     "data": {
      "text/html": [
       "<div style=\"display: table;\"><div style=\"display: table-row;\"><div style=\"display: table-cell;\"><b title=\"bokeh.plotting.figure.Figure\">Figure</b>(</div><div style=\"display: table-cell;\">id&nbsp;=&nbsp;'1003', <span id=\"1106\" style=\"cursor: pointer;\">&hellip;)</span></div></div><div class=\"1105\" style=\"display: none;\"><div style=\"display: table-cell;\"></div><div style=\"display: table-cell;\">above&nbsp;=&nbsp;[],</div></div><div class=\"1105\" style=\"display: none;\"><div style=\"display: table-cell;\"></div><div style=\"display: table-cell;\">align&nbsp;=&nbsp;'start',</div></div><div class=\"1105\" style=\"display: none;\"><div style=\"display: table-cell;\"></div><div style=\"display: table-cell;\">aspect_ratio&nbsp;=&nbsp;None,</div></div><div class=\"1105\" style=\"display: none;\"><div style=\"display: table-cell;\"></div><div style=\"display: table-cell;\">aspect_scale&nbsp;=&nbsp;1,</div></div><div class=\"1105\" style=\"display: none;\"><div style=\"display: table-cell;\"></div><div style=\"display: table-cell;\">background&nbsp;=&nbsp;None,</div></div><div class=\"1105\" style=\"display: none;\"><div style=\"display: table-cell;\"></div><div style=\"display: table-cell;\">background_fill_alpha&nbsp;=&nbsp;{'value': 1.0},</div></div><div class=\"1105\" style=\"display: none;\"><div style=\"display: table-cell;\"></div><div style=\"display: table-cell;\">background_fill_color&nbsp;=&nbsp;{'value': '#ffffff'},</div></div><div class=\"1105\" style=\"display: none;\"><div style=\"display: table-cell;\"></div><div style=\"display: table-cell;\">below&nbsp;=&nbsp;[LinearAxis(id='1012', ...)],</div></div><div class=\"1105\" style=\"display: none;\"><div style=\"display: table-cell;\"></div><div style=\"display: table-cell;\">border_fill_alpha&nbsp;=&nbsp;{'value': 1.0},</div></div><div class=\"1105\" style=\"display: none;\"><div style=\"display: table-cell;\"></div><div style=\"display: table-cell;\">border_fill_color&nbsp;=&nbsp;{'value': '#ffffff'},</div></div><div class=\"1105\" style=\"display: none;\"><div style=\"display: table-cell;\"></div><div style=\"display: table-cell;\">center&nbsp;=&nbsp;[Grid(id='1016', ...), Grid(id='1021', ...)],</div></div><div class=\"1105\" style=\"display: none;\"><div style=\"display: table-cell;\"></div><div style=\"display: table-cell;\">css_classes&nbsp;=&nbsp;[],</div></div><div class=\"1105\" style=\"display: none;\"><div style=\"display: table-cell;\"></div><div style=\"display: table-cell;\">disabled&nbsp;=&nbsp;False,</div></div><div class=\"1105\" style=\"display: none;\"><div style=\"display: table-cell;\"></div><div style=\"display: table-cell;\">extra_x_ranges&nbsp;=&nbsp;{},</div></div><div class=\"1105\" style=\"display: none;\"><div style=\"display: table-cell;\"></div><div style=\"display: table-cell;\">extra_y_ranges&nbsp;=&nbsp;{},</div></div><div class=\"1105\" style=\"display: none;\"><div style=\"display: table-cell;\"></div><div style=\"display: table-cell;\">frame_height&nbsp;=&nbsp;None,</div></div><div class=\"1105\" style=\"display: none;\"><div style=\"display: table-cell;\"></div><div style=\"display: table-cell;\">frame_width&nbsp;=&nbsp;None,</div></div><div class=\"1105\" style=\"display: none;\"><div style=\"display: table-cell;\"></div><div style=\"display: table-cell;\">height&nbsp;=&nbsp;None,</div></div><div class=\"1105\" style=\"display: none;\"><div style=\"display: table-cell;\"></div><div style=\"display: table-cell;\">height_policy&nbsp;=&nbsp;'auto',</div></div><div class=\"1105\" style=\"display: none;\"><div style=\"display: table-cell;\"></div><div style=\"display: table-cell;\">hidpi&nbsp;=&nbsp;True,</div></div><div class=\"1105\" style=\"display: none;\"><div style=\"display: table-cell;\"></div><div style=\"display: table-cell;\">js_event_callbacks&nbsp;=&nbsp;{},</div></div><div class=\"1105\" style=\"display: none;\"><div style=\"display: table-cell;\"></div><div style=\"display: table-cell;\">js_property_callbacks&nbsp;=&nbsp;{},</div></div><div class=\"1105\" style=\"display: none;\"><div style=\"display: table-cell;\"></div><div style=\"display: table-cell;\">left&nbsp;=&nbsp;[LinearAxis(id='1017', ...)],</div></div><div class=\"1105\" style=\"display: none;\"><div style=\"display: table-cell;\"></div><div style=\"display: table-cell;\">lod_factor&nbsp;=&nbsp;10,</div></div><div class=\"1105\" style=\"display: none;\"><div style=\"display: table-cell;\"></div><div style=\"display: table-cell;\">lod_interval&nbsp;=&nbsp;300,</div></div><div class=\"1105\" style=\"display: none;\"><div style=\"display: table-cell;\"></div><div style=\"display: table-cell;\">lod_threshold&nbsp;=&nbsp;2000,</div></div><div class=\"1105\" style=\"display: none;\"><div style=\"display: table-cell;\"></div><div style=\"display: table-cell;\">lod_timeout&nbsp;=&nbsp;500,</div></div><div class=\"1105\" style=\"display: none;\"><div style=\"display: table-cell;\"></div><div style=\"display: table-cell;\">margin&nbsp;=&nbsp;(0, 0, 0, 0),</div></div><div class=\"1105\" style=\"display: none;\"><div style=\"display: table-cell;\"></div><div style=\"display: table-cell;\">match_aspect&nbsp;=&nbsp;False,</div></div><div class=\"1105\" style=\"display: none;\"><div style=\"display: table-cell;\"></div><div style=\"display: table-cell;\">max_height&nbsp;=&nbsp;None,</div></div><div class=\"1105\" style=\"display: none;\"><div style=\"display: table-cell;\"></div><div style=\"display: table-cell;\">max_width&nbsp;=&nbsp;None,</div></div><div class=\"1105\" style=\"display: none;\"><div style=\"display: table-cell;\"></div><div style=\"display: table-cell;\">min_border&nbsp;=&nbsp;5,</div></div><div class=\"1105\" style=\"display: none;\"><div style=\"display: table-cell;\"></div><div style=\"display: table-cell;\">min_border_bottom&nbsp;=&nbsp;None,</div></div><div class=\"1105\" style=\"display: none;\"><div style=\"display: table-cell;\"></div><div style=\"display: table-cell;\">min_border_left&nbsp;=&nbsp;None,</div></div><div class=\"1105\" style=\"display: none;\"><div style=\"display: table-cell;\"></div><div style=\"display: table-cell;\">min_border_right&nbsp;=&nbsp;None,</div></div><div class=\"1105\" style=\"display: none;\"><div style=\"display: table-cell;\"></div><div style=\"display: table-cell;\">min_border_top&nbsp;=&nbsp;None,</div></div><div class=\"1105\" style=\"display: none;\"><div style=\"display: table-cell;\"></div><div style=\"display: table-cell;\">min_height&nbsp;=&nbsp;None,</div></div><div class=\"1105\" style=\"display: none;\"><div style=\"display: table-cell;\"></div><div style=\"display: table-cell;\">min_width&nbsp;=&nbsp;None,</div></div><div class=\"1105\" style=\"display: none;\"><div style=\"display: table-cell;\"></div><div style=\"display: table-cell;\">name&nbsp;=&nbsp;None,</div></div><div class=\"1105\" style=\"display: none;\"><div style=\"display: table-cell;\"></div><div style=\"display: table-cell;\">outline_line_alpha&nbsp;=&nbsp;{'value': 1.0},</div></div><div class=\"1105\" style=\"display: none;\"><div style=\"display: table-cell;\"></div><div style=\"display: table-cell;\">outline_line_cap&nbsp;=&nbsp;'butt',</div></div><div class=\"1105\" style=\"display: none;\"><div style=\"display: table-cell;\"></div><div style=\"display: table-cell;\">outline_line_color&nbsp;=&nbsp;{'value': '#e5e5e5'},</div></div><div class=\"1105\" style=\"display: none;\"><div style=\"display: table-cell;\"></div><div style=\"display: table-cell;\">outline_line_dash&nbsp;=&nbsp;[],</div></div><div class=\"1105\" style=\"display: none;\"><div style=\"display: table-cell;\"></div><div style=\"display: table-cell;\">outline_line_dash_offset&nbsp;=&nbsp;0,</div></div><div class=\"1105\" style=\"display: none;\"><div style=\"display: table-cell;\"></div><div style=\"display: table-cell;\">outline_line_join&nbsp;=&nbsp;'bevel',</div></div><div class=\"1105\" style=\"display: none;\"><div style=\"display: table-cell;\"></div><div style=\"display: table-cell;\">outline_line_width&nbsp;=&nbsp;{'value': 1},</div></div><div class=\"1105\" style=\"display: none;\"><div style=\"display: table-cell;\"></div><div style=\"display: table-cell;\">output_backend&nbsp;=&nbsp;'canvas',</div></div><div class=\"1105\" style=\"display: none;\"><div style=\"display: table-cell;\"></div><div style=\"display: table-cell;\">plot_height&nbsp;=&nbsp;400,</div></div><div class=\"1105\" style=\"display: none;\"><div style=\"display: table-cell;\"></div><div style=\"display: table-cell;\">plot_width&nbsp;=&nbsp;600,</div></div><div class=\"1105\" style=\"display: none;\"><div style=\"display: table-cell;\"></div><div style=\"display: table-cell;\">renderers&nbsp;=&nbsp;[GlyphRenderer(id='1038', ...)],</div></div><div class=\"1105\" style=\"display: none;\"><div style=\"display: table-cell;\"></div><div style=\"display: table-cell;\">reset_policy&nbsp;=&nbsp;'standard',</div></div><div class=\"1105\" style=\"display: none;\"><div style=\"display: table-cell;\"></div><div style=\"display: table-cell;\">right&nbsp;=&nbsp;[],</div></div><div class=\"1105\" style=\"display: none;\"><div style=\"display: table-cell;\"></div><div style=\"display: table-cell;\">sizing_mode&nbsp;=&nbsp;None,</div></div><div class=\"1105\" style=\"display: none;\"><div style=\"display: table-cell;\"></div><div style=\"display: table-cell;\">subscribed_events&nbsp;=&nbsp;[],</div></div><div class=\"1105\" style=\"display: none;\"><div style=\"display: table-cell;\"></div><div style=\"display: table-cell;\">tags&nbsp;=&nbsp;[],</div></div><div class=\"1105\" style=\"display: none;\"><div style=\"display: table-cell;\"></div><div style=\"display: table-cell;\">title&nbsp;=&nbsp;Title(id='1043', ...),</div></div><div class=\"1105\" style=\"display: none;\"><div style=\"display: table-cell;\"></div><div style=\"display: table-cell;\">title_location&nbsp;=&nbsp;'above',</div></div><div class=\"1105\" style=\"display: none;\"><div style=\"display: table-cell;\"></div><div style=\"display: table-cell;\">toolbar&nbsp;=&nbsp;Toolbar(id='1028', ...),</div></div><div class=\"1105\" style=\"display: none;\"><div style=\"display: table-cell;\"></div><div style=\"display: table-cell;\">toolbar_location&nbsp;=&nbsp;'right',</div></div><div class=\"1105\" style=\"display: none;\"><div style=\"display: table-cell;\"></div><div style=\"display: table-cell;\">toolbar_sticky&nbsp;=&nbsp;True,</div></div><div class=\"1105\" style=\"display: none;\"><div style=\"display: table-cell;\"></div><div style=\"display: table-cell;\">visible&nbsp;=&nbsp;True,</div></div><div class=\"1105\" style=\"display: none;\"><div style=\"display: table-cell;\"></div><div style=\"display: table-cell;\">width&nbsp;=&nbsp;None,</div></div><div class=\"1105\" style=\"display: none;\"><div style=\"display: table-cell;\"></div><div style=\"display: table-cell;\">width_policy&nbsp;=&nbsp;'auto',</div></div><div class=\"1105\" style=\"display: none;\"><div style=\"display: table-cell;\"></div><div style=\"display: table-cell;\">x_range&nbsp;=&nbsp;DataRange1d(id='1004', ...),</div></div><div class=\"1105\" style=\"display: none;\"><div style=\"display: table-cell;\"></div><div style=\"display: table-cell;\">x_scale&nbsp;=&nbsp;LinearScale(id='1008', ...),</div></div><div class=\"1105\" style=\"display: none;\"><div style=\"display: table-cell;\"></div><div style=\"display: table-cell;\">y_range&nbsp;=&nbsp;DataRange1d(id='1006', ...),</div></div><div class=\"1105\" style=\"display: none;\"><div style=\"display: table-cell;\"></div><div style=\"display: table-cell;\">y_scale&nbsp;=&nbsp;LinearScale(id='1010', ...))</div></div></div>\n",
       "<script>\n",
       "(function() {\n",
       "  var expanded = false;\n",
       "  var ellipsis = document.getElementById(\"1106\");\n",
       "  ellipsis.addEventListener(\"click\", function() {\n",
       "    var rows = document.getElementsByClassName(\"1105\");\n",
       "    for (var i = 0; i < rows.length; i++) {\n",
       "      var el = rows[i];\n",
       "      el.style.display = expanded ? \"none\" : \"table-row\";\n",
       "    }\n",
       "    ellipsis.innerHTML = expanded ? \"&hellip;)\" : \"&lsaquo;&lsaquo;&lsaquo;\";\n",
       "    expanded = !expanded;\n",
       "  });\n",
       "})();\n",
       "</script>\n"
      ],
      "text/plain": [
       "Figure(id='1003', ...)"
      ]
     },
     "execution_count": 42,
     "metadata": {},
     "output_type": "execute_result"
    }
   ],
   "source": [
    "draw_vectors(word_vectors_pca[:, 0], word_vectors_pca[:, 1], token=words)"
   ]
  },
  {
   "cell_type": "code",
   "execution_count": 44,
   "metadata": {},
   "outputs": [],
   "source": [
    "# map word vectors onto 2d plane with TSNE. hint: use verbose=100 to see what it's doing.\n",
    "# normalize them as just lke with pca\n",
    "word_tsne = X_embedded = TSNE(n_components=2).fit_transform(word_vectors)\n",
    "word_tsne = scaler.fit_transform(word_tsne)"
   ]
  },
  {
   "cell_type": "code",
   "execution_count": 45,
   "metadata": {},
   "outputs": [
    {
     "data": {
      "text/html": [
       "\n",
       "\n",
       "\n",
       "\n",
       "\n",
       "\n",
       "  <div class=\"bk-root\" id=\"4a797e95-8cc1-4df8-bcdd-f0b80c86261c\" data-root-id=\"1110\"></div>\n"
      ]
     },
     "metadata": {},
     "output_type": "display_data"
    },
    {
     "data": {
      "application/javascript": [
       "(function(root) {\n",
       "  function embed_document(root) {\n",
       "    \n",
       "  var docs_json = {\"fe7e1832-15e2-4fda-af10-80655610ad45\":{\"roots\":{\"references\":[{\"attributes\":{\"below\":[{\"id\":\"1119\",\"type\":\"LinearAxis\"}],\"center\":[{\"id\":\"1123\",\"type\":\"Grid\"},{\"id\":\"1128\",\"type\":\"Grid\"}],\"left\":[{\"id\":\"1124\",\"type\":\"LinearAxis\"}],\"plot_height\":400,\"renderers\":[{\"id\":\"1145\",\"type\":\"GlyphRenderer\"}],\"title\":{\"id\":\"1159\",\"type\":\"Title\"},\"toolbar\":{\"id\":\"1135\",\"type\":\"Toolbar\"},\"x_range\":{\"id\":\"1111\",\"type\":\"DataRange1d\"},\"x_scale\":{\"id\":\"1115\",\"type\":\"LinearScale\"},\"y_range\":{\"id\":\"1113\",\"type\":\"DataRange1d\"},\"y_scale\":{\"id\":\"1117\",\"type\":\"LinearScale\"}},\"id\":\"1110\",\"subtype\":\"Figure\",\"type\":\"Plot\"},{\"attributes\":{\"text\":\"\"},\"id\":\"1159\",\"type\":\"Title\"},{\"attributes\":{\"ticker\":{\"id\":\"1120\",\"type\":\"BasicTicker\"}},\"id\":\"1123\",\"type\":\"Grid\"},{\"attributes\":{},\"id\":\"1161\",\"type\":\"BasicTickFormatter\"},{\"attributes\":{\"formatter\":{\"id\":\"1161\",\"type\":\"BasicTickFormatter\"},\"ticker\":{\"id\":\"1125\",\"type\":\"BasicTicker\"}},\"id\":\"1124\",\"type\":\"LinearAxis\"},{\"attributes\":{},\"id\":\"1163\",\"type\":\"BasicTickFormatter\"},{\"attributes\":{},\"id\":\"1125\",\"type\":\"BasicTicker\"},{\"attributes\":{\"data_source\":{\"id\":\"1109\",\"type\":\"ColumnDataSource\"},\"glyph\":{\"id\":\"1143\",\"type\":\"Scatter\"},\"hover_glyph\":null,\"muted_glyph\":null,\"nonselection_glyph\":{\"id\":\"1144\",\"type\":\"Scatter\"},\"selection_glyph\":null,\"view\":{\"id\":\"1146\",\"type\":\"CDSView\"}},\"id\":\"1145\",\"type\":\"GlyphRenderer\"},{\"attributes\":{},\"id\":\"1164\",\"type\":\"Selection\"},{\"attributes\":{\"dimension\":1,\"ticker\":{\"id\":\"1125\",\"type\":\"BasicTicker\"}},\"id\":\"1128\",\"type\":\"Grid\"},{\"attributes\":{\"callback\":null},\"id\":\"1111\",\"type\":\"DataRange1d\"},{\"attributes\":{},\"id\":\"1165\",\"type\":\"UnionRenderers\"},{\"attributes\":{\"callback\":null,\"tooltips\":[[\"token\",\"@token\"]]},\"id\":\"1147\",\"type\":\"HoverTool\"},{\"attributes\":{\"fill_alpha\":{\"value\":0.1},\"fill_color\":{\"value\":\"#1f77b4\"},\"line_alpha\":{\"value\":0.1},\"line_color\":{\"value\":\"#1f77b4\"},\"size\":{\"units\":\"screen\",\"value\":10},\"x\":{\"field\":\"x\"},\"y\":{\"field\":\"y\"}},\"id\":\"1144\",\"type\":\"Scatter\"},{\"attributes\":{\"callback\":null},\"id\":\"1113\",\"type\":\"DataRange1d\"},{\"attributes\":{\"bottom_units\":\"screen\",\"fill_alpha\":{\"value\":0.5},\"fill_color\":{\"value\":\"lightgrey\"},\"left_units\":\"screen\",\"level\":\"overlay\",\"line_alpha\":{\"value\":1.0},\"line_color\":{\"value\":\"black\"},\"line_dash\":[4,4],\"line_width\":{\"value\":2},\"render_mode\":\"css\",\"right_units\":\"screen\",\"top_units\":\"screen\"},\"id\":\"1166\",\"type\":\"BoxAnnotation\"},{\"attributes\":{\"fill_alpha\":{\"value\":0.25},\"fill_color\":{\"field\":\"color\"},\"line_alpha\":{\"value\":0.25},\"line_color\":{\"field\":\"color\"},\"size\":{\"units\":\"screen\",\"value\":10},\"x\":{\"field\":\"x\"},\"y\":{\"field\":\"y\"}},\"id\":\"1143\",\"type\":\"Scatter\"},{\"attributes\":{},\"id\":\"1115\",\"type\":\"LinearScale\"},{\"attributes\":{\"active_drag\":\"auto\",\"active_inspect\":\"auto\",\"active_multi\":null,\"active_scroll\":{\"id\":\"1130\",\"type\":\"WheelZoomTool\"},\"active_tap\":\"auto\",\"tools\":[{\"id\":\"1129\",\"type\":\"PanTool\"},{\"id\":\"1130\",\"type\":\"WheelZoomTool\"},{\"id\":\"1131\",\"type\":\"BoxZoomTool\"},{\"id\":\"1132\",\"type\":\"SaveTool\"},{\"id\":\"1133\",\"type\":\"ResetTool\"},{\"id\":\"1134\",\"type\":\"HelpTool\"},{\"id\":\"1147\",\"type\":\"HoverTool\"}]},\"id\":\"1135\",\"type\":\"Toolbar\"},{\"attributes\":{},\"id\":\"1129\",\"type\":\"PanTool\"},{\"attributes\":{\"callback\":null,\"data\":{\"color\":[\"green\",\"green\",\"green\",\"green\",\"green\",\"green\",\"green\",\"green\",\"green\",\"green\",\"green\",\"green\",\"green\",\"green\",\"green\",\"green\",\"green\",\"green\",\"green\",\"green\",\"green\",\"green\",\"green\",\"green\",\"green\",\"green\",\"green\",\"green\",\"green\",\"green\",\"green\",\"green\",\"green\",\"green\",\"green\",\"green\",\"green\",\"green\",\"green\",\"green\",\"green\",\"green\",\"green\",\"green\",\"green\",\"green\",\"green\",\"green\",\"green\",\"green\",\"green\",\"green\",\"green\",\"green\",\"green\",\"green\",\"green\",\"green\",\"green\",\"green\",\"green\",\"green\",\"green\",\"green\",\"green\",\"green\",\"green\",\"green\",\"green\",\"green\",\"green\",\"green\",\"green\",\"green\",\"green\",\"green\",\"green\",\"green\",\"green\",\"green\",\"green\",\"green\",\"green\",\"green\",\"green\",\"green\",\"green\",\"green\",\"green\",\"green\",\"green\",\"green\",\"green\",\"green\",\"green\",\"green\",\"green\",\"green\",\"green\",\"green\",\"green\",\"green\",\"green\",\"green\",\"green\",\"green\",\"green\",\"green\",\"green\",\"green\",\"green\",\"green\",\"green\",\"green\",\"green\",\"green\",\"green\",\"green\",\"green\",\"green\",\"green\",\"green\",\"green\",\"green\",\"green\",\"green\",\"green\",\"green\",\"green\",\"green\",\"green\",\"green\",\"green\",\"green\",\"green\",\"green\",\"green\",\"green\",\"green\",\"green\",\"green\",\"green\",\"green\",\"green\",\"green\",\"green\",\"green\",\"green\",\"green\",\"green\",\"green\",\"green\",\"green\",\"green\",\"green\",\"green\",\"green\",\"green\",\"green\",\"green\",\"green\",\"green\",\"green\",\"green\",\"green\",\"green\",\"green\",\"green\",\"green\",\"green\",\"green\",\"green\",\"green\",\"green\",\"green\",\"green\",\"green\",\"green\",\"green\",\"green\",\"green\",\"green\",\"green\",\"green\",\"green\",\"green\",\"green\",\"green\",\"green\",\"green\",\"green\",\"green\",\"green\",\"green\",\"green\",\"green\",\"green\",\"green\",\"green\",\"green\",\"green\",\"green\",\"green\",\"green\",\"green\",\"green\",\"green\",\"green\",\"green\",\"green\",\"green\",\"green\",\"green\",\"green\",\"green\",\"green\",\"green\",\"green\",\"green\",\"green\",\"green\",\"green\",\"green\",\"green\",\"green\",\"green\",\"green\",\"green\",\"green\",\"green\",\"green\",\"green\",\"green\",\"green\",\"green\",\"green\",\"green\",\"green\",\"green\",\"green\",\"green\",\"green\",\"green\",\"green\",\"green\",\"green\",\"green\",\"green\",\"green\",\"green\",\"green\",\"green\",\"green\",\"green\",\"green\",\"green\",\"green\",\"green\",\"green\",\"green\",\"green\",\"green\",\"green\",\"green\",\"green\",\"green\",\"green\",\"green\",\"green\",\"green\",\"green\",\"green\",\"green\",\"green\",\"green\",\"green\",\"green\",\"green\",\"green\",\"green\",\"green\",\"green\",\"green\",\"green\",\"green\",\"green\",\"green\",\"green\",\"green\",\"green\",\"green\",\"green\",\"green\",\"green\",\"green\",\"green\",\"green\",\"green\",\"green\",\"green\",\"green\",\"green\",\"green\",\"green\",\"green\",\"green\",\"green\",\"green\",\"green\",\"green\",\"green\",\"green\",\"green\",\"green\",\"green\",\"green\",\"green\",\"green\",\"green\",\"green\",\"green\",\"green\",\"green\",\"green\",\"green\",\"green\",\"green\",\"green\",\"green\",\"green\",\"green\",\"green\",\"green\",\"green\",\"green\",\"green\",\"green\",\"green\",\"green\",\"green\",\"green\",\"green\",\"green\",\"green\",\"green\",\"green\",\"green\",\"green\",\"green\",\"green\",\"green\",\"green\",\"green\",\"green\",\"green\",\"green\",\"green\",\"green\",\"green\",\"green\",\"green\",\"green\",\"green\",\"green\",\"green\",\"green\",\"green\",\"green\",\"green\",\"green\",\"green\",\"green\",\"green\",\"green\",\"green\",\"green\",\"green\",\"green\",\"green\",\"green\",\"green\",\"green\",\"green\",\"green\",\"green\",\"green\",\"green\",\"green\",\"green\",\"green\",\"green\",\"green\",\"green\",\"green\",\"green\",\"green\",\"green\",\"green\",\"green\",\"green\",\"green\",\"green\",\"green\",\"green\",\"green\",\"green\",\"green\",\"green\",\"green\",\"green\",\"green\",\"green\",\"green\",\"green\",\"green\",\"green\",\"green\",\"green\",\"green\",\"green\",\"green\",\"green\",\"green\",\"green\",\"green\",\"green\",\"green\",\"green\",\"green\",\"green\",\"green\",\"green\",\"green\",\"green\",\"green\",\"green\",\"green\",\"green\",\"green\",\"green\",\"green\",\"green\",\"green\",\"green\",\"green\",\"green\",\"green\",\"green\",\"green\",\"green\",\"green\",\"green\",\"green\",\"green\",\"green\",\"green\",\"green\",\"green\",\"green\",\"green\",\"green\",\"green\",\"green\",\"green\",\"green\",\"green\",\"green\",\"green\",\"green\",\"green\",\"green\",\"green\",\"green\",\"green\",\"green\",\"green\",\"green\",\"green\",\"green\",\"green\",\"green\",\"green\",\"green\",\"green\",\"green\",\"green\",\"green\",\"green\",\"green\",\"green\",\"green\",\"green\",\"green\",\"green\",\"green\",\"green\",\"green\",\"green\",\"green\",\"green\",\"green\",\"green\",\"green\",\"green\",\"green\",\"green\",\"green\",\"green\",\"green\",\"green\",\"green\",\"green\",\"green\",\"green\",\"green\",\"green\",\"green\",\"green\",\"green\",\"green\",\"green\",\"green\",\"green\",\"green\",\"green\",\"green\",\"green\",\"green\",\"green\",\"green\",\"green\",\"green\",\"green\",\"green\",\"green\",\"green\",\"green\",\"green\",\"green\",\"green\",\"green\",\"green\",\"green\",\"green\",\"green\",\"green\",\"green\",\"green\",\"green\",\"green\",\"green\",\"green\",\"green\",\"green\",\"green\",\"green\",\"green\",\"green\",\"green\",\"green\",\"green\",\"green\",\"green\",\"green\",\"green\",\"green\",\"green\",\"green\",\"green\",\"green\",\"green\",\"green\",\"green\",\"green\",\"green\",\"green\",\"green\",\"green\",\"green\",\"green\",\"green\",\"green\",\"green\",\"green\",\"green\",\"green\",\"green\",\"green\",\"green\",\"green\",\"green\",\"green\",\"green\",\"green\",\"green\",\"green\",\"green\",\"green\",\"green\",\"green\",\"green\",\"green\",\"green\",\"green\",\"green\",\"green\",\"green\",\"green\",\"green\",\"green\",\"green\",\"green\",\"green\",\"green\",\"green\",\"green\",\"green\",\"green\",\"green\",\"green\",\"green\",\"green\",\"green\",\"green\",\"green\",\"green\",\"green\",\"green\",\"green\",\"green\",\"green\",\"green\",\"green\",\"green\",\"green\",\"green\",\"green\",\"green\",\"green\",\"green\",\"green\",\"green\",\"green\",\"green\",\"green\",\"green\",\"green\",\"green\",\"green\",\"green\",\"green\",\"green\",\"green\",\"green\",\"green\",\"green\",\"green\",\"green\",\"green\",\"green\",\"green\",\"green\",\"green\",\"green\",\"green\",\"green\",\"green\",\"green\",\"green\",\"green\",\"green\",\"green\",\"green\",\"green\",\"green\",\"green\",\"green\",\"green\",\"green\",\"green\",\"green\",\"green\",\"green\",\"green\",\"green\",\"green\",\"green\",\"green\",\"green\",\"green\",\"green\",\"green\",\"green\",\"green\",\"green\",\"green\",\"green\",\"green\",\"green\",\"green\",\"green\",\"green\",\"green\",\"green\",\"green\",\"green\",\"green\",\"green\",\"green\",\"green\",\"green\",\"green\",\"green\",\"green\",\"green\",\"green\",\"green\",\"green\",\"green\",\"green\",\"green\",\"green\",\"green\",\"green\",\"green\",\"green\",\"green\",\"green\",\"green\",\"green\",\"green\",\"green\",\"green\",\"green\",\"green\",\"green\",\"green\",\"green\",\"green\",\"green\",\"green\",\"green\",\"green\",\"green\",\"green\",\"green\",\"green\",\"green\",\"green\",\"green\",\"green\",\"green\",\"green\",\"green\",\"green\",\"green\",\"green\",\"green\",\"green\",\"green\",\"green\",\"green\",\"green\",\"green\",\"green\",\"green\",\"green\",\"green\",\"green\",\"green\",\"green\",\"green\",\"green\",\"green\",\"green\",\"green\",\"green\",\"green\",\"green\",\"green\",\"green\",\"green\",\"green\",\"green\",\"green\",\"green\",\"green\",\"green\",\"green\",\"green\",\"green\",\"green\",\"green\",\"green\",\"green\",\"green\",\"green\",\"green\",\"green\",\"green\",\"green\",\"green\",\"green\",\"green\",\"green\",\"green\",\"green\",\"green\",\"green\",\"green\",\"green\",\"green\",\"green\",\"green\",\"green\",\"green\",\"green\",\"green\",\"green\",\"green\",\"green\",\"green\",\"green\",\"green\",\"green\",\"green\",\"green\",\"green\",\"green\",\"green\",\"green\",\"green\",\"green\",\"green\",\"green\",\"green\",\"green\",\"green\",\"green\",\"green\",\"green\",\"green\",\"green\",\"green\",\"green\",\"green\",\"green\",\"green\",\"green\",\"green\",\"green\",\"green\",\"green\",\"green\",\"green\",\"green\",\"green\",\"green\",\"green\",\"green\",\"green\",\"green\",\"green\",\"green\",\"green\",\"green\",\"green\",\"green\",\"green\",\"green\",\"green\",\"green\",\"green\",\"green\",\"green\",\"green\",\"green\",\"green\",\"green\",\"green\",\"green\",\"green\",\"green\",\"green\",\"green\",\"green\",\"green\",\"green\",\"green\",\"green\",\"green\",\"green\",\"green\",\"green\",\"green\",\"green\",\"green\",\"green\",\"green\",\"green\",\"green\",\"green\",\"green\",\"green\",\"green\",\"green\",\"green\",\"green\",\"green\",\"green\",\"green\",\"green\",\"green\",\"green\",\"green\",\"green\",\"green\",\"green\",\"green\",\"green\",\"green\",\"green\",\"green\",\"green\",\"green\",\"green\",\"green\",\"green\",\"green\",\"green\",\"green\",\"green\",\"green\",\"green\",\"green\",\"green\",\"green\",\"green\",\"green\",\"green\",\"green\",\"green\",\"green\",\"green\",\"green\",\"green\",\"green\",\"green\",\"green\",\"green\",\"green\",\"green\",\"green\",\"green\",\"green\",\"green\",\"green\",\"green\",\"green\",\"green\",\"green\",\"green\",\"green\",\"green\",\"green\",\"green\",\"green\",\"green\",\"green\",\"green\",\"green\",\"green\",\"green\",\"green\",\"green\",\"green\",\"green\",\"green\",\"green\",\"green\",\"green\",\"green\",\"green\",\"green\",\"green\",\"green\",\"green\",\"green\",\"green\",\"green\",\"green\",\"green\",\"green\",\"green\",\"green\",\"green\",\"green\",\"green\",\"green\",\"green\"],\"token\":[\",\",\".\",\"-\",\":\",\"product\",\"use\",\"servic\",\"us\",\"data\",\"contact\",\"inform\",\"provid\",\"cooki\",\"solut\",\"custom\",\"new\",\"manag\",\"?\",\"websit\",\"person\",\"work\",\"process\",\"busi\",\"develop\",\"system\",\"compani\",\"design\",\"offer\",\"help\",\"\\\"\",\"technolog\",\"high\",\"market\",\"support\",\"industri\",\"site\",\";\",\"may\",\"also\",\"world\",\"right\",\"make\",\"privaci\",\"oper\",\"global\",\"group\",\"\\u2013\",\"time\",\"pleas\",\"e\",\"need\",\"one\",\"'\",\"includ\",\"applic\",\"innov\",\"!\",\"experi\",\"term\",\"intern\",\"year\",\"project\",\"\\u201c\",\"sale\",\"rang\",\"well\",\"read\",\"qualiti\",\"improv\",\"find\",\"best\",\"requir\",\"part\",\"control\",\"perform\",\"team\",\"continu\",\"website\",\"food\",\"deliv\",\"sustain\",\"materi\",\"suppli\",\"netherland\",\"\\u00a9\",\"protect\",\"research\",\"engin\",\"access\",\"partner\",\"meet\",\"manufactur\",\"follow\",\"packag\",\"chang\",\"get\",\"ensur\",\"set\",\"damen\",\"secur\",\"learn\",\"share\",\"news\",\"you\",\"visit\",\"unit\",\"lead\",\"offic\",\"take\",\"condit\",\"function\",\"first\",\"download\",\"avail\",\"power\",\"result\",\"user\",\"\\u00ae\",\"order\",\"career\",\"digit\",\"report\",\"equip\",\"supplier\",\"way\",\"respons\",\"specif\",\"collect\",\"polici\",\"address\",\"creat\",\"link\",\"offshor\",\"parti\",\"connect\",\"integr\",\"third\",\"relat\",\"transport\",\"build\",\"safeti\",\"b\",\"complet\",\"latest\",\"base\",\"enabl\",\"r\",\"network\",\"water\",\"cookies\",\"form\",\"brand\",\"general\",\"look\",\"without\",\"locat\",\"like\",\"cost\",\"everi\",\"c\",\"peopl\",\"standard\",\"products\",\"life\",\"allow\",\"valu\",\"in\",\"success\",\"increas\",\"test\",\"activ\",\"information\",\"type\",\"within\",\"direct\",\"corpor\",\"social\",\"content\",\"day\",\"...\",\"effici\",\"environment\",\"view\",\"softwar\",\"vessel\",\"email\",\"key\",\"differ\",\"ship\",\"special\",\"see\",\"focus\",\"industry\",\"energi\",\"media\",\"full\",\"it\",\"care\",\"page\",\"client\",\"effect\",\"statement\",\"detail\",\"produc\",\"d\",\"to\",\"browser\",\"services\",\"receiv\",\"good\",\"event\",\"place\",\"state\",\"end\",\"technic\",\"mail\",\"jobe\",\"select\",\"number\",\"advanc\",\"\\u201d\",\"gas\",\"logist\",\"oil\",\"train\",\"addit\",\"know\",\"mani\",\"click\",\"request\",\"we\",\"law\",\"financi\",\"job\",\"made\",\"tool\",\"today\",\"start\",\"countri\",\"interest\",\"chain\",\"reduc\",\"give\",\"t\",\"risk\",\"post\",\"agre\",\"import\",\"challeng\",\"search\",\"open\",\"f\",\"instal\",\"possibl\",\"level\",\"a\",\"resourc\",\"around\",\"shall\",\"program\",\"area\",\"contain\",\"long\",\"europ\",\"better\",\"deliveri\",\"organ\",\"case\",\"across\",\"copyright\",\"mean\",\"employe\",\"local\",\"understand\",\"legal\",\"consum\",\"commit\",\"uniqu\",\"keep\",\"combin\",\"line\",\"invest\",\"light\",\"wide\",\"chemic\",\"appli\",\"accord\",\"name\",\"two\",\"go\",\"optim\",\"field\",\"platform\",\"public\",\"center\",\"knowledg\",\"health\",\"box\",\"limit\",\"flexibl\",\"video\",\"track\",\"store\",\"solutions\",\"achiev\",\"futur\",\"onz\",\"contract\",\"natur\",\"\\u2122\",\"drive\",\"america\",\"featur\",\"accept\",\"top\",\"electr\",\"on\",\"&#\",\"would\",\"purpos\",\"trade\",\"becom\",\"opportun\",\"region\",\"valv\",\"demand\",\"plant\",\"current\",\"reliabl\",\"discov\",\"european\",\"s\",\"by\",\"account\",\"necessari\",\"togeth\",\"posit\",\"board\",\"policy\",\"expertis\",\"newslett\",\"impact\",\"document\",\"free\",\"execut\",\"award\",\"dredg\",\"leader\",\"&\",\"back\",\"expert\",\"port\",\"communic\",\"agreement\",\"regist\",\"measur\",\"autom\",\"abl\",\"profession\",\"paper\",\"safe\",\"come\",\"portfolio\",\"call\",\"navig\",\"marin\",\"present\",\"print\",\"via\",\"serv\",\"insight\",\"home\",\"experience\",\"growth\",\"imag\",\"alway\",\"analyt\",\"air\",\"machin\",\"consent\",\"choos\",\"updat\",\"dutch\",\"low\",\"enhanc\",\"environ\",\"#\",\"googl\",\"handl\",\"mobil\",\"stay\",\"ad\",\"extens\",\"systems\",\"question\",\"wagenborg\",\"monitor\",\"found\",\"vion\",\"main\",\"amsterdam\",\"mainten\",\"non\",\"fast\",\"customers\",\"date\",\"excel\",\"transform\",\"close\",\"even\",\"director\",\"web\",\"save\",\"business\",\"\\u20ac\",\"annual\",\"north\",\"facil\",\"benefit\",\"tel\",\"sinc\",\"worldwid\",\"x\",\"onlin\",\"larg\",\"commerci\",\"g\",\"built\",\"company\",\"applications\",\"approach\",\"size\",\"steel\",\"check\",\"various\",\"capabl\",\"join\",\"v\",\"option\",\"govern\",\"generat\",\"+\",\"\\u2026\",\"bv\",\"complex\",\"\\u2022\",\"vdl\",\"sign\",\"quick\",\"construct\",\"small\",\"regard\",\"next\",\"dedic\",\"head\",\"price\",\"must\",\"per\",\"up\",\"list\",\"investor\",\"send\",\"sea\",\"subject\",\"fill\",\"transfer\",\"compon\",\"devic\",\"human\",\"maintain\",\"perfect\",\"live\",\"feed\",\"fulli\",\"termin\",\"reserved\",\"smart\",\"grow\",\"co\",\"practic\",\"model\",\"structur\",\"class\",\"th\",\"member\",\"bring\",\"associ\",\"automot\",\"recycl\",\"seri\",\"technology\",\"great\",\"role\",\"here\",\"file\",\"code\",\"due\",\"cargo\",\"strategi\",\"respect\",\"real\",\"institut\",\"consult\",\"netherlands\",\"inc\",\"color\",\"last\",\"fabric\",\"=\\\"\",\"cloud\",\"whether\",\"visitor\",\"vehicl\",\"return\",\"quality\",\"plan\",\"out\",\"implement\",\"phone\",\"thank\",\"relev\",\"l\",\"total\",\"service\",\"p\",\"clean\",\"novemb\",\"recent\",\"i\",\"electron\",\"shipyard\",\"regul\",\"suit\",\"purchas\",\"refer\",\"asia\",\"million\",\"period\",\"individu\",\"strong\",\"guarante\",\"clinic\",\"collabor\",\"issu\",\"act\",\"performance\",\"ask\",\"coat\",\"studi\",\"ingredi\",\"travel\",\"multi\",\"hold\",\"identifi\",\"repres\",\"major\",\"properti\",\"prevent\",\"la\",\"section\",\"announc\",\"distribut\",\".,\",\"explor\",\"retail\",\"certif\",\"years\",\"varieti\",\"contribut\",\"the\",\"notic\",\"led\",\"three\",\"show\",\"\\u2014\",\"step\",\"aerospac\",\"touch\",\"pdf\",\"releas\",\"enter\",\"consist\",\"charg\",\"specialist\",\"submit\",\"largest\",\"road\",\"usa\",\"reach\",\"assist\",\"sector\",\"leadership\",\"eu\",\"reason\",\"sever\",\"anim\",\"trust\",\"south\",\"of\",\"plastic\",\"medic\",\"point\",\"fit\",\"central\",\"univers\",\"articl\",\"overview\",\"record\",\"uk\",\"china\",\"brows\",\"menu\",\"conduct\",\"scienc\",\"fuel\",\"bus\",\"categori\",\"flowserv\",\"heat\",\"bas\",\"treatment\",\"javascript\",\"wind\",\"sourc\",\"cover\",\".\\u201d\",\"meat\",\"more\",\"reserv\",\"core\",\"essenti\",\"storag\",\"all\",\"app\",\"requirements\",\"concept\",\"nl\",\"play\",\"art\",\"aim\",\"repair\",\"iso\",\"prefer\",\"tailor\",\"europe\",\"below\",\"m\",\"flow\",\"sure\",\"move\",\"east\",\"establish\",\"compli\",\"complianc\",\"particular\",\"guid\",\"cut\",\"communiti\",\"highest\",\"partnership\",\"needs\",\"analysi\",\"lift\",\"divers\",\"=\\\"\\\"\",\"expect\",\"easi\",\"turn\",\"vision\",\"nation\",\"potenti\",\"initi\",\"let\",\"goal\",\"target\",\"that\",\"famili\",\"asset\",\"exist\",\"item\",\"modern\",\"map\",\"short\",\"english\",\"stock\",\"fokker\",\"util\",\"comput\",\"run\",\"no\",\"patient\",\"certain\",\"maritim\",\"crane\",\"coach\",\"origin\",\"nutrit\",\"space\",\"throughout\",\"readi\",\"heavi\",\"engag\",\"ihc\",\"fax\",\"var\",\"however\",\"pressur\",\"subscrib\",\"centr\",\"holland\",\"den\",\"month\",\"for\",\"believ\",\"wij\",\"singl\",\"action\",\"press\",\"disclaim\",\"composit\",\"could\",\"future\",\"wast\",\"econom\",\"stand\",\"ip\",\"promot\",\"expand\",\"cooper\",\"employ\",\"dri\",\"comfort\",\"basic\",\"shape\",\"africa\",\"author\",\"k\",\"trademark\",\"nieuw\",\"ltd\",\"metal\",\"involv\",\"multipl\",\"raw\",\"educ\",\"replac\",\"operations\",\"interact\",\"carri\",\"strateg\",\"critic\",\"conditions\",\"gkn\",\"und\",\"disabl\",\"specialti\",\"review\",\"pump\",\"depart\",\"royal\",\"women\",\"people\",\"equipment\",\"launch\",\"internet\",\"forward\",\"tug\",\"foundat\",\"rotterdam\",\"payment\",\"damag\",\"development\",\"park\",\"signific\",\"hous\",\"worldwide\",\"materials\",\"entir\",\"week\",\"skill\",\"industries\",\"rate\",\"background\",\"choic\",\"display\",\"maximum\",\"oblig\",\"concern\",\"healthcar\",\"clear\",\"n\",\"independ\",\"alreadi\",\"four\",\"mm\",\"remov\",\"linkedin\",\"teijin\",\"publish\",\"filter\",\"competit\",\"login\",\"lower\",\"wds_contain\",\"technologies\",\"speed\",\"px\",\"quarter\",\"capac\",\"infrastructur\",\"intellig\",\"label\",\"septemb\",\"automat\",\"relationship\",\"possible\",\"suitabl\",\"mallinckrodt\",\"hand\",\"decis\",\"detect\",\"management\",\"toward\",\"buyer\",\"octob\",\"screen\",\"surfac\",\"much\",\"welcom\",\"remain\",\"decemb\",\"comprehens\",\"anoth\",\"safety\",\"employees\",\"ceo\",\"sheet\",\"think\",\"obtain\",\"big\",\"consid\",\"wish\",\"h\",\"determin\",\"stori\",\"and\",\"shop\",\"feel\",\"exclus\",\"object\",\"basi\",\"shiprepair\",\"convers\",\"=\",\"watch\",\"customer\",\"germani\",\"forc\",\"loss\",\"thing\",\"advantag\",\"recommend\",\"profil\",\"enterpris\",\"citi\",\"regular\",\"proud\",\"particip\",\"middl\",\"websites\",\"histori\",\"instrument\",\"server\",\"glass\",\"senior\",\"path\",\"put\",\"precis\",\"fleet\",\"white\",\"dose\",\"colour\",\"profit\",\"fresh\",\"nederland\",\"longer\",\"except\",\"mission\",\"method\",\"assess\",\"bank\",\"camera\",\"problem\",\"load\",\"rsa\",\"acquir\",\"vest\",\"example\",\"owner\",\"mechan\",\"organis\",\"transpar\",\"win\",\"advertis\",\"less\",\"premium\",\"prepar\",\"broad\",\"this\",\"note\",\"hydraul\",\"own\",\"traffic\",\"abil\",\"prior\",\"constant\",\"extend\",\"cannot\",\"gmbh\",\"ever\",\"brochur\",\"green\",\"mark\",\"car\",\"modul\",\"still\",\"liquid\",\"add\",\"ll\",\"matter\",\"https\",\"upon\",\"depend\",\"separ\",\"amount\",\"footer\",\"cultur\",\"q\",\"headquart\",\"fund\",\"languag\",\"et\",\"gain\",\"cours\",\"scale\",\"hard\",\"known\",\"june\",\"higher\",\"second\",\"pharmaceut\",\"scala\",\"mr\",\"protein\",\"proven\",\"confer\",\"efficiency\",\"provis\",\"temperatur\",\"farm\",\"version\",\"everyth\",\"w\",\"',\",\"sit\",\"indic\",\"energy\",\"agent\",\"therefor\",\"march\",\"projects\",\"now\",\"happi\",\"tech\",\"correct\",\"mill\",\"strength\",\"warranti\",\"off\",\"block\",\"friend\",\"driven\",\"idea\",\"popular\",\"programm\",\"april\",\"yard\",\"scientif\",\"climat\",\"mine\",\"regulatori\",\"red\",\"settings\",\"certifi\",\"common\",\"caus\",\"markets\",\"valley\",\"explain\",\"india\"],\"x\":{\"__ndarray__\":\"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\",\"dtype\":\"float32\",\"shape\":[1000]},\"y\":{\"__ndarray__\":\"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\",\"dtype\":\"float32\",\"shape\":[1000]}},\"selected\":{\"id\":\"1164\",\"type\":\"Selection\"},\"selection_policy\":{\"id\":\"1165\",\"type\":\"UnionRenderers\"}},\"id\":\"1109\",\"type\":\"ColumnDataSource\"},{\"attributes\":{},\"id\":\"1130\",\"type\":\"WheelZoomTool\"},{\"attributes\":{},\"id\":\"1117\",\"type\":\"LinearScale\"},{\"attributes\":{\"overlay\":{\"id\":\"1166\",\"type\":\"BoxAnnotation\"}},\"id\":\"1131\",\"type\":\"BoxZoomTool\"},{\"attributes\":{},\"id\":\"1132\",\"type\":\"SaveTool\"},{\"attributes\":{},\"id\":\"1133\",\"type\":\"ResetTool\"},{\"attributes\":{},\"id\":\"1134\",\"type\":\"HelpTool\"},{\"attributes\":{\"formatter\":{\"id\":\"1163\",\"type\":\"BasicTickFormatter\"},\"ticker\":{\"id\":\"1120\",\"type\":\"BasicTicker\"}},\"id\":\"1119\",\"type\":\"LinearAxis\"},{\"attributes\":{},\"id\":\"1120\",\"type\":\"BasicTicker\"},{\"attributes\":{\"source\":{\"id\":\"1109\",\"type\":\"ColumnDataSource\"}},\"id\":\"1146\",\"type\":\"CDSView\"}],\"root_ids\":[\"1110\"]},\"title\":\"Bokeh Application\",\"version\":\"1.4.0\"}};\n",
       "  var render_items = [{\"docid\":\"fe7e1832-15e2-4fda-af10-80655610ad45\",\"roots\":{\"1110\":\"4a797e95-8cc1-4df8-bcdd-f0b80c86261c\"}}];\n",
       "  root.Bokeh.embed.embed_items_notebook(docs_json, render_items);\n",
       "\n",
       "  }\n",
       "  if (root.Bokeh !== undefined) {\n",
       "    embed_document(root);\n",
       "  } else {\n",
       "    var attempts = 0;\n",
       "    var timer = setInterval(function(root) {\n",
       "      if (root.Bokeh !== undefined) {\n",
       "        clearInterval(timer);\n",
       "        embed_document(root);\n",
       "      } else {\n",
       "        attempts++;\n",
       "        if (attempts > 100) {\n",
       "          clearInterval(timer);\n",
       "          console.log(\"Bokeh: ERROR: Unable to run BokehJS code because BokehJS library is missing\");\n",
       "        }\n",
       "      }\n",
       "    }, 10, root)\n",
       "  }\n",
       "})(window);"
      ],
      "application/vnd.bokehjs_exec.v0+json": ""
     },
     "metadata": {
      "application/vnd.bokehjs_exec.v0+json": {
       "id": "1110"
      }
     },
     "output_type": "display_data"
    },
    {
     "data": {
      "text/html": [
       "<div style=\"display: table;\"><div style=\"display: table-row;\"><div style=\"display: table-cell;\"><b title=\"bokeh.plotting.figure.Figure\">Figure</b>(</div><div style=\"display: table-cell;\">id&nbsp;=&nbsp;'1110', <span id=\"1222\" style=\"cursor: pointer;\">&hellip;)</span></div></div><div class=\"1221\" style=\"display: none;\"><div style=\"display: table-cell;\"></div><div style=\"display: table-cell;\">above&nbsp;=&nbsp;[],</div></div><div class=\"1221\" style=\"display: none;\"><div style=\"display: table-cell;\"></div><div style=\"display: table-cell;\">align&nbsp;=&nbsp;'start',</div></div><div class=\"1221\" style=\"display: none;\"><div style=\"display: table-cell;\"></div><div style=\"display: table-cell;\">aspect_ratio&nbsp;=&nbsp;None,</div></div><div class=\"1221\" style=\"display: none;\"><div style=\"display: table-cell;\"></div><div style=\"display: table-cell;\">aspect_scale&nbsp;=&nbsp;1,</div></div><div class=\"1221\" style=\"display: none;\"><div style=\"display: table-cell;\"></div><div style=\"display: table-cell;\">background&nbsp;=&nbsp;None,</div></div><div class=\"1221\" style=\"display: none;\"><div style=\"display: table-cell;\"></div><div style=\"display: table-cell;\">background_fill_alpha&nbsp;=&nbsp;{'value': 1.0},</div></div><div class=\"1221\" style=\"display: none;\"><div style=\"display: table-cell;\"></div><div style=\"display: table-cell;\">background_fill_color&nbsp;=&nbsp;{'value': '#ffffff'},</div></div><div class=\"1221\" style=\"display: none;\"><div style=\"display: table-cell;\"></div><div style=\"display: table-cell;\">below&nbsp;=&nbsp;[LinearAxis(id='1119', ...)],</div></div><div class=\"1221\" style=\"display: none;\"><div style=\"display: table-cell;\"></div><div style=\"display: table-cell;\">border_fill_alpha&nbsp;=&nbsp;{'value': 1.0},</div></div><div class=\"1221\" style=\"display: none;\"><div style=\"display: table-cell;\"></div><div style=\"display: table-cell;\">border_fill_color&nbsp;=&nbsp;{'value': '#ffffff'},</div></div><div class=\"1221\" style=\"display: none;\"><div style=\"display: table-cell;\"></div><div style=\"display: table-cell;\">center&nbsp;=&nbsp;[Grid(id='1123', ...), Grid(id='1128', ...)],</div></div><div class=\"1221\" style=\"display: none;\"><div style=\"display: table-cell;\"></div><div style=\"display: table-cell;\">css_classes&nbsp;=&nbsp;[],</div></div><div class=\"1221\" style=\"display: none;\"><div style=\"display: table-cell;\"></div><div style=\"display: table-cell;\">disabled&nbsp;=&nbsp;False,</div></div><div class=\"1221\" style=\"display: none;\"><div style=\"display: table-cell;\"></div><div style=\"display: table-cell;\">extra_x_ranges&nbsp;=&nbsp;{},</div></div><div class=\"1221\" style=\"display: none;\"><div style=\"display: table-cell;\"></div><div style=\"display: table-cell;\">extra_y_ranges&nbsp;=&nbsp;{},</div></div><div class=\"1221\" style=\"display: none;\"><div style=\"display: table-cell;\"></div><div style=\"display: table-cell;\">frame_height&nbsp;=&nbsp;None,</div></div><div class=\"1221\" style=\"display: none;\"><div style=\"display: table-cell;\"></div><div style=\"display: table-cell;\">frame_width&nbsp;=&nbsp;None,</div></div><div class=\"1221\" style=\"display: none;\"><div style=\"display: table-cell;\"></div><div style=\"display: table-cell;\">height&nbsp;=&nbsp;None,</div></div><div class=\"1221\" style=\"display: none;\"><div style=\"display: table-cell;\"></div><div style=\"display: table-cell;\">height_policy&nbsp;=&nbsp;'auto',</div></div><div class=\"1221\" style=\"display: none;\"><div style=\"display: table-cell;\"></div><div style=\"display: table-cell;\">hidpi&nbsp;=&nbsp;True,</div></div><div class=\"1221\" style=\"display: none;\"><div style=\"display: table-cell;\"></div><div style=\"display: table-cell;\">js_event_callbacks&nbsp;=&nbsp;{},</div></div><div class=\"1221\" style=\"display: none;\"><div style=\"display: table-cell;\"></div><div style=\"display: table-cell;\">js_property_callbacks&nbsp;=&nbsp;{},</div></div><div class=\"1221\" style=\"display: none;\"><div style=\"display: table-cell;\"></div><div style=\"display: table-cell;\">left&nbsp;=&nbsp;[LinearAxis(id='1124', ...)],</div></div><div class=\"1221\" style=\"display: none;\"><div style=\"display: table-cell;\"></div><div style=\"display: table-cell;\">lod_factor&nbsp;=&nbsp;10,</div></div><div class=\"1221\" style=\"display: none;\"><div style=\"display: table-cell;\"></div><div style=\"display: table-cell;\">lod_interval&nbsp;=&nbsp;300,</div></div><div class=\"1221\" style=\"display: none;\"><div style=\"display: table-cell;\"></div><div style=\"display: table-cell;\">lod_threshold&nbsp;=&nbsp;2000,</div></div><div class=\"1221\" style=\"display: none;\"><div style=\"display: table-cell;\"></div><div style=\"display: table-cell;\">lod_timeout&nbsp;=&nbsp;500,</div></div><div class=\"1221\" style=\"display: none;\"><div style=\"display: table-cell;\"></div><div style=\"display: table-cell;\">margin&nbsp;=&nbsp;(0, 0, 0, 0),</div></div><div class=\"1221\" style=\"display: none;\"><div style=\"display: table-cell;\"></div><div style=\"display: table-cell;\">match_aspect&nbsp;=&nbsp;False,</div></div><div class=\"1221\" style=\"display: none;\"><div style=\"display: table-cell;\"></div><div style=\"display: table-cell;\">max_height&nbsp;=&nbsp;None,</div></div><div class=\"1221\" style=\"display: none;\"><div style=\"display: table-cell;\"></div><div style=\"display: table-cell;\">max_width&nbsp;=&nbsp;None,</div></div><div class=\"1221\" style=\"display: none;\"><div style=\"display: table-cell;\"></div><div style=\"display: table-cell;\">min_border&nbsp;=&nbsp;5,</div></div><div class=\"1221\" style=\"display: none;\"><div style=\"display: table-cell;\"></div><div style=\"display: table-cell;\">min_border_bottom&nbsp;=&nbsp;None,</div></div><div class=\"1221\" style=\"display: none;\"><div style=\"display: table-cell;\"></div><div style=\"display: table-cell;\">min_border_left&nbsp;=&nbsp;None,</div></div><div class=\"1221\" style=\"display: none;\"><div style=\"display: table-cell;\"></div><div style=\"display: table-cell;\">min_border_right&nbsp;=&nbsp;None,</div></div><div class=\"1221\" style=\"display: none;\"><div style=\"display: table-cell;\"></div><div style=\"display: table-cell;\">min_border_top&nbsp;=&nbsp;None,</div></div><div class=\"1221\" style=\"display: none;\"><div style=\"display: table-cell;\"></div><div style=\"display: table-cell;\">min_height&nbsp;=&nbsp;None,</div></div><div class=\"1221\" style=\"display: none;\"><div style=\"display: table-cell;\"></div><div style=\"display: table-cell;\">min_width&nbsp;=&nbsp;None,</div></div><div class=\"1221\" style=\"display: none;\"><div style=\"display: table-cell;\"></div><div style=\"display: table-cell;\">name&nbsp;=&nbsp;None,</div></div><div class=\"1221\" style=\"display: none;\"><div style=\"display: table-cell;\"></div><div style=\"display: table-cell;\">outline_line_alpha&nbsp;=&nbsp;{'value': 1.0},</div></div><div class=\"1221\" style=\"display: none;\"><div style=\"display: table-cell;\"></div><div style=\"display: table-cell;\">outline_line_cap&nbsp;=&nbsp;'butt',</div></div><div class=\"1221\" style=\"display: none;\"><div style=\"display: table-cell;\"></div><div style=\"display: table-cell;\">outline_line_color&nbsp;=&nbsp;{'value': '#e5e5e5'},</div></div><div class=\"1221\" style=\"display: none;\"><div style=\"display: table-cell;\"></div><div style=\"display: table-cell;\">outline_line_dash&nbsp;=&nbsp;[],</div></div><div class=\"1221\" style=\"display: none;\"><div style=\"display: table-cell;\"></div><div style=\"display: table-cell;\">outline_line_dash_offset&nbsp;=&nbsp;0,</div></div><div class=\"1221\" style=\"display: none;\"><div style=\"display: table-cell;\"></div><div style=\"display: table-cell;\">outline_line_join&nbsp;=&nbsp;'bevel',</div></div><div class=\"1221\" style=\"display: none;\"><div style=\"display: table-cell;\"></div><div style=\"display: table-cell;\">outline_line_width&nbsp;=&nbsp;{'value': 1},</div></div><div class=\"1221\" style=\"display: none;\"><div style=\"display: table-cell;\"></div><div style=\"display: table-cell;\">output_backend&nbsp;=&nbsp;'canvas',</div></div><div class=\"1221\" style=\"display: none;\"><div style=\"display: table-cell;\"></div><div style=\"display: table-cell;\">plot_height&nbsp;=&nbsp;400,</div></div><div class=\"1221\" style=\"display: none;\"><div style=\"display: table-cell;\"></div><div style=\"display: table-cell;\">plot_width&nbsp;=&nbsp;600,</div></div><div class=\"1221\" style=\"display: none;\"><div style=\"display: table-cell;\"></div><div style=\"display: table-cell;\">renderers&nbsp;=&nbsp;[GlyphRenderer(id='1145', ...)],</div></div><div class=\"1221\" style=\"display: none;\"><div style=\"display: table-cell;\"></div><div style=\"display: table-cell;\">reset_policy&nbsp;=&nbsp;'standard',</div></div><div class=\"1221\" style=\"display: none;\"><div style=\"display: table-cell;\"></div><div style=\"display: table-cell;\">right&nbsp;=&nbsp;[],</div></div><div class=\"1221\" style=\"display: none;\"><div style=\"display: table-cell;\"></div><div style=\"display: table-cell;\">sizing_mode&nbsp;=&nbsp;None,</div></div><div class=\"1221\" style=\"display: none;\"><div style=\"display: table-cell;\"></div><div style=\"display: table-cell;\">subscribed_events&nbsp;=&nbsp;[],</div></div><div class=\"1221\" style=\"display: none;\"><div style=\"display: table-cell;\"></div><div style=\"display: table-cell;\">tags&nbsp;=&nbsp;[],</div></div><div class=\"1221\" style=\"display: none;\"><div style=\"display: table-cell;\"></div><div style=\"display: table-cell;\">title&nbsp;=&nbsp;Title(id='1159', ...),</div></div><div class=\"1221\" style=\"display: none;\"><div style=\"display: table-cell;\"></div><div style=\"display: table-cell;\">title_location&nbsp;=&nbsp;'above',</div></div><div class=\"1221\" style=\"display: none;\"><div style=\"display: table-cell;\"></div><div style=\"display: table-cell;\">toolbar&nbsp;=&nbsp;Toolbar(id='1135', ...),</div></div><div class=\"1221\" style=\"display: none;\"><div style=\"display: table-cell;\"></div><div style=\"display: table-cell;\">toolbar_location&nbsp;=&nbsp;'right',</div></div><div class=\"1221\" style=\"display: none;\"><div style=\"display: table-cell;\"></div><div style=\"display: table-cell;\">toolbar_sticky&nbsp;=&nbsp;True,</div></div><div class=\"1221\" style=\"display: none;\"><div style=\"display: table-cell;\"></div><div style=\"display: table-cell;\">visible&nbsp;=&nbsp;True,</div></div><div class=\"1221\" style=\"display: none;\"><div style=\"display: table-cell;\"></div><div style=\"display: table-cell;\">width&nbsp;=&nbsp;None,</div></div><div class=\"1221\" style=\"display: none;\"><div style=\"display: table-cell;\"></div><div style=\"display: table-cell;\">width_policy&nbsp;=&nbsp;'auto',</div></div><div class=\"1221\" style=\"display: none;\"><div style=\"display: table-cell;\"></div><div style=\"display: table-cell;\">x_range&nbsp;=&nbsp;DataRange1d(id='1111', ...),</div></div><div class=\"1221\" style=\"display: none;\"><div style=\"display: table-cell;\"></div><div style=\"display: table-cell;\">x_scale&nbsp;=&nbsp;LinearScale(id='1115', ...),</div></div><div class=\"1221\" style=\"display: none;\"><div style=\"display: table-cell;\"></div><div style=\"display: table-cell;\">y_range&nbsp;=&nbsp;DataRange1d(id='1113', ...),</div></div><div class=\"1221\" style=\"display: none;\"><div style=\"display: table-cell;\"></div><div style=\"display: table-cell;\">y_scale&nbsp;=&nbsp;LinearScale(id='1117', ...))</div></div></div>\n",
       "<script>\n",
       "(function() {\n",
       "  var expanded = false;\n",
       "  var ellipsis = document.getElementById(\"1222\");\n",
       "  ellipsis.addEventListener(\"click\", function() {\n",
       "    var rows = document.getElementsByClassName(\"1221\");\n",
       "    for (var i = 0; i < rows.length; i++) {\n",
       "      var el = rows[i];\n",
       "      el.style.display = expanded ? \"none\" : \"table-row\";\n",
       "    }\n",
       "    ellipsis.innerHTML = expanded ? \"&hellip;)\" : \"&lsaquo;&lsaquo;&lsaquo;\";\n",
       "    expanded = !expanded;\n",
       "  });\n",
       "})();\n",
       "</script>\n"
      ],
      "text/plain": [
       "Figure(id='1110', ...)"
      ]
     },
     "execution_count": 45,
     "metadata": {},
     "output_type": "execute_result"
    }
   ],
   "source": [
    "draw_vectors(word_tsne[:, 0], word_tsne[:, 1], color='green', token=words)"
   ]
  },
  {
   "cell_type": "code",
   "execution_count": 7,
   "metadata": {},
   "outputs": [],
   "source": [
    "tfidf = TfidfVectorizer()\n",
    "tf_bi = CountVectorizer(min_df=5)"
   ]
  },
  {
   "cell_type": "code",
   "execution_count": null,
   "metadata": {},
   "outputs": [],
   "source": [
    "tfidf"
   ]
  },
  {
   "cell_type": "code",
   "execution_count": 57,
   "metadata": {},
   "outputs": [],
   "source": [
    "tf_bi_mat = tf_bi.fit_transform([corpus_en_cleaned.raw(id) for id in corpus_en_cleaned.fileids()])"
   ]
  },
  {
   "cell_type": "code",
   "execution_count": 8,
   "metadata": {},
   "outputs": [],
   "source": [
    "tfidf_mat = tfidf.fit_transform([corpus_cleaned.raw(id) for id in corpus_cleaned.fileids()])"
   ]
  },
  {
   "cell_type": "code",
   "execution_count": 55,
   "metadata": {},
   "outputs": [
    {
     "data": {
      "text/plain": [
       "28476"
      ]
     },
     "execution_count": 55,
     "metadata": {},
     "output_type": "execute_result"
    }
   ],
   "source": [
    "def document_vector(dictionary):\n",
    "    for id in corpus_en_cleaned.fileids():\n",
    "        [word for word in corpus_en_cleaned.word(id) if word in dictionary]"
   ]
  },
  {
   "cell_type": "code",
   "execution_count": 63,
   "metadata": {},
   "outputs": [],
   "source": [
    "tf_bi_pca = PCA(n_components=2).fit_transform(tf_bi_mat.toarray())"
   ]
  },
  {
   "cell_type": "code",
   "execution_count": null,
   "metadata": {},
   "outputs": [],
   "source": [
    "tf_idf_pca = PCA(n_components=2).fit_transform(tfidf_mat.toarray())"
   ]
  },
  {
   "cell_type": "code",
   "execution_count": 71,
   "metadata": {},
   "outputs": [],
   "source": [
    "def draw_scatter(x, colors):\n",
    "    # choose a color palette with seaborn.\n",
    "    num_classes = len(np.unique(colors))\n",
    "    palette = np.array(sns.color_palette(\"hls\", num_classes))\n",
    "\n",
    "    # create a scatter plot.\n",
    "    f = plt.figure(figsize=(8, 8))\n",
    "    ax = plt.subplot(aspect='equal')\n",
    "    sc = ax.scatter(x[:,0], x[:,1], lw=0, s=40, c=palette[colors.astype(np.int)])\n",
    "    plt.xlim(-25, 25)\n",
    "    plt.ylim(-25, 25)\n",
    "    ax.axis('off')\n",
    "    ax.axis('tight')\n",
    "\n",
    "    # add the labels for each digit corresponding to the label\n",
    "    txts = []\n",
    "\n",
    "    for i in range(num_classes):\n",
    "\n",
    "        # Position of each label at median of data points.\n",
    "\n",
    "        xtext, ytext = np.median(x[colors == i, :], axis=0)\n",
    "        txt = ax.text(xtext, ytext, str(i), fontsize=24)\n",
    "        txt.set_path_effects([\n",
    "            PathEffects.Stroke(linewidth=5, foreground=\"w\"),\n",
    "            PathEffects.Normal()])\n",
    "        txts.append(txt)\n",
    "\n",
    "    return f, ax, sc, txts"
   ]
  },
  {
   "cell_type": "code",
   "execution_count": 80,
   "metadata": {},
   "outputs": [
    {
     "data": {
      "text/plain": [
       "((900, 97769), (900, 4))"
      ]
     },
     "execution_count": 80,
     "metadata": {},
     "output_type": "execute_result"
    }
   ],
   "source": [
    "pcaPCA(n_components=4)"
   ]
  },
  {
   "cell_type": "code",
   "execution_count": 82,
   "metadata": {},
   "outputs": [
    {
     "data": {
      "text/plain": [
       "(<Figure size 576x576 with 1 Axes>,\n",
       " <matplotlib.axes._subplots.AxesSubplot at 0x1a2157a898>,\n",
       " <matplotlib.collections.PathCollection at 0x1a21571668>,\n",
       " [Text(-0.0202041,-0.0253856,'0'), Text(-0.0215226,-0.0280636,'1')])"
      ]
     },
     "execution_count": 82,
     "metadata": {},
     "output_type": "execute_result"
    },
    {
     "data": {
      "image/png": "[encoded data removed]",
      "text/plain": [
       "<Figure size 576x576 with 1 Axes>"
      ]
     },
     "metadata": {
      "needs_background": "light"
     },
     "output_type": "display_data"
    }
   ],
   "source": [
    "draw_scatter(tf_idf_pca, df_en['innov_'])"
   ]
  },
  {
   "cell_type": "code",
   "execution_count": 83,
   "metadata": {},
   "outputs": [
    {
     "data": {
      "text/plain": [
       "(<Figure size 576x576 with 1 Axes>,\n",
       " <matplotlib.axes._subplots.AxesSubplot at 0x1a2156c358>,\n",
       " <matplotlib.collections.PathCollection at 0x1a2157d7b8>,\n",
       " [Text(-60.9734,21.9023,'0'), Text(-42.7264,19.3909,'1')])"
      ]
     },
     "execution_count": 83,
     "metadata": {},
     "output_type": "execute_result"
    },
    {
     "data": {
      "image/png": "[encoded data removed]",
      "text/plain": [
       "<Figure size 576x576 with 1 Axes>"
      ]
     },
     "metadata": {
      "needs_background": "light"
     },
     "output_type": "display_data"
    }
   ],
   "source": [
    "draw_scatter(tf_bi_pca, df_en['innov_'])"
   ]
  },
  {
   "cell_type": "code",
   "execution_count": 84,
   "metadata": {},
   "outputs": [],
   "source": [
    "tsne_mat = TSNE(random_state=42).fit_transform(tfidf_mat)"
   ]
  },
  {
   "cell_type": "code",
   "execution_count": 85,
   "metadata": {},
   "outputs": [
    {
     "data": {
      "text/plain": [
       "(<Figure size 576x576 with 1 Axes>,\n",
       " <matplotlib.axes._subplots.AxesSubplot at 0x1a215d0c50>,\n",
       " <matplotlib.collections.PathCollection at 0x1a21575780>,\n",
       " [Text(0.320939,-2.41855,'0'), Text(0.959032,1.08174,'1')])"
      ]
     },
     "execution_count": 85,
     "metadata": {},
     "output_type": "execute_result"
    },
    {
     "data": {
      "image/png": "[encoded data removed]",
      "text/plain": [
       "<Figure size 576x576 with 1 Axes>"
      ]
     },
     "metadata": {
      "needs_background": "light"
     },
     "output_type": "display_data"
    }
   ],
   "source": [
    "draw_scatter(tsne_mat, df_en['innov_'])"
   ]
  },
  {
   "cell_type": "code",
   "execution_count": 87,
   "metadata": {},
   "outputs": [],
   "source": [
    "from gensim.models import doc2vec\n",
    "\n",
    "def label_sentences(corpus, label_type):\n",
    "    \"\"\"\n",
    "    Gensim's Doc2Vec implementation requires each document/paragraph to have a label associated with it.\n",
    "    We do this by using the TaggedDocument method. The format will be \"TRAIN_i\" or \"TEST_i\" where \"i\" is\n",
    "    a dummy index of the complaint narrative.\n",
    "    \"\"\"\n",
    "    labeled = []\n",
    "    for i, v in enumerate(corpus):\n",
    "        label = label_type + '_' + str(i)\n",
    "        labeled.append(doc2vec.TaggedDocument(v.split(), [label]))\n",
    "    return labeled"
   ]
  },
  {
   "cell_type": "code",
   "execution_count": 89,
   "metadata": {},
   "outputs": [
    {
     "data": {
      "text/html": [
       "<div>\n",
       "<style scoped>\n",
       "    .dataframe tbody tr th:only-of-type {\n",
       "        vertical-align: middle;\n",
       "    }\n",
       "\n",
       "    .dataframe tbody tr th {\n",
       "        vertical-align: top;\n",
       "    }\n",
       "\n",
       "    .dataframe thead th {\n",
       "        text-align: right;\n",
       "    }\n",
       "</style>\n",
       "<table border=\"1\" class=\"dataframe\">\n",
       "  <thead>\n",
       "    <tr style=\"text-align: right;\">\n",
       "      <th></th>\n",
       "      <th>id</th>\n",
       "      <th>lang</th>\n",
       "      <th>innov</th>\n",
       "      <th>innov_</th>\n",
       "    </tr>\n",
       "  </thead>\n",
       "  <tbody>\n",
       "    <tr>\n",
       "      <th>0</th>\n",
       "      <td>en/innov/10000232.txt</td>\n",
       "      <td>en</td>\n",
       "      <td>innov</td>\n",
       "      <td>1</td>\n",
       "    </tr>\n",
       "    <tr>\n",
       "      <th>1</th>\n",
       "      <td>en/innov/10000364.txt</td>\n",
       "      <td>en</td>\n",
       "      <td>innov</td>\n",
       "      <td>1</td>\n",
       "    </tr>\n",
       "    <tr>\n",
       "      <th>2</th>\n",
       "      <td>en/innov/10010653.txt</td>\n",
       "      <td>en</td>\n",
       "      <td>innov</td>\n",
       "      <td>1</td>\n",
       "    </tr>\n",
       "    <tr>\n",
       "      <th>3</th>\n",
       "      <td>en/innov/10013385.txt</td>\n",
       "      <td>en</td>\n",
       "      <td>innov</td>\n",
       "      <td>1</td>\n",
       "    </tr>\n",
       "    <tr>\n",
       "      <th>4</th>\n",
       "      <td>en/innov/10025316.txt</td>\n",
       "      <td>en</td>\n",
       "      <td>innov</td>\n",
       "      <td>1</td>\n",
       "    </tr>\n",
       "    <tr>\n",
       "      <th>...</th>\n",
       "      <td>...</td>\n",
       "      <td>...</td>\n",
       "      <td>...</td>\n",
       "      <td>...</td>\n",
       "    </tr>\n",
       "    <tr>\n",
       "      <th>895</th>\n",
       "      <td>en/others/73077070.txt</td>\n",
       "      <td>en</td>\n",
       "      <td>others</td>\n",
       "      <td>0</td>\n",
       "    </tr>\n",
       "    <tr>\n",
       "      <th>896</th>\n",
       "      <td>en/others/73574864.txt</td>\n",
       "      <td>en</td>\n",
       "      <td>others</td>\n",
       "      <td>0</td>\n",
       "    </tr>\n",
       "    <tr>\n",
       "      <th>897</th>\n",
       "      <td>en/others/73893048.txt</td>\n",
       "      <td>en</td>\n",
       "      <td>others</td>\n",
       "      <td>0</td>\n",
       "    </tr>\n",
       "    <tr>\n",
       "      <th>898</th>\n",
       "      <td>en/others/74266195.txt</td>\n",
       "      <td>en</td>\n",
       "      <td>others</td>\n",
       "      <td>0</td>\n",
       "    </tr>\n",
       "    <tr>\n",
       "      <th>899</th>\n",
       "      <td>en/others/74429388.txt</td>\n",
       "      <td>en</td>\n",
       "      <td>others</td>\n",
       "      <td>0</td>\n",
       "    </tr>\n",
       "  </tbody>\n",
       "</table>\n",
       "<p>900 rows × 4 columns</p>\n",
       "</div>"
      ],
      "text/plain": [
       "                         id lang   innov  innov_\n",
       "0     en/innov/10000232.txt   en   innov       1\n",
       "1     en/innov/10000364.txt   en   innov       1\n",
       "2     en/innov/10010653.txt   en   innov       1\n",
       "3     en/innov/10013385.txt   en   innov       1\n",
       "4     en/innov/10025316.txt   en   innov       1\n",
       "..                      ...  ...     ...     ...\n",
       "895  en/others/73077070.txt   en  others       0\n",
       "896  en/others/73574864.txt   en  others       0\n",
       "897  en/others/73893048.txt   en  others       0\n",
       "898  en/others/74266195.txt   en  others       0\n",
       "899  en/others/74429388.txt   en  others       0\n",
       "\n",
       "[900 rows x 4 columns]"
      ]
     },
     "execution_count": 89,
     "metadata": {},
     "output_type": "execute_result"
    }
   ],
   "source": [
    "df_en"
   ]
  },
  {
   "cell_type": "code",
   "execution_count": 90,
   "metadata": {},
   "outputs": [],
   "source": [
    "X_train, X_test, y_train, y_test = train_test_split([corpus_cleaned.raw(id) for id in df_en['id']], df_en['innov'], random_state=42, test_size=0.1)\n",
    "X_train = label_sentences(X_train, 'Train')\n",
    "X_test = label_sentences(X_test, 'Test')\n",
    "all_data = X_train + X_test"
   ]
  },
  {
   "cell_type": "markdown",
   "metadata": {},
   "source": [
    "# dbow"
   ]
  },
  {
   "cell_type": "code",
   "execution_count": 96,
   "metadata": {},
   "outputs": [
    {
     "name": "stderr",
     "output_type": "stream",
     "text": [
      "100%|██████████| 900/900 [00:00<00:00, 619847.88it/s]\n"
     ]
    }
   ],
   "source": [
    "model_dbow = Doc2Vec(dm=0, vector_size=300, negative=5, min_count=1, alpha=0.065, min_alpha=0.065)\n",
    "model_dbow.build_vocab([x for x in tqdm(all_data)])"
   ]
  },
  {
   "cell_type": "code",
   "execution_count": 97,
   "metadata": {},
   "outputs": [
    {
     "name": "stderr",
     "output_type": "stream",
     "text": [
      "100%|██████████| 900/900 [00:00<00:00, 442644.65it/s]\n",
      "100%|██████████| 900/900 [00:00<00:00, 1711184.77it/s]\n",
      "100%|██████████| 900/900 [00:00<00:00, 1475136.23it/s]\n",
      "100%|██████████| 900/900 [00:00<00:00, 315097.96it/s]\n",
      "100%|██████████| 900/900 [00:00<00:00, 618223.65it/s]\n",
      "100%|██████████| 900/900 [00:00<00:00, 1019134.34it/s]\n",
      "100%|██████████| 900/900 [00:00<00:00, 1500943.78it/s]\n",
      "100%|██████████| 900/900 [00:00<00:00, 1026059.69it/s]\n",
      "100%|██████████| 900/900 [00:00<00:00, 1465970.33it/s]\n",
      "100%|██████████| 900/900 [00:00<00:00, 1548983.83it/s]\n",
      "100%|██████████| 900/900 [00:00<00:00, 1743590.58it/s]\n",
      "100%|██████████| 900/900 [00:00<00:00, 1096390.82it/s]\n",
      "100%|██████████| 900/900 [00:00<00:00, 1386801.47it/s]\n",
      "100%|██████████| 900/900 [00:00<00:00, 1037908.61it/s]\n",
      "100%|██████████| 900/900 [00:00<00:00, 1475136.23it/s]\n",
      "100%|██████████| 900/900 [00:00<00:00, 969905.86it/s]\n",
      "100%|██████████| 900/900 [00:00<00:00, 625393.24it/s]\n",
      "100%|██████████| 900/900 [00:00<00:00, 845057.89it/s]\n",
      "100%|██████████| 900/900 [00:00<00:00, 1570900.37it/s]\n",
      "100%|██████████| 900/900 [00:00<00:00, 1527670.42it/s]\n",
      "100%|██████████| 900/900 [00:00<00:00, 1410640.36it/s]\n",
      "100%|██████████| 900/900 [00:00<00:00, 821875.38it/s]\n",
      "100%|██████████| 900/900 [00:00<00:00, 300403.76it/s]\n",
      "100%|██████████| 900/900 [00:00<00:00, 1333406.43it/s]\n",
      "100%|██████████| 900/900 [00:00<00:00, 1386801.47it/s]\n",
      "100%|██████████| 900/900 [00:00<00:00, 956632.94it/s]\n",
      "100%|██████████| 900/900 [00:00<00:00, 1283534.04it/s]\n",
      "100%|██████████| 900/900 [00:00<00:00, 865598.17it/s]\n",
      "100%|██████████| 900/900 [00:00<00:00, 1076382.55it/s]\n",
      "100%|██████████| 900/900 [00:00<00:00, 1497965.71it/s]\n"
     ]
    },
    {
     "name": "stdout",
     "output_type": "stream",
     "text": [
      "CPU times: user 6min 5s, sys: 2.9 s, total: 6min 8s\n",
      "Wall time: 2min 20s\n"
     ]
    }
   ],
   "source": [
    "%%time\n",
    "for epoch in range(30):\n",
    "    model_dbow.train(utils.shuffle([x for x in tqdm(all_data)]), total_examples=len(all_data), epochs=1)\n",
    "    model_dbow.alpha -= 0.002\n",
    "    model_dbow.min_alpha = model_dbow.alpha"
   ]
  },
  {
   "cell_type": "code",
   "execution_count": 98,
   "metadata": {},
   "outputs": [],
   "source": [
    "\n",
    "def get_vectors(model, corpus_size, vectors_size, vectors_type):\n",
    "    \"\"\"\n",
    "    Get vectors from trained doc2vec model\n",
    "    :param doc2vec_model: Trained Doc2Vec model\n",
    "    :param corpus_size: Size of the data\n",
    "    :param vectors_size: Size of the embedding vectors\n",
    "    :param vectors_type: Training or Testing vectors\n",
    "    :return: list of vectors\n",
    "    \"\"\"\n",
    "    vectors = np.zeros((corpus_size, vectors_size))\n",
    "    for i in range(0, corpus_size):\n",
    "        prefix = vectors_type + '_' + str(i)\n",
    "        vectors[i] = model.docvecs[prefix]\n",
    "    return vectors"
   ]
  },
  {
   "cell_type": "code",
   "execution_count": 99,
   "metadata": {},
   "outputs": [],
   "source": [
    "train_vectors_dbow = get_vectors(model_dbow, len(X_train), 300, 'Train')\n",
    "test_vectors_dbow = get_vectors(model_dbow, len(X_test), 300, 'Test')"
   ]
  },
  {
   "cell_type": "code",
   "execution_count": 104,
   "metadata": {},
   "outputs": [
    {
     "data": {
      "text/plain": [
       "LogisticRegression(C=1.0, class_weight=None, dual=False, fit_intercept=True,\n",
       "                   intercept_scaling=1, l1_ratio=None, max_iter=100,\n",
       "                   multi_class='multinomial', n_jobs=None, penalty='l2',\n",
       "                   random_state=None, solver='lbfgs', tol=0.0001, verbose=0,\n",
       "                   warm_start=False)"
      ]
     },
     "execution_count": 104,
     "metadata": {},
     "output_type": "execute_result"
    }
   ],
   "source": [
    "logreg = LogisticRegression(multi_class='multinomial', solver = 'lbfgs')\n",
    "logreg.fit(train_vectors_dbow, y_train)"
   ]
  },
  {
   "cell_type": "code",
   "execution_count": 105,
   "metadata": {},
   "outputs": [
    {
     "data": {
      "text/plain": [
       "0.5666666666666667"
      ]
     },
     "execution_count": 105,
     "metadata": {},
     "output_type": "execute_result"
    }
   ],
   "source": [
    "logreg.score(test_vectors_dbow, y_test)"
   ]
  },
  {
   "cell_type": "code",
   "execution_count": 106,
   "metadata": {},
   "outputs": [],
   "source": [
    "model_dbow.save('d2v_model_dbow.doc2vec')"
   ]
  },
  {
   "cell_type": "markdown",
   "metadata": {},
   "source": [
    "# dm"
   ]
  },
  {
   "cell_type": "code",
   "execution_count": 107,
   "metadata": {},
   "outputs": [
    {
     "name": "stderr",
     "output_type": "stream",
     "text": [
      "100%|██████████| 900/900 [00:00<00:00, 365251.44it/s]\n"
     ]
    }
   ],
   "source": [
    "model_dm = Doc2Vec(dm=1, dm_mean=1, vector_size=300, window=10, negative=5, min_count=1, workers=5, alpha=0.065, min_alpha=0.065)\n",
    "model_dm.build_vocab([x for x in tqdm(all_data)])"
   ]
  },
  {
   "cell_type": "code",
   "execution_count": 108,
   "metadata": {},
   "outputs": [
    {
     "name": "stderr",
     "output_type": "stream",
     "text": [
      "100%|██████████| 900/900 [00:00<00:00, 193593.19it/s]\n",
      "100%|██████████| 900/900 [00:00<00:00, 1621509.28it/s]\n",
      "100%|██████████| 900/900 [00:00<00:00, 695572.80it/s]\n",
      "100%|██████████| 900/900 [00:00<00:00, 989222.64it/s]\n",
      "100%|██████████| 900/900 [00:00<00:00, 1016937.93it/s]\n",
      "100%|██████████| 900/900 [00:00<00:00, 968164.56it/s]\n",
      "100%|██████████| 900/900 [00:00<00:00, 1302578.88it/s]\n",
      "100%|██████████| 900/900 [00:00<00:00, 1219274.42it/s]\n",
      "100%|██████████| 900/900 [00:00<00:00, 1053845.23it/s]\n",
      "100%|██████████| 900/900 [00:00<00:00, 1520287.39it/s]\n",
      "100%|██████████| 900/900 [00:00<00:00, 1056204.14it/s]\n",
      "100%|██████████| 900/900 [00:00<00:00, 1570900.37it/s]\n",
      "100%|██████████| 900/900 [00:00<00:00, 1455793.91it/s]\n",
      "100%|██████████| 900/900 [00:00<00:00, 903512.11it/s]\n",
      "100%|██████████| 900/900 [00:00<00:00, 1164365.70it/s]\n",
      "100%|██████████| 900/900 [00:00<00:00, 1007707.85it/s]\n",
      "100%|██████████| 900/900 [00:00<00:00, 990260.65it/s]\n",
      "100%|██████████| 900/900 [00:00<00:00, 1548983.83it/s]\n",
      "100%|██████████| 900/900 [00:00<00:00, 1011217.14it/s]\n",
      "100%|██████████| 900/900 [00:00<00:00, 824928.67it/s]\n",
      "100%|██████████| 900/900 [00:00<00:00, 855592.38it/s]\n",
      "100%|██████████| 900/900 [00:00<00:00, 1458606.49it/s]\n",
      "100%|██████████| 900/900 [00:00<00:00, 1096072.47it/s]\n",
      "100%|██████████| 900/900 [00:00<00:00, 1018034.95it/s]\n",
      "100%|██████████| 900/900 [00:00<00:00, 784797.01it/s]\n",
      "100%|██████████| 900/900 [00:00<00:00, 1028575.91it/s]\n",
      "100%|██████████| 900/900 [00:00<00:00, 814603.71it/s]\n",
      "100%|██████████| 900/900 [00:00<00:00, 551156.90it/s]\n",
      "100%|██████████| 900/900 [00:00<00:00, 815131.42it/s]\n",
      "100%|██████████| 900/900 [00:00<00:00, 754823.76it/s]\n"
     ]
    },
    {
     "name": "stdout",
     "output_type": "stream",
     "text": [
      "CPU times: user 10min 25s, sys: 5.73 s, total: 10min 30s\n",
      "Wall time: 3min 31s\n"
     ]
    }
   ],
   "source": [
    "%%time\n",
    "for epoch in range(30):\n",
    "    model_dm.train(utils.shuffle([x for x in tqdm(all_data)]), total_examples=len(all_data), epochs=1)\n",
    "    model_dm.alpha -= 0.002\n",
    "    model_dm.min_alpha = model_dm.alpha"
   ]
  },
  {
   "cell_type": "code",
   "execution_count": 109,
   "metadata": {},
   "outputs": [],
   "source": [
    "train_vectors_dm = get_vectors(model_dm, len(X_train), 300, 'Train')\n",
    "test_vectors_dm = get_vectors(model_dm, len(X_test), 300, 'Test')"
   ]
  },
  {
   "cell_type": "code",
   "execution_count": 110,
   "metadata": {},
   "outputs": [
    {
     "name": "stderr",
     "output_type": "stream",
     "text": [
      "/Users/septem/anaconda3/lib/python3.6/site-packages/sklearn/linear_model/_logistic.py:939: ConvergenceWarning: lbfgs failed to converge (status=1):\n",
      "STOP: TOTAL NO. of ITERATIONS REACHED LIMIT.\n",
      "\n",
      "Increase the number of iterations (max_iter) or scale the data as shown in:\n",
      "    https://scikit-learn.org/stable/modules/preprocessing.html.\n",
      "Please also refer to the documentation for alternative solver options:\n",
      "    https://scikit-learn.org/stable/modules/linear_model.html#logistic-regression\n",
      "  extra_warning_msg=_LOGISTIC_SOLVER_CONVERGENCE_MSG)\n"
     ]
    },
    {
     "data": {
      "text/plain": [
       "LogisticRegression(C=1.0, class_weight=None, dual=False, fit_intercept=True,\n",
       "                   intercept_scaling=1, l1_ratio=None, max_iter=100,\n",
       "                   multi_class='multinomial', n_jobs=None, penalty='l2',\n",
       "                   random_state=None, solver='lbfgs', tol=0.0001, verbose=0,\n",
       "                   warm_start=False)"
      ]
     },
     "execution_count": 110,
     "metadata": {},
     "output_type": "execute_result"
    }
   ],
   "source": [
    "logreg.fit(train_vectors_dm, y_train)"
   ]
  },
  {
   "cell_type": "code",
   "execution_count": 111,
   "metadata": {},
   "outputs": [
    {
     "data": {
      "text/plain": [
       "0.6333333333333333"
      ]
     },
     "execution_count": 111,
     "metadata": {},
     "output_type": "execute_result"
    }
   ],
   "source": [
    "logreg.score(test_vectors_dm, y_test)"
   ]
  },
  {
   "cell_type": "code",
   "execution_count": 112,
   "metadata": {},
   "outputs": [],
   "source": [
    "model_dm.save('d2v_model_dm.doc2vec')"
   ]
  },
  {
   "cell_type": "code",
   "execution_count": 113,
   "metadata": {},
   "outputs": [],
   "source": [
    "model_dbow.delete_temporary_training_data(keep_doctags_vectors=True, keep_inference=True)\n",
    "model_dm.delete_temporary_training_data(keep_doctags_vectors=True, keep_inference=True)"
   ]
  },
  {
   "cell_type": "code",
   "execution_count": 114,
   "metadata": {},
   "outputs": [],
   "source": [
    "def get_concat_vectors(model1,model2, corpus_size, vectors_size, vectors_type):\n",
    "    vectors = np.zeros((corpus_size, vectors_size))\n",
    "    for i in range(0, corpus_size):\n",
    "        prefix = vectors_type + '_' + str(i)\n",
    "        vectors[i] = np.append(model1.docvecs[prefix],model2.docvecs[prefix])\n",
    "    return vectors"
   ]
  },
  {
   "cell_type": "code",
   "execution_count": 115,
   "metadata": {},
   "outputs": [],
   "source": [
    "train_vecs_dbow_dm = get_concat_vectors(model_dbow,model_dm, len(X_train), 600, 'Train')\n",
    "test_vecs_dbow_dm = get_concat_vectors(model_dbow,model_dm, len(X_test), 600, 'Test')"
   ]
  },
  {
   "cell_type": "code",
   "execution_count": 116,
   "metadata": {},
   "outputs": [
    {
     "name": "stdout",
     "output_type": "stream",
     "text": [
      "CPU times: user 259 ms, sys: 10.1 ms, total: 269 ms\n",
      "Wall time: 168 ms\n"
     ]
    },
    {
     "name": "stderr",
     "output_type": "stream",
     "text": [
      "/Users/septem/anaconda3/lib/python3.6/site-packages/sklearn/linear_model/_logistic.py:939: ConvergenceWarning: lbfgs failed to converge (status=1):\n",
      "STOP: TOTAL NO. of ITERATIONS REACHED LIMIT.\n",
      "\n",
      "Increase the number of iterations (max_iter) or scale the data as shown in:\n",
      "    https://scikit-learn.org/stable/modules/preprocessing.html.\n",
      "Please also refer to the documentation for alternative solver options:\n",
      "    https://scikit-learn.org/stable/modules/linear_model.html#logistic-regression\n",
      "  extra_warning_msg=_LOGISTIC_SOLVER_CONVERGENCE_MSG)\n"
     ]
    },
    {
     "data": {
      "text/plain": [
       "LogisticRegression(C=1.0, class_weight=None, dual=False, fit_intercept=True,\n",
       "                   intercept_scaling=1, l1_ratio=None, max_iter=100,\n",
       "                   multi_class='auto', n_jobs=None, penalty='l2',\n",
       "                   random_state=None, solver='lbfgs', tol=0.0001, verbose=0,\n",
       "                   warm_start=False)"
      ]
     },
     "execution_count": 116,
     "metadata": {},
     "output_type": "execute_result"
    }
   ],
   "source": [
    "%%time\n",
    "logreg = LogisticRegression()\n",
    "logreg.fit(train_vecs_dbow_dm, y_train)"
   ]
  },
  {
   "cell_type": "code",
   "execution_count": 117,
   "metadata": {},
   "outputs": [
    {
     "data": {
      "text/plain": [
       "0.5666666666666667"
      ]
     },
     "execution_count": 117,
     "metadata": {},
     "output_type": "execute_result"
    }
   ],
   "source": [
    "logreg.score(test_vecs_dbow_dm, y_test)"
   ]
  },
  {
   "cell_type": "code",
   "execution_count": 144,
   "metadata": {},
   "outputs": [],
   "source": [
    "from sklearn.feature_selection import f_classif\n",
    "from sklearn.feature_selection import SelectKBest\n",
    "#use anova f score to select the feature\n",
    "NGRAM_RANGE = (1, 1)\n",
    "TOP_K = 20000\n",
    "TOKEN_MODE = 'word'\n",
    "MIN_DOC_FREQ = 2\n",
    "MAX_DOC_FREQ = 0.95\n",
    "def vectorize(train_texts, train_labels, test_texts, use_selector=True, score_function = f_classif):\n",
    "    kwargs = {\n",
    "        'ngram_range' : NGRAM_RANGE,\n",
    "        'dtype' : 'int32',\n",
    "        'strip_accents' : 'unicode',\n",
    "        'decode_error' : 'replace',\n",
    "        'analyzer' : TOKEN_MODE,\n",
    "        'min_df' : MIN_DOC_FREQ,\n",
    "        'max_df' : MAX_DOC_FREQ\n",
    "    }\n",
    "\n",
    "    # Learn Vocab from train texts and vectorize train and val sets\n",
    "    tfidf_vectorizer = TfidfVectorizer(tokenizer=None, **kwargs)\n",
    "    x_train = tfidf_vectorizer.fit_transform(train_texts)\n",
    "    x_test = tfidf_vectorizer.transform(test_texts)\n",
    "\n",
    "    # Select best k features, with feature importance measured by f_classif\n",
    "    if use_selector:\n",
    "        selector = SelectKBest(score_function, k=min(TOP_K, x_train.shape[1]))\n",
    "        selector.fit(x_train, train_labels)\n",
    "        x_train = selector.transform(x_train).astype('float32')\n",
    "        x_test = selector.transform(x_test).astype('float32')\n",
    "#         scores = pd.DataFrame(list(zip(vectorizer.get_feature_names(), selector.scores_, selector.pvalues_)), \n",
    "#                                        columns=['ftr', 'score', 'pval'])\n",
    "    return x_train, x_test, tfidf_vectorizer, selector if use_selector else None\n",
    "    "
   ]
  },
  {
   "cell_type": "code",
   "execution_count": 145,
   "metadata": {},
   "outputs": [
    {
     "name": "stderr",
     "output_type": "stream",
     "text": [
      "/Users/septem/anaconda3/lib/python3.6/site-packages/sklearn/feature_extraction/text.py:1813: UserWarning: Only (<class 'numpy.float64'>, <class 'numpy.float32'>, <class 'numpy.float16'>) 'dtype' should be used. int32 'dtype' will be converted to np.float64.\n",
      "  UserWarning)\n"
     ]
    }
   ],
   "source": [
    "x_train_tfidf, x_test_tfidf, tfidf_vec, selector = vectorize([' '.join(d.words) for d in X_train], y_train, \n",
    "                                                             [' '.join(d.words) for d in X_test])"
   ]
  },
  {
   "cell_type": "code",
   "execution_count": 156,
   "metadata": {},
   "outputs": [],
   "source": [
    "x_comb_train = hstack((x_train_tfidf, train_vectors_dm))"
   ]
  },
  {
   "cell_type": "code",
   "execution_count": 157,
   "metadata": {},
   "outputs": [],
   "source": [
    "x_comb_test = hstack((x_test_tfidf, test_vectors_dm))"
   ]
  },
  {
   "cell_type": "code",
   "execution_count": 158,
   "metadata": {},
   "outputs": [
    {
     "data": {
      "text/plain": [
       "((810, 20300), (90, 20300))"
      ]
     },
     "execution_count": 158,
     "metadata": {},
     "output_type": "execute_result"
    }
   ],
   "source": [
    "x_comb_train.shape, x_comb_test.shape"
   ]
  },
  {
   "cell_type": "code",
   "execution_count": 185,
   "metadata": {},
   "outputs": [],
   "source": [
    "def train(x_train,y_train,x_test,y_test):\n",
    "#     lg = LogisticRegression(solver='liblinear', C=1, penalty='l2',max_iter=1000)\n",
    "#     lg = LogisticRegression()\n",
    "    lg = LogisticRegression(n_jobs=-1, max_iter= 100, C= 5)\n",
    "    lg.fit(x_train, y_train)\n",
    "    print(classification_report(y_test, lg.predict(x_test),target_names=['others','innov']))"
   ]
  },
  {
   "cell_type": "code",
   "execution_count": 186,
   "metadata": {},
   "outputs": [
    {
     "name": "stdout",
     "output_type": "stream",
     "text": [
      "tfidf\n",
      "              precision    recall  f1-score   support\n",
      "\n",
      "      others       0.75      0.93      0.83        67\n",
      "       innov       0.29      0.09      0.13        23\n",
      "\n",
      "    accuracy                           0.71        90\n",
      "   macro avg       0.52      0.51      0.48        90\n",
      "weighted avg       0.63      0.71      0.65        90\n",
      "\n",
      "dbow\n",
      "              precision    recall  f1-score   support\n",
      "\n",
      "      others       0.78      0.60      0.68        67\n",
      "       innov       0.31      0.52      0.39        23\n",
      "\n",
      "    accuracy                           0.58        90\n",
      "   macro avg       0.55      0.56      0.53        90\n",
      "weighted avg       0.66      0.58      0.60        90\n",
      "\n",
      "dm\n",
      "              precision    recall  f1-score   support\n",
      "\n",
      "      others       0.74      0.78      0.76        67\n",
      "       innov       0.25      0.22      0.23        23\n",
      "\n",
      "    accuracy                           0.63        90\n",
      "   macro avg       0.50      0.50      0.50        90\n",
      "weighted avg       0.62      0.63      0.62        90\n",
      "\n",
      "dbow_dm\n",
      "              precision    recall  f1-score   support\n",
      "\n",
      "      others       0.75      0.67      0.71        67\n",
      "       innov       0.27      0.35      0.30        23\n",
      "\n",
      "    accuracy                           0.59        90\n",
      "   macro avg       0.51      0.51      0.51        90\n",
      "weighted avg       0.63      0.59      0.60        90\n",
      "\n",
      "tfidf_dm\n",
      "              precision    recall  f1-score   support\n",
      "\n",
      "      others       0.76      0.76      0.76        67\n",
      "       innov       0.30      0.30      0.30        23\n",
      "\n",
      "    accuracy                           0.64        90\n",
      "   macro avg       0.53      0.53      0.53        90\n",
      "weighted avg       0.64      0.64      0.64        90\n",
      "\n",
      "tfidf_dm\n",
      "              precision    recall  f1-score   support\n",
      "\n",
      "      others       0.80      0.60      0.68        67\n",
      "       innov       0.33      0.57      0.41        23\n",
      "\n",
      "    accuracy                           0.59        90\n",
      "   macro avg       0.56      0.58      0.55        90\n",
      "weighted avg       0.68      0.59      0.61        90\n",
      "\n"
     ]
    }
   ],
   "source": [
    "print('tfidf')\n",
    "train(x_train_tfidf, y_train, x_test_tfidf, y_test)\n",
    "print('dbow')\n",
    "train(train_vectors_dbow, y_train, test_vectors_dbow, y_test)\n",
    "print('dm')\n",
    "train(train_vectors_dm, y_train, test_vectors_dm, y_test)\n",
    "print('dbow_dm')\n",
    "train(train_vecs_dbow_dm, y_train, test_vecs_dbow_dm, y_test)\n",
    "print('tfidf_dm')\n",
    "train(x_comb_train, y_train, x_comb_test, y_test)\n",
    "print('tfidf_dm')\n",
    "x_tfidf_dbow_train = hstack((x_train_tfidf, train_vectors_dbow))\n",
    "x_tfidf_dbow_test  = hstack((x_test_tfidf, test_vectors_dbow))\n",
    "train(x_tfidf_dbow_train, y_train, x_tfidf_dbow_test, y_test)"
   ]
  },
  {
   "cell_type": "code",
   "execution_count": 192,
   "metadata": {},
   "outputs": [
    {
     "data": {
      "text/plain": [
       "28476"
      ]
     },
     "execution_count": 192,
     "metadata": {},
     "output_type": "execute_result"
    }
   ],
   "source": [
    "len(model.vocab.keys())"
   ]
  },
  {
   "cell_type": "code",
   "execution_count": null,
   "metadata": {},
   "outputs": [],
   "source": [
    "df_nl = corpus_to_df(corpus_cleaned, language= 'nl')\n",
    "x_train_tfidf, x_test_tfidf, tfidf_vec, selector = vectorize([' '.join(d.words) for d in X_train], y_train, \n",
    "                                                             [' '.join(d.words) for d in X_test])"
   ]
  },
  {
   "cell_type": "code",
   "execution_count": 21,
   "metadata": {},
   "outputs": [],
   "source": [
    "count_vec = CountVectorizer(max_df=0.8, min_df=4, binary=True)\n",
    "tfidf = TfidfVectorizer(max_df = 0.75, min_df = 4)"
   ]
  },
  {
   "cell_type": "code",
   "execution_count": 22,
   "metadata": {},
   "outputs": [],
   "source": [
    "text_train, text_test, y_train, y_test = split_data(corpus_cleaned)\n",
    "x_train = tfidf.fit_transform(text_train)\n",
    "x_test = tfidf.transform(text_test)"
   ]
  },
  {
   "cell_type": "code",
   "execution_count": 23,
   "metadata": {},
   "outputs": [
    {
     "data": {
      "text/plain": [
       "(4337, 71430)"
      ]
     },
     "execution_count": 23,
     "metadata": {},
     "output_type": "execute_result"
    }
   ],
   "source": [
    "x_trainain.shape"
   ]
  },
  {
   "cell_type": "code",
   "execution_count": 24,
   "metadata": {},
   "outputs": [],
   "source": [
    "svd = TruncatedSVD(n_components=2000)\n",
    "x_train = svd.fit_transform(x_train)\n",
    "x_test = svd.transform(x_test)"
   ]
  },
  {
   "cell_type": "code",
   "execution_count": 25,
   "metadata": {},
   "outputs": [
    {
     "data": {
      "text/plain": [
       "(4337, 2000)"
      ]
     },
     "execution_count": 25,
     "metadata": {},
     "output_type": "execute_result"
    }
   ],
   "source": [
    "x_train.shape"
   ]
  },
  {
   "cell_type": "code",
   "execution_count": 26,
   "metadata": {},
   "outputs": [],
   "source": [
    "model = Sequential()\n",
    "model.add(layers.Dense(10, input_dim = x_train.shape[1], activation = 'relu'))\n",
    "model.add(layers.Dense(1, activation='sigmoid'))"
   ]
  },
  {
   "cell_type": "code",
   "execution_count": 27,
   "metadata": {},
   "outputs": [],
   "source": [
    "model.compile(loss = 'binary_crossentropy', optimizer= 'adam', metrics=['accuracy'])"
   ]
  },
  {
   "cell_type": "code",
   "execution_count": 28,
   "metadata": {},
   "outputs": [
    {
     "name": "stdout",
     "output_type": "stream",
     "text": [
      "_________________________________________________________________\n",
      "Layer (type)                 Output Shape              Param #   \n",
      "=================================================================\n",
      "dense_1 (Dense)              (None, 10)                20010     \n",
      "_________________________________________________________________\n",
      "dense_2 (Dense)              (None, 1)                 11        \n",
      "=================================================================\n",
      "Total params: 20,021\n",
      "Trainable params: 20,021\n",
      "Non-trainable params: 0\n",
      "_________________________________________________________________\n"
     ]
    }
   ],
   "source": [
    "model.summary()"
   ]
  },
  {
   "cell_type": "code",
   "execution_count": 31,
   "metadata": {},
   "outputs": [],
   "source": [
    "history = model.fit(x_train, \n",
    "                    y_train,epochs=100, \n",
    "                    verbose=False, \n",
    "                    validation_data=(x_test, y_test), \n",
    "                    batch_size=10)"
   ]
  },
  {
   "cell_type": "code",
   "execution_count": 33,
   "metadata": {},
   "outputs": [
    {
     "name": "stdout",
     "output_type": "stream",
     "text": [
      "Training Accuracy: 0.9786\n",
      "Testing Accuracy:  0.5975\n"
     ]
    }
   ],
   "source": [
    "loss, accuracy = model.evaluate(x_train, y_train, verbose=False)\n",
    "print(\"Training Accuracy: {:.4f}\".format(accuracy))\n",
    "loss, accuracy = model.evaluate(x_test, y_test, verbose=False)\n",
    "print(\"Testing Accuracy:  {:.4f}\".format(accuracy))"
   ]
  },
  {
   "cell_type": "code",
   "execution_count": 34,
   "metadata": {},
   "outputs": [],
   "source": [
    "plt.style.use('ggplot')\n",
    "\n",
    "def plot_history(history):\n",
    "    acc = history.history['acc']\n",
    "    val_acc = history.history['val_acc']\n",
    "    loss = history.history['loss']\n",
    "    val_loss = history.history['val_loss']\n",
    "    x = range(1, len(acc) + 1)\n",
    "\n",
    "    plt.figure(figsize=(12, 5))\n",
    "    plt.subplot(1, 2, 1)\n",
    "    plt.plot(x, acc, 'b', label='Training acc')\n",
    "    plt.plot(x, val_acc, 'r', label='Validation acc')\n",
    "    plt.title('Training and validation accuracy')\n",
    "    plt.legend()\n",
    "    plt.subplot(1, 2, 2)\n",
    "    plt.plot(x, loss, 'b', label='Training loss')\n",
    "    plt.plot(x, val_loss, 'r', label='Validation loss')\n",
    "    plt.title('Training and validation loss')\n",
    "    plt.legend()"
   ]
  },
  {
   "cell_type": "code",
   "execution_count": 35,
   "metadata": {},
   "outputs": [
    {
     "data": {
      "image/png": "[encoded data removed]",
      "text/plain": [
       "<Figure size 864x360 with 2 Axes>"
      ]
     },
     "metadata": {},
     "output_type": "display_data"
    }
   ],
   "source": [
    "plot_history(history)"
   ]
  },
  {
   "cell_type": "code",
   "execution_count": 36,
   "metadata": {},
   "outputs": [],
   "source": [
    "from keras.preprocessing.text import Tokenizer"
   ]
  },
  {
   "cell_type": "code",
   "execution_count": 61,
   "metadata": {},
   "outputs": [],
   "source": [
    "corpus_en_raw, corpus_nl_raw, corpus_raw = read_corpus('/Users/septem/Downloads/companies2')\n",
    "text_train, text_test, y_train, y_test = split_data(corpus_raw)"
   ]
  },
  {
   "cell_type": "code",
   "execution_count": 62,
   "metadata": {},
   "outputs": [],
   "source": [
    "text_train = list(text_train)\n",
    "text_test = list(text_test)"
   ]
  },
  {
   "cell_type": "code",
   "execution_count": 73,
   "metadata": {},
   "outputs": [],
   "source": [
    "from keras.preprocessing.sequence import pad_sequences"
   ]
  },
  {
   "cell_type": "code",
   "execution_count": 74,
   "metadata": {},
   "outputs": [],
   "source": [
    "maxlen = 100"
   ]
  },
  {
   "cell_type": "code",
   "execution_count": 83,
   "metadata": {},
   "outputs": [
    {
     "name": "stdout",
     "output_type": "stream",
     "text": [
      "_________________________________________________________________\n",
      "Layer (type)                 Output Shape              Param #   \n",
      "=================================================================\n",
      "embedding_3 (Embedding)      (None, 100, 50)           25076400  \n",
      "_________________________________________________________________\n",
      "global_max_pooling1d_2 (Glob (None, 50)                0         \n",
      "_________________________________________________________________\n",
      "dense_7 (Dense)              (None, 10)                510       \n",
      "_________________________________________________________________\n",
      "dense_8 (Dense)              (None, 1)                 11        \n",
      "=================================================================\n",
      "Total params: 25,076,921\n",
      "Trainable params: 25,076,921\n",
      "Non-trainable params: 0\n",
      "_________________________________________________________________\n"
     ]
    }
   ],
   "source": [
    "embedding_dim = 50\n",
    "\n",
    "model = Sequential()\n",
    "model.add(layers.Embedding(input_dim=vocab_size, \n",
    "                           output_dim=embedding_dim, \n",
    "                           input_length=maxlen))\n",
    "model.add(layers.GlobalMaxPool1D())\n",
    "model.add(layers.Dense(10, activation='relu'))\n",
    "model.add(layers.Dense(1, activation='sigmoid'))\n",
    "model.compile(optimizer='adam',\n",
    "              loss='binary_crossentropy',\n",
    "              metrics=['accuracy'])\n",
    "model.summary()"
   ]
  },
  {
   "cell_type": "code",
   "execution_count": null,
   "metadata": {},
   "outputs": [],
   "source": [
    "model = Seq"
   ]
  },
  {
   "cell_type": "code",
   "execution_count": 84,
   "metadata": {},
   "outputs": [
    {
     "ename": "KeyboardInterrupt",
     "evalue": "",
     "output_type": "error",
     "traceback": [
      "\u001b[0;31m---------------------------------------------------------------------------\u001b[0m",
      "\u001b[0;31mKeyboardInterrupt\u001b[0m                         Traceback (most recent call last)",
      "\u001b[0;32m<ipython-input-84-d072b34d6144>\u001b[0m in \u001b[0;36m<module>\u001b[0;34m\u001b[0m\n\u001b[1;32m      3\u001b[0m                     \u001b[0mverbose\u001b[0m\u001b[0;34m=\u001b[0m\u001b[0;32mFalse\u001b[0m\u001b[0;34m,\u001b[0m\u001b[0;34m\u001b[0m\u001b[0;34m\u001b[0m\u001b[0m\n\u001b[1;32m      4\u001b[0m                     \u001b[0mvalidation_data\u001b[0m\u001b[0;34m=\u001b[0m\u001b[0;34m(\u001b[0m\u001b[0mx_test\u001b[0m\u001b[0;34m,\u001b[0m \u001b[0my_test\u001b[0m\u001b[0;34m)\u001b[0m\u001b[0;34m,\u001b[0m\u001b[0;34m\u001b[0m\u001b[0;34m\u001b[0m\u001b[0m\n\u001b[0;32m----> 5\u001b[0;31m                     batch_size=10)\n\u001b[0m\u001b[1;32m      6\u001b[0m \u001b[0mloss\u001b[0m\u001b[0;34m,\u001b[0m \u001b[0maccuracy\u001b[0m \u001b[0;34m=\u001b[0m \u001b[0mmodel\u001b[0m\u001b[0;34m.\u001b[0m\u001b[0mevaluate\u001b[0m\u001b[0;34m(\u001b[0m\u001b[0mx_train\u001b[0m\u001b[0;34m,\u001b[0m \u001b[0my_train\u001b[0m\u001b[0;34m,\u001b[0m \u001b[0mverbose\u001b[0m\u001b[0;34m=\u001b[0m\u001b[0;32mFalse\u001b[0m\u001b[0;34m)\u001b[0m\u001b[0;34m\u001b[0m\u001b[0;34m\u001b[0m\u001b[0m\n\u001b[1;32m      7\u001b[0m \u001b[0mprint\u001b[0m\u001b[0;34m(\u001b[0m\u001b[0;34m\"Training Accuracy: {:.4f}\"\u001b[0m\u001b[0;34m.\u001b[0m\u001b[0mformat\u001b[0m\u001b[0;34m(\u001b[0m\u001b[0maccuracy\u001b[0m\u001b[0;34m)\u001b[0m\u001b[0;34m)\u001b[0m\u001b[0;34m\u001b[0m\u001b[0;34m\u001b[0m\u001b[0m\n",
      "\u001b[0;32m~/anaconda3/lib/python3.6/site-packages/keras/engine/training.py\u001b[0m in \u001b[0;36mfit\u001b[0;34m(self, x, y, batch_size, epochs, verbose, callbacks, validation_split, validation_data, shuffle, class_weight, sample_weight, initial_epoch, steps_per_epoch, validation_steps, **kwargs)\u001b[0m\n\u001b[1;32m   1037\u001b[0m                                         \u001b[0minitial_epoch\u001b[0m\u001b[0;34m=\u001b[0m\u001b[0minitial_epoch\u001b[0m\u001b[0;34m,\u001b[0m\u001b[0;34m\u001b[0m\u001b[0;34m\u001b[0m\u001b[0m\n\u001b[1;32m   1038\u001b[0m                                         \u001b[0msteps_per_epoch\u001b[0m\u001b[0;34m=\u001b[0m\u001b[0msteps_per_epoch\u001b[0m\u001b[0;34m,\u001b[0m\u001b[0;34m\u001b[0m\u001b[0;34m\u001b[0m\u001b[0m\n\u001b[0;32m-> 1039\u001b[0;31m                                         validation_steps=validation_steps)\n\u001b[0m\u001b[1;32m   1040\u001b[0m \u001b[0;34m\u001b[0m\u001b[0m\n\u001b[1;32m   1041\u001b[0m     def evaluate(self, x=None, y=None,\n",
      "\u001b[0;32m~/anaconda3/lib/python3.6/site-packages/keras/engine/training_arrays.py\u001b[0m in \u001b[0;36mfit_loop\u001b[0;34m(model, f, ins, out_labels, batch_size, epochs, verbose, callbacks, val_f, val_ins, shuffle, callback_metrics, initial_epoch, steps_per_epoch, validation_steps)\u001b[0m\n\u001b[1;32m    197\u001b[0m                     \u001b[0mins_batch\u001b[0m\u001b[0;34m[\u001b[0m\u001b[0mi\u001b[0m\u001b[0;34m]\u001b[0m \u001b[0;34m=\u001b[0m \u001b[0mins_batch\u001b[0m\u001b[0;34m[\u001b[0m\u001b[0mi\u001b[0m\u001b[0;34m]\u001b[0m\u001b[0;34m.\u001b[0m\u001b[0mtoarray\u001b[0m\u001b[0;34m(\u001b[0m\u001b[0;34m)\u001b[0m\u001b[0;34m\u001b[0m\u001b[0;34m\u001b[0m\u001b[0m\n\u001b[1;32m    198\u001b[0m \u001b[0;34m\u001b[0m\u001b[0m\n\u001b[0;32m--> 199\u001b[0;31m                 \u001b[0mouts\u001b[0m \u001b[0;34m=\u001b[0m \u001b[0mf\u001b[0m\u001b[0;34m(\u001b[0m\u001b[0mins_batch\u001b[0m\u001b[0;34m)\u001b[0m\u001b[0;34m\u001b[0m\u001b[0;34m\u001b[0m\u001b[0m\n\u001b[0m\u001b[1;32m    200\u001b[0m                 \u001b[0mouts\u001b[0m \u001b[0;34m=\u001b[0m \u001b[0mto_list\u001b[0m\u001b[0;34m(\u001b[0m\u001b[0mouts\u001b[0m\u001b[0;34m)\u001b[0m\u001b[0;34m\u001b[0m\u001b[0;34m\u001b[0m\u001b[0m\n\u001b[1;32m    201\u001b[0m                 \u001b[0;32mfor\u001b[0m \u001b[0ml\u001b[0m\u001b[0;34m,\u001b[0m \u001b[0mo\u001b[0m \u001b[0;32min\u001b[0m \u001b[0mzip\u001b[0m\u001b[0;34m(\u001b[0m\u001b[0mout_labels\u001b[0m\u001b[0;34m,\u001b[0m \u001b[0mouts\u001b[0m\u001b[0;34m)\u001b[0m\u001b[0;34m:\u001b[0m\u001b[0;34m\u001b[0m\u001b[0;34m\u001b[0m\u001b[0m\n",
      "\u001b[0;32m~/anaconda3/lib/python3.6/site-packages/keras/backend/tensorflow_backend.py\u001b[0m in \u001b[0;36m__call__\u001b[0;34m(self, inputs)\u001b[0m\n\u001b[1;32m   2713\u001b[0m                 \u001b[0;32mreturn\u001b[0m \u001b[0mself\u001b[0m\u001b[0;34m.\u001b[0m\u001b[0m_legacy_call\u001b[0m\u001b[0;34m(\u001b[0m\u001b[0minputs\u001b[0m\u001b[0;34m)\u001b[0m\u001b[0;34m\u001b[0m\u001b[0;34m\u001b[0m\u001b[0m\n\u001b[1;32m   2714\u001b[0m \u001b[0;34m\u001b[0m\u001b[0m\n\u001b[0;32m-> 2715\u001b[0;31m             \u001b[0;32mreturn\u001b[0m \u001b[0mself\u001b[0m\u001b[0;34m.\u001b[0m\u001b[0m_call\u001b[0m\u001b[0;34m(\u001b[0m\u001b[0minputs\u001b[0m\u001b[0;34m)\u001b[0m\u001b[0;34m\u001b[0m\u001b[0;34m\u001b[0m\u001b[0m\n\u001b[0m\u001b[1;32m   2716\u001b[0m         \u001b[0;32melse\u001b[0m\u001b[0;34m:\u001b[0m\u001b[0;34m\u001b[0m\u001b[0;34m\u001b[0m\u001b[0m\n\u001b[1;32m   2717\u001b[0m             \u001b[0;32mif\u001b[0m \u001b[0mpy_any\u001b[0m\u001b[0;34m(\u001b[0m\u001b[0mis_tensor\u001b[0m\u001b[0;34m(\u001b[0m\u001b[0mx\u001b[0m\u001b[0;34m)\u001b[0m \u001b[0;32mfor\u001b[0m \u001b[0mx\u001b[0m \u001b[0;32min\u001b[0m \u001b[0minputs\u001b[0m\u001b[0;34m)\u001b[0m\u001b[0;34m:\u001b[0m\u001b[0;34m\u001b[0m\u001b[0;34m\u001b[0m\u001b[0m\n",
      "\u001b[0;32m~/anaconda3/lib/python3.6/site-packages/keras/backend/tensorflow_backend.py\u001b[0m in \u001b[0;36m_call\u001b[0;34m(self, inputs)\u001b[0m\n\u001b[1;32m   2673\u001b[0m             \u001b[0mfetched\u001b[0m \u001b[0;34m=\u001b[0m \u001b[0mself\u001b[0m\u001b[0;34m.\u001b[0m\u001b[0m_callable_fn\u001b[0m\u001b[0;34m(\u001b[0m\u001b[0;34m*\u001b[0m\u001b[0marray_vals\u001b[0m\u001b[0;34m,\u001b[0m \u001b[0mrun_metadata\u001b[0m\u001b[0;34m=\u001b[0m\u001b[0mself\u001b[0m\u001b[0;34m.\u001b[0m\u001b[0mrun_metadata\u001b[0m\u001b[0;34m)\u001b[0m\u001b[0;34m\u001b[0m\u001b[0;34m\u001b[0m\u001b[0m\n\u001b[1;32m   2674\u001b[0m         \u001b[0;32melse\u001b[0m\u001b[0;34m:\u001b[0m\u001b[0;34m\u001b[0m\u001b[0;34m\u001b[0m\u001b[0m\n\u001b[0;32m-> 2675\u001b[0;31m             \u001b[0mfetched\u001b[0m \u001b[0;34m=\u001b[0m \u001b[0mself\u001b[0m\u001b[0;34m.\u001b[0m\u001b[0m_callable_fn\u001b[0m\u001b[0;34m(\u001b[0m\u001b[0;34m*\u001b[0m\u001b[0marray_vals\u001b[0m\u001b[0;34m)\u001b[0m\u001b[0;34m\u001b[0m\u001b[0;34m\u001b[0m\u001b[0m\n\u001b[0m\u001b[1;32m   2676\u001b[0m         \u001b[0;32mreturn\u001b[0m \u001b[0mfetched\u001b[0m\u001b[0;34m[\u001b[0m\u001b[0;34m:\u001b[0m\u001b[0mlen\u001b[0m\u001b[0;34m(\u001b[0m\u001b[0mself\u001b[0m\u001b[0;34m.\u001b[0m\u001b[0moutputs\u001b[0m\u001b[0;34m)\u001b[0m\u001b[0;34m]\u001b[0m\u001b[0;34m\u001b[0m\u001b[0;34m\u001b[0m\u001b[0m\n\u001b[1;32m   2677\u001b[0m \u001b[0;34m\u001b[0m\u001b[0m\n",
      "\u001b[0;32m~/anaconda3/lib/python3.6/site-packages/tensorflow/python/client/session.py\u001b[0m in \u001b[0;36m__call__\u001b[0;34m(self, *args, **kwargs)\u001b[0m\n\u001b[1;32m   1437\u001b[0m           ret = tf_session.TF_SessionRunCallable(\n\u001b[1;32m   1438\u001b[0m               \u001b[0mself\u001b[0m\u001b[0;34m.\u001b[0m\u001b[0m_session\u001b[0m\u001b[0;34m.\u001b[0m\u001b[0m_session\u001b[0m\u001b[0;34m,\u001b[0m \u001b[0mself\u001b[0m\u001b[0;34m.\u001b[0m\u001b[0m_handle\u001b[0m\u001b[0;34m,\u001b[0m \u001b[0margs\u001b[0m\u001b[0;34m,\u001b[0m \u001b[0mstatus\u001b[0m\u001b[0;34m,\u001b[0m\u001b[0;34m\u001b[0m\u001b[0;34m\u001b[0m\u001b[0m\n\u001b[0;32m-> 1439\u001b[0;31m               run_metadata_ptr)\n\u001b[0m\u001b[1;32m   1440\u001b[0m         \u001b[0;32mif\u001b[0m \u001b[0mrun_metadata\u001b[0m\u001b[0;34m:\u001b[0m\u001b[0;34m\u001b[0m\u001b[0;34m\u001b[0m\u001b[0m\n\u001b[1;32m   1441\u001b[0m           \u001b[0mproto_data\u001b[0m \u001b[0;34m=\u001b[0m \u001b[0mtf_session\u001b[0m\u001b[0;34m.\u001b[0m\u001b[0mTF_GetBuffer\u001b[0m\u001b[0;34m(\u001b[0m\u001b[0mrun_metadata_ptr\u001b[0m\u001b[0;34m)\u001b[0m\u001b[0;34m\u001b[0m\u001b[0;34m\u001b[0m\u001b[0m\n",
      "\u001b[0;31mKeyboardInterrupt\u001b[0m: "
     ]
    }
   ],
   "source": [
    "history = model.fit(x_train, y_train,\n",
    "                    epochs=20,\n",
    "                    verbose=False,\n",
    "                    validation_data=(x_test, y_test),\n",
    "                    batch_size=10)\n",
    "loss, accuracy = model.evaluate(x_train, y_train, verbose=False)\n",
    "print(\"Training Accuracy: {:.4f}\".format(accuracy))\n",
    "loss, accuracy = model.evaluate(x_test, y_test, verbose=False)\n",
    "print(\"Testing Accuracy:  {:.4f}\".format(accuracy))\n",
    "plot_history(history)"
   ]
  },
  {
   "cell_type": "code",
   "execution_count": 86,
   "metadata": {},
   "outputs": [],
   "source": [
    "model = Word2Vec([corpus_cleaned.words(id) for id in corpus_cleaned.fileids()],\n",
    "                 size=100,      # embedding vector size\n",
    "                 min_count=5,  # consider words that occured at least 5 times\n",
    "                 window=5).wv  # define context as a 5-word window around the target word"
   ]
  },
  {
   "cell_type": "code",
   "execution_count": 89,
   "metadata": {},
   "outputs": [
    {
     "data": {
      "text/plain": [
       "[('innov', 0.7122776508331299),\n",
       " ('entrepreneurship', 0.6833950281143188),\n",
       " ('strategic', 0.681466817855835),\n",
       " ('sustainability', 0.6539676189422607),\n",
       " ('scientific', 0.6463032364845276),\n",
       " ('forefront', 0.6410912275314331),\n",
       " ('advancement', 0.639877438545227),\n",
       " ('infosi', 0.6396197080612183),\n",
       " ('collabor', 0.6393698453903198),\n",
       " ('entrepreneuri', 0.6392096877098083),\n",
       " ('craftsmanship', 0.6317468285560608),\n",
       " ('transformation', 0.6289747357368469),\n",
       " ('centr', 0.6270175576210022),\n",
       " ('slotconferentie', 0.6256694793701172),\n",
       " ('empower', 0.6251667141914368),\n",
       " ('technological', 0.6244235634803772),\n",
       " ('foster', 0.6237552165985107),\n",
       " ('pioneer', 0.622428297996521),\n",
       " ('dedication', 0.6198509931564331),\n",
       " ('innovations', 0.6198229193687439),\n",
       " ('excellence', 0.6197081804275513),\n",
       " ('digitization', 0.6188362240791321),\n",
       " ('collaboration', 0.617637574672699),\n",
       " ('groundbreak', 0.6169220805168152),\n",
       " ('ongo', 0.615318775177002),\n",
       " ('creativity', 0.6150135397911072),\n",
       " ('daring', 0.6131162047386169),\n",
       " ('innovate', 0.612154483795166),\n",
       " ('circular', 0.6099031567573547),\n",
       " ('redefin', 0.6087920665740967)]"
      ]
     },
     "execution_count": 89,
     "metadata": {},
     "output_type": "execute_result"
    }
   ],
   "source": [
    "model.most_similar('innovation', topn=30)"
   ]
  },
  {
   "cell_type": "code",
   "execution_count": 90,
   "metadata": {},
   "outputs": [
    {
     "name": "stderr",
     "output_type": "stream",
     "text": [
      "/Users/septem/anaconda3/lib/python3.6/site-packages/ipykernel_launcher.py:1: DeprecationWarning: Call to deprecated `wv` (Attribute will be removed in 4.0.0, use self instead).\n",
      "  \"\"\"Entry point for launching an IPython kernel.\n"
     ]
    },
    {
     "data": {
      "text/plain": [
       "110166"
      ]
     },
     "execution_count": 90,
     "metadata": {},
     "output_type": "execute_result"
    }
   ],
   "source": [
    "len(model.wv.vocab)"
   ]
  },
  {
   "cell_type": "code",
   "execution_count": 92,
   "metadata": {},
   "outputs": [],
   "source": [
    "with open('website.word2vec', 'wb') as f:\n",
    "    model.save_word2vec_format(f)"
   ]
  },
  {
   "cell_type": "code",
   "execution_count": 94,
   "metadata": {},
   "outputs": [],
   "source": [
    "embedding = model.get_keras_embedding(train_embeddings=False)"
   ]
  },
  {
   "cell_type": "code",
   "execution_count": 97,
   "metadata": {},
   "outputs": [
    {
     "data": {
      "text/plain": [
       "{'name': 'embedding_4',\n",
       " 'trainable': False,\n",
       " 'batch_input_shape': (None, None),\n",
       " 'dtype': 'float32',\n",
       " 'input_dim': 110166,\n",
       " 'output_dim': 100,\n",
       " 'embeddings_initializer': {'class_name': 'RandomUniform',\n",
       "  'config': {'minval': -0.05, 'maxval': 0.05, 'seed': None}},\n",
       " 'embeddings_regularizer': None,\n",
       " 'activity_regularizer': None,\n",
       " 'embeddings_constraint': None,\n",
       " 'mask_zero': False,\n",
       " 'input_length': None}"
      ]
     },
     "execution_count": 97,
     "metadata": {},
     "output_type": "execute_result"
    }
   ],
   "source": [
    "embedding.get_config()"
   ]
  },
  {
   "cell_type": "code",
   "execution_count": null,
   "metadata": {},
   "outputs": [],
   "source": []
  },
  {
   "cell_type": "code",
   "execution_count": 98,
   "metadata": {},
   "outputs": [],
   "source": [
    "from keras.layers import GRU,LSTM,Embedding, Dense"
   ]
  },
  {
   "cell_type": "code",
   "execution_count": 101,
   "metadata": {},
   "outputs": [],
   "source": [
    "tokenizer = Tokenizer()"
   ]
  },
  {
   "cell_type": "code",
   "execution_count": 103,
   "metadata": {},
   "outputs": [],
   "source": [
    "tokenizer.fit_on_texts([corpus_cleaned.raw(id) for id in corpus_cleaned.fileids()])"
   ]
  },
  {
   "cell_type": "code",
   "execution_count": 104,
   "metadata": {},
   "outputs": [],
   "source": [
    "sequences = tokenizer.texts_to_sequences([corpus_cleaned.raw(id) for id in corpus_cleaned.fileids()])"
   ]
  },
  {
   "cell_type": "code",
   "execution_count": 105,
   "metadata": {},
   "outputs": [
    {
     "data": {
      "text/plain": [
       "418597"
      ]
     },
     "execution_count": 105,
     "metadata": {},
     "output_type": "execute_result"
    }
   ],
   "source": [
    "len(tokenizer.word_index)"
   ]
  },
  {
   "cell_type": "code",
   "execution_count": 106,
   "metadata": {},
   "outputs": [],
   "source": [
    "word_lengths = [len(corpus_cleaned.words(id)) for id in corpus_cleaned.fileids()]"
   ]
  },
  {
   "cell_type": "code",
   "execution_count": 114,
   "metadata": {},
   "outputs": [
    {
     "data": {
      "text/plain": [
       "(array([2215.,  562.,  385.,  357.,  268.,  284.,  285.,  329.,   88.,\n",
       "          26.]),\n",
       " array([1.20000e+01, 1.62530e+03, 3.23860e+03, 4.85190e+03, 6.46520e+03,\n",
       "        8.07850e+03, 9.69180e+03, 1.13051e+04, 1.29184e+04, 1.45317e+04,\n",
       "        1.61450e+04]),\n",
       " <a list of 10 Patch objects>)"
      ]
     },
     "execution_count": 114,
     "metadata": {},
     "output_type": "execute_result"
    },
    {
     "data": {
      "image/png": "[encoded data removed]",
      "text/plain": [
       "<Figure size 432x288 with 1 Axes>"
      ]
     },
     "metadata": {},
     "output_type": "display_data"
    }
   ],
   "source": [
    "plt.hist(sorted(word_lengths)[:-20],bins=10)"
   ]
  },
  {
   "cell_type": "code",
   "execution_count": 115,
   "metadata": {},
   "outputs": [],
   "source": [
    "x_pad = pad_sequences(sequences, maxlen = 10000)"
   ]
  },
  {
   "cell_type": "code",
   "execution_count": 116,
   "metadata": {},
   "outputs": [
    {
     "data": {
      "text/plain": [
       "(4819, 10000)"
      ]
     },
     "execution_count": 116,
     "metadata": {},
     "output_type": "execute_result"
    }
   ],
   "source": [
    "x_pad.shape"
   ]
  },
  {
   "cell_type": "code",
   "execution_count": 117,
   "metadata": {},
   "outputs": [],
   "source": [
    "num_of_words = len(tokenizer.word_index)+1"
   ]
  },
  {
   "cell_type": "code",
   "execution_count": 118,
   "metadata": {},
   "outputs": [
    {
     "data": {
      "text/plain": [
       "418598"
      ]
     },
     "execution_count": 118,
     "metadata": {},
     "output_type": "execute_result"
    }
   ],
   "source": [
    "num_of_words"
   ]
  },
  {
   "cell_type": "code",
   "execution_count": 119,
   "metadata": {},
   "outputs": [],
   "source": [
    "embedding_matrix = np.zeros((num_of_words, 100))"
   ]
  },
  {
   "cell_type": "code",
   "execution_count": 128,
   "metadata": {},
   "outputs": [
    {
     "name": "stderr",
     "output_type": "stream",
     "text": [
      "/Users/septem/anaconda3/lib/python3.6/site-packages/ipykernel_launcher.py:1: DeprecationWarning: Call to deprecated `wv` (Attribute will be removed in 4.0.0, use self instead).\n",
      "  \"\"\"Entry point for launching an IPython kernel.\n"
     ]
    },
    {
     "data": {
      "text/plain": [
       "True"
      ]
     },
     "execution_count": 128,
     "metadata": {},
     "output_type": "execute_result"
    }
   ],
   "source": [
    "'s' in model.wv.vocab"
   ]
  },
  {
   "cell_type": "code",
   "execution_count": 129,
   "metadata": {},
   "outputs": [
    {
     "name": "stderr",
     "output_type": "stream",
     "text": [
      "/Users/septem/anaconda3/lib/python3.6/site-packages/ipykernel_launcher.py:4: DeprecationWarning: Call to deprecated `wv` (Attribute will be removed in 4.0.0, use self instead).\n",
      "  after removing the cwd from sys.path.\n",
      "/Users/septem/anaconda3/lib/python3.6/site-packages/ipykernel_launcher.py:5: DeprecationWarning: Call to deprecated `wv` (Attribute will be removed in 4.0.0, use self instead).\n",
      "  \"\"\"\n"
     ]
    }
   ],
   "source": [
    "for word, i in tokenizer.word_index.items():\n",
    "    if i > num_of_words:\n",
    "        continue\n",
    "    if word in model.wv.vocab:\n",
    "        embedding_vector = model.wv.get_vector(word)\n",
    "        embedding_matrix[i] = embedding_vector"
   ]
  },
  {
   "cell_type": "code",
   "execution_count": 130,
   "metadata": {},
   "outputs": [],
   "source": [
    "from keras.initializers import Constant"
   ]
  },
  {
   "cell_type": "code",
   "execution_count": 133,
   "metadata": {},
   "outputs": [
    {
     "name": "stderr",
     "output_type": "stream",
     "text": [
      "/Users/septem/anaconda3/lib/python3.6/site-packages/ipykernel_launcher.py:1: DeprecationWarning: Call to deprecated `wv` (Attribute will be removed in 4.0.0, use self instead).\n",
      "  \"\"\"Entry point for launching an IPython kernel.\n"
     ]
    },
    {
     "name": "stdout",
     "output_type": "stream",
     "text": [
      "_________________________________________________________________\n",
      "Layer (type)                 Output Shape              Param #   \n",
      "=================================================================\n",
      "embedding_6 (Embedding)      (None, 10000, 100)        41859800  \n",
      "_________________________________________________________________\n",
      "gru_3 (GRU)                  (None, 32)                12768     \n",
      "_________________________________________________________________\n",
      "dense_11 (Dense)             (None, 1)                 33        \n",
      "=================================================================\n",
      "Total params: 41,872,601\n",
      "Trainable params: 12,801\n",
      "Non-trainable params: 41,859,800\n",
      "_________________________________________________________________\n"
     ]
    }
   ],
   "source": [
    "model.wv\n",
    "nn = Sequential()\n",
    "embedding_layer = Embedding(num_of_words, 100, \n",
    "                            embeddings_initializer= Constant(embedding_matrix),\n",
    "                            input_length= 10000,trainable=False\n",
    "                           )\n",
    "nn.add(embedding_layer)\n",
    "nn.add(GRU(units=32,dropout=0.2,recurrent_dropout=0.2))\n",
    "nn.add(Dense(1,activation='sigmoid'))\n",
    "nn.compile(loss='binary_crossentropy', optimizer = 'adam',metrics = ['accuracy'])\n",
    "nn.summary()"
   ]
  },
  {
   "cell_type": "code",
   "execution_count": 136,
   "metadata": {},
   "outputs": [],
   "source": [
    "x_train_pad,x_test_pad, y_train,y_test = train_test_split(\n",
    "    x_pad,\n",
    "    df['innov_'], \n",
    "    stratify = df['innov_'],\n",
    "    test_size=0.1)"
   ]
  },
  {
   "cell_type": "code",
   "execution_count": 137,
   "metadata": {},
   "outputs": [
    {
     "data": {
      "text/plain": [
       "((4337, 10000), (482, 10000))"
      ]
     },
     "execution_count": 137,
     "metadata": {},
     "output_type": "execute_result"
    }
   ],
   "source": [
    "x_train_pad.shape, x_test_pad.shape"
   ]
  },
  {
   "cell_type": "code",
   "execution_count": 140,
   "metadata": {},
   "outputs": [
    {
     "name": "stdout",
     "output_type": "stream",
     "text": [
      "Train on 4337 samples, validate on 482 samples\n",
      "Epoch 1/25\n",
      " - 1773s - loss: 0.7064 - acc: 0.5363 - val_loss: 0.7049 - val_acc: 0.5415\n",
      "Epoch 2/25\n",
      " - 2005s - loss: 0.6922 - acc: 0.5555 - val_loss: 0.7005 - val_acc: 0.5519\n",
      "Epoch 3/25\n",
      " - 1146s - loss: 0.6796 - acc: 0.5757 - val_loss: 0.6960 - val_acc: 0.5726\n",
      "Epoch 4/25\n",
      " - 861s - loss: 0.6651 - acc: 0.5970 - val_loss: 0.6927 - val_acc: 0.5934\n",
      "Epoch 5/25\n",
      " - 868s - loss: 0.6648 - acc: 0.5933 - val_loss: 0.6929 - val_acc: 0.5954\n",
      "Epoch 6/25\n",
      " - 865s - loss: 0.6598 - acc: 0.5995 - val_loss: 0.6905 - val_acc: 0.5851\n",
      "Epoch 7/25\n",
      " - 838s - loss: 0.6531 - acc: 0.6156 - val_loss: 0.6949 - val_acc: 0.5830\n",
      "Epoch 8/25\n",
      " - 764s - loss: 0.6473 - acc: 0.6226 - val_loss: 0.6945 - val_acc: 0.5954\n",
      "Epoch 9/25\n",
      " - 817s - loss: 0.6456 - acc: 0.6221 - val_loss: 0.6954 - val_acc: 0.5892\n",
      "Epoch 10/25\n",
      " - 769s - loss: 0.6367 - acc: 0.6341 - val_loss: 0.6988 - val_acc: 0.5809\n",
      "Epoch 11/25\n",
      " - 909s - loss: 0.6362 - acc: 0.6412 - val_loss: 0.7006 - val_acc: 0.5892\n",
      "Epoch 12/25\n",
      " - 786s - loss: 0.6268 - acc: 0.6438 - val_loss: 0.6972 - val_acc: 0.5892\n",
      "Epoch 13/25\n",
      " - 808s - loss: 0.6280 - acc: 0.6491 - val_loss: 0.7011 - val_acc: 0.5913\n",
      "Epoch 14/25\n",
      " - 831s - loss: 0.6205 - acc: 0.6479 - val_loss: 0.7023 - val_acc: 0.5581\n",
      "Epoch 15/25\n",
      " - 906s - loss: 0.6134 - acc: 0.6574 - val_loss: 0.7017 - val_acc: 0.5705\n",
      "Epoch 16/25\n",
      " - 842s - loss: 0.6133 - acc: 0.6629 - val_loss: 0.7049 - val_acc: 0.5560\n",
      "Epoch 17/25\n",
      " - 782s - loss: 0.6061 - acc: 0.6641 - val_loss: 0.7052 - val_acc: 0.5622\n",
      "Epoch 18/25\n",
      " - 918s - loss: 0.6018 - acc: 0.6765 - val_loss: 0.7075 - val_acc: 0.5498\n",
      "Epoch 19/25\n",
      " - 874s - loss: 0.5984 - acc: 0.6728 - val_loss: 0.7108 - val_acc: 0.5622\n",
      "Epoch 20/25\n",
      " - 876s - loss: 0.5898 - acc: 0.6876 - val_loss: 0.7198 - val_acc: 0.5664\n",
      "Epoch 21/25\n",
      " - 796s - loss: 0.5868 - acc: 0.6883 - val_loss: 0.7197 - val_acc: 0.5602\n",
      "Epoch 22/25\n",
      " - 951s - loss: 0.5778 - acc: 0.6936 - val_loss: 0.7209 - val_acc: 0.5270\n",
      "Epoch 23/25\n",
      " - 892s - loss: 0.5737 - acc: 0.6963 - val_loss: 0.7241 - val_acc: 0.5581\n",
      "Epoch 24/25\n",
      " - 807s - loss: 0.5660 - acc: 0.7088 - val_loss: 0.7351 - val_acc: 0.5456\n",
      "Epoch 25/25\n",
      " - 797s - loss: 0.5626 - acc: 0.7120 - val_loss: 0.7328 - val_acc: 0.5311\n"
     ]
    },
    {
     "data": {
      "text/plain": [
       "<keras.callbacks.History at 0x1a42910390>"
      ]
     },
     "execution_count": 140,
     "metadata": {},
     "output_type": "execute_result"
    }
   ],
   "source": [
    "nn.fit(x_train_pad, y_train, batch_size=128,epochs=25, validation_data=(x_test_pad, y_test), verbose=2)"
   ]
  },
  {
   "cell_type": "code",
   "execution_count": 141,
   "metadata": {},
   "outputs": [
    {
     "data": {
      "image/png": "[encoded data removed]",
      "text/plain": [
       "<Figure size 864x360 with 2 Axes>"
      ]
     },
     "metadata": {},
     "output_type": "display_data"
    }
   ],
   "source": [
    "plot_history(nn.history)"
   ]
  },
  {
   "cell_type": "code",
   "execution_count": null,
   "metadata": {},
   "outputs": [],
   "source": []
  },
  {
   "cell_type": "code",
   "execution_count": null,
   "metadata": {},
   "outputs": [],
   "source": []
  }
 ],
 "metadata": {
  "kernelspec": {
   "display_name": "Python 3",
   "language": "python",
   "name": "python3"
  },
  "language_info": {
   "codemirror_mode": {
    "name": "ipython",
    "version": 3
   },
   "file_extension": ".py",
   "mimetype": "text/x-python",
   "name": "python",
   "nbconvert_exporter": "python",
   "pygments_lexer": "ipython3",
   "version": "3.6.8"
  }
 },
 "nbformat": 4,
 "nbformat_minor": 2
}
