{
 "cells": [
  {
   "cell_type": "code",
   "execution_count": 22,
   "metadata": {},
   "outputs": [],
   "source": [
    "import nltk\n",
    "from nltk import sent_tokenize\n",
    "from nltk import word_tokenize\n",
    "from nltk import Text\n",
    "from nltk.corpus import stopwords\n",
    "import matplotlib.pyplot as plt\n",
    "import matplotlib.image as mpimg\n",
    "from nltk.corpus.reader import CategorizedPlaintextCorpusReader\n",
    "import pickle"
   ]
  },
  {
   "cell_type": "code",
   "execution_count": 19,
   "metadata": {},
   "outputs": [
    {
     "name": "stdout",
     "output_type": "stream",
     "text": [
      ".\r\n",
      "  |-traditional\r\n",
      "  |  |-de-DE\r\n",
      "  |  |-\"en-US\"\r\n",
      "  |  |-en-EN\r\n",
      "  |  |-nl-NL-formal\r\n",
      "  |  |-w3c_language_id\r\n",
      "  |  |-en-GB\r\n",
      "  |  |-nl-nl\r\n",
      "  |  |-nl_BNL\r\n",
      "  |  |-en-NL\r\n",
      "  |  |-nl_NL\r\n",
      "  |  |-nl\r\n",
      "  |  |-nl-beleid\r\n",
      "  |  |-nb\r\n",
      "  |  |-de\r\n",
      "  |  |-fi\r\n",
      "  |  |-fr\r\n",
      "  |  |-es\r\n",
      "  |  |-Unknown\r\n",
      "  |  |-en\r\n",
      "  |  |-en-US\r\n",
      "  |  |-nl-BE\r\n",
      "  |-innov\r\n",
      "  |  |-en-jp\r\n",
      "  |  |-de-DE\r\n",
      "  |  |-lang=\r\n",
      "  |  |-en-EU\r\n",
      "  |  |-en-EN\r\n",
      "  |  |-en_us\r\n",
      "  |  |-ja\r\n",
      "  |  |-en-UK\r\n",
      "  |  |-en-BZ\r\n",
      "  |  |-ru\r\n",
      "  |  |-en-gb\r\n",
      "  |  |-nl-NL\r\n",
      "  |  |-*\r\n",
      "  |  |-nl_nl\r\n",
      "  |  |-pt\r\n",
      "  |  |-en 35\r\n",
      "  |  |-en_GB\r\n",
      "  |  |-cs-CZ\r\n",
      "  |  |-\"en\"\r\n",
      "  |  |-nl\r\n",
      "  |  |-nl-VLS\r\n",
      "  |  |-de\r\n",
      "  |  |-fi\r\n",
      "  |  |-fr\r\n",
      "  |  |-Unknown\r\n",
      "  |  |-en\r\n",
      "  |  |-en-US\r\n",
      "  |  |-sk-SK\r\n",
      "  |  |-nl-BE\r\n"
     ]
    }
   ],
   "source": [
    "# the scraped directory structure looks like below with various language indicators and\n",
    "# many webpages even have no language setting\n",
    "!cd /Users/septem/Downloads/Companies_scraped/ && find . -type d | sed -e \"s/[^-][^\\/]*\\//  |/g\" -e \"s/|\\([^ ]\\)/|-\\1/\""
   ]
  },
  {
   "cell_type": "code",
   "execution_count": 203,
   "metadata": {},
   "outputs": [],
   "source": [
    "doc_pattern = r'.*\\.txt';\n",
    "cat_pattern = r'([\\w_/]+)/.*';\n",
    "corpus =CategorizedPlaintextCorpusReader('/Users/septem/Downloads/Companies/', doc_pattern, cat_pattern=cat_pattern)"
   ]
  },
  {
   "cell_type": "code",
   "execution_count": 204,
   "metadata": {},
   "outputs": [
    {
     "data": {
      "text/plain": [
       "['innov',\n",
       " 'innov/Unknown',\n",
       " 'innov/de',\n",
       " 'innov/en',\n",
       " 'innov/en_GB',\n",
       " 'innov/en_us',\n",
       " 'innov/fi',\n",
       " 'innov/fr',\n",
       " 'innov/ja',\n",
       " 'innov/nl']"
      ]
     },
     "execution_count": 204,
     "metadata": {},
     "output_type": "execute_result"
    }
   ],
   "source": [
    "corpus.categories()[:10]"
   ]
  },
  {
   "cell_type": "code",
   "execution_count": 208,
   "metadata": {},
   "outputs": [],
   "source": [
    "t = corpus.raw('innov/Unknown/23951877.txt')"
   ]
  },
  {
   "cell_type": "code",
   "execution_count": 238,
   "metadata": {},
   "outputs": [],
   "source": [
    "w = corpus.words('innov/Unknown/23951877.txt')"
   ]
  },
  {
   "cell_type": "code",
   "execution_count": 210,
   "metadata": {},
   "outputs": [],
   "source": [
    "from nltk import FreqDist"
   ]
  },
  {
   "cell_type": "code",
   "execution_count": 237,
   "metadata": {},
   "outputs": [
    {
     "data": {
      "text/plain": [
       "5093"
      ]
     },
     "execution_count": 237,
     "metadata": {},
     "output_type": "execute_result"
    }
   ],
   "source": [
    "len(corpus.fileids())"
   ]
  },
  {
   "cell_type": "code",
   "execution_count": 222,
   "metadata": {},
   "outputs": [],
   "source": [
    "dutch = stopwords.words('dutch')\n",
    "english = stopwords.words('english')"
   ]
  },
  {
   "cell_type": "code",
   "execution_count": 248,
   "metadata": {},
   "outputs": [],
   "source": [
    "def percent_stopword(words, lang):\n",
    "    total = 0\n",
    "    cnt = 0\n",
    "    for w in words:\n",
    "        if w.lower() in lang:\n",
    "           cnt += 1\n",
    "        total +=1\n",
    "    return cnt/total\n",
    "def detect_lang(words):\n",
    "    '''return the indicator for target language: 0 for other language, 1 for english, 2 for Dutch\n",
    "    '''\n",
    "    en = percent_stopword(words,english)\n",
    "    nl = percent_stopword(words, dutch)\n",
    "    if max(en, nl) < 0.03:\n",
    "        return 0\n",
    "    if en > nl:\n",
    "        return 1\n",
    "    else:\n",
    "        return 2"
   ]
  },
  {
   "cell_type": "code",
   "execution_count": 249,
   "metadata": {},
   "outputs": [],
   "source": [
    "lang_category = []\n",
    "for id in corpus.fileids():\n",
    "    words = corpus.words(id)\n",
    "    if len(words) > 0:\n",
    "        lang_category.append((id, detect_lang(words)))"
   ]
  },
  {
   "cell_type": "code",
   "execution_count": 254,
   "metadata": {},
   "outputs": [],
   "source": [
    "import pickle"
   ]
  },
  {
   "cell_type": "code",
   "execution_count": 257,
   "metadata": {},
   "outputs": [],
   "source": [
    "with open('./lang_category.pickle', 'wb') as f:\n",
    "    pickle.dump(lang_category, f)"
   ]
  },
  {
   "cell_type": "code",
   "execution_count": 23,
   "metadata": {},
   "outputs": [],
   "source": [
    "with open('./pickle/lang_category.pickle', 'rb') as f:\n",
    "    test = pickle.load(f)"
   ]
  },
  {
   "cell_type": "code",
   "execution_count": 26,
   "metadata": {},
   "outputs": [
    {
     "data": {
      "text/plain": [
       "[('innov/\"en\"/15280993.txt', 1),\n",
       " ('innov/*/34159916.txt', 1),\n",
       " ('innov/10053255.txt', 2),\n",
       " ('innov/12404101.txt', 1),\n",
       " ('innov/14765802.txt', 1),\n",
       " ('innov/28188373.txt', 2),\n",
       " ('innov/30354536.txt', 2),\n",
       " ('innov/56013876.txt', 2),\n",
       " ('innov/58371893.txt', 2),\n",
       " ('innov/61644943.txt', 2)]"
      ]
     },
     "execution_count": 26,
     "metadata": {},
     "output_type": "execute_result"
    }
   ],
   "source": [
    "test[:10]"
   ]
  },
  {
   "cell_type": "code",
   "execution_count": 25,
   "metadata": {},
   "outputs": [
    {
     "name": "stdout",
     "output_type": "stream",
     "text": [
      ".\r\n",
      "  |-nl\r\n",
      "  |  |-others\r\n",
      "  |  |-innov\r\n",
      "  |-en\r\n",
      "  |  |-others\r\n",
      "  |  |-innov\r\n",
      "  |-rest\r\n",
      "  |  |-others\r\n",
      "  |  |-innov\r\n"
     ]
    }
   ],
   "source": [
    "#after processing the directory looks like below, the code for move is accidentally deleted however\n",
    "!cd /Users/septem/Downloads/companies2/ && find . -type d | sed -e \"s/[^-][^\\/]*\\//  |/g\" -e \"s/|\\([^ ]\\)/|-\\1/\""
   ]
  }
 ],
 "metadata": {
  "kernelspec": {
   "display_name": "Python 3",
   "language": "python",
   "name": "python3"
  },
  "language_info": {
   "codemirror_mode": {
    "name": "ipython",
    "version": 3
   },
   "file_extension": ".py",
   "mimetype": "text/x-python",
   "name": "python",
   "nbconvert_exporter": "python",
   "pygments_lexer": "ipython3",
   "version": "3.6.8"
  }
 },
 "nbformat": 4,
 "nbformat_minor": 2
}
